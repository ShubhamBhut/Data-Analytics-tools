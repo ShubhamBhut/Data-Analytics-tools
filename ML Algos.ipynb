{
 "cells": [
  {
   "attachments": {},
   "cell_type": "markdown",
   "id": "6945fdcf",
   "metadata": {},
   "source": [
    "# Gradient Descent"
   ]
  },
  {
   "cell_type": "code",
   "execution_count": 14,
   "id": "fac7c75e",
   "metadata": {},
   "outputs": [],
   "source": [
    "from sympy import *\n",
    "import sympy as sym"
   ]
  },
  {
   "cell_type": "code",
   "execution_count": 3,
   "id": "57727fc6",
   "metadata": {},
   "outputs": [],
   "source": [
    "# input function is 3x^2+4y^2-5x+7\n",
    "\n",
    "x, y = symbols('x, y')\n",
    "input_function = 3*(x**2) + 4*(y**2) - 5*x +7"
   ]
  },
  {
   "cell_type": "code",
   "execution_count": 6,
   "id": "92e666fe",
   "metadata": {},
   "outputs": [],
   "source": [
    "df_x = diff(input_function, x)\n",
    "df_y = diff(input_function, y)"
   ]
  },
  {
   "cell_type": "code",
   "execution_count": 15,
   "id": "d15a4fec",
   "metadata": {},
   "outputs": [],
   "source": [
    "def gradient_descent(f, x0, lr, tol=1e-6):\n",
    "    x = sym.Symbol('x')\n",
    "    y = sym.Symbol('y')\n",
    "    fx = f(x, y)\n",
    "    df_x = fx.diff(x)\n",
    "    df_y = fx.diff(y)\n",
    "    w_old = x0\n",
    "    w_new = w_old\n",
    "    while True:\n",
    "        x, y = w_new[0], w_new[1]\n",
    "        grad_x, grad_y = df_x.evalf(subs={x: x, y: y}), df_y.evalf(subs={x: x, y: y})\n",
    "        w_new = w_old - lr * sym.Matrix([grad_x, grad_y])\n",
    "        if sym.Matrix.norm(w_new - w_old) < tol:\n",
    "            break\n",
    "        w_old = w_new\n",
    "    return w_new"
   ]
  },
  {
   "cell_type": "code",
   "execution_count": 17,
   "id": "ae776d16",
   "metadata": {},
   "outputs": [
    {
     "ename": "TypeError",
     "evalue": "'Add' object is not callable",
     "output_type": "error",
     "traceback": [
      "\u001b[0;31m---------------------------------------------------------------------------\u001b[0m",
      "\u001b[0;31mTypeError\u001b[0m                                 Traceback (most recent call last)",
      "Cell \u001b[0;32mIn[17], line 1\u001b[0m\n\u001b[0;32m----> 1\u001b[0m gradient_descent(input_function, \u001b[39m5\u001b[39;49m, \u001b[39m0.01\u001b[39;49m)\n",
      "Cell \u001b[0;32mIn[15], line 4\u001b[0m, in \u001b[0;36mgradient_descent\u001b[0;34m(f, x0, lr, tol)\u001b[0m\n\u001b[1;32m      2\u001b[0m x \u001b[39m=\u001b[39m sym\u001b[39m.\u001b[39mSymbol(\u001b[39m'\u001b[39m\u001b[39mx\u001b[39m\u001b[39m'\u001b[39m)\n\u001b[1;32m      3\u001b[0m y \u001b[39m=\u001b[39m sym\u001b[39m.\u001b[39mSymbol(\u001b[39m'\u001b[39m\u001b[39my\u001b[39m\u001b[39m'\u001b[39m)\n\u001b[0;32m----> 4\u001b[0m fx \u001b[39m=\u001b[39m f(x, y)\n\u001b[1;32m      5\u001b[0m df_x \u001b[39m=\u001b[39m fx\u001b[39m.\u001b[39mdiff(x)\n\u001b[1;32m      6\u001b[0m df_y \u001b[39m=\u001b[39m fx\u001b[39m.\u001b[39mdiff(y)\n",
      "\u001b[0;31mTypeError\u001b[0m: 'Add' object is not callable"
     ]
    }
   ],
   "source": [
    "gradient_descent(input_function, 5, 0.01)"
   ]
  },
  {
   "cell_type": "code",
   "execution_count": null,
   "id": "d572f2e7",
   "metadata": {},
   "outputs": [],
   "source": []
  }
 ],
 "metadata": {
  "kernelspec": {
   "display_name": "Python 3 (ipykernel)",
   "language": "python",
   "name": "python3"
  },
  "language_info": {
   "codemirror_mode": {
    "name": "ipython",
    "version": 3
   },
   "file_extension": ".py",
   "mimetype": "text/x-python",
   "name": "python",
   "nbconvert_exporter": "python",
   "pygments_lexer": "ipython3",
   "version": "3.11.1"
  }
 },
 "nbformat": 4,
 "nbformat_minor": 5
}
