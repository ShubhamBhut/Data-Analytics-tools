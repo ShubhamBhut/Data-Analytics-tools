{
 "cells": [
  {
   "cell_type": "code",
   "execution_count": 1,
   "metadata": {
    "_cell_guid": "b1076dfc-b9ad-4769-8c92-a6c4dae69d19",
    "_uuid": "8f2839f25d086af736a60e9eeb907d3b93b6e0e5",
    "execution": {
     "iopub.execute_input": "2023-02-02T05:57:31.612464Z",
     "iopub.status.busy": "2023-02-02T05:57:31.610493Z",
     "iopub.status.idle": "2023-02-02T05:57:31.661028Z",
     "shell.execute_reply": "2023-02-02T05:57:31.659950Z",
     "shell.execute_reply.started": "2023-02-02T05:57:31.612322Z"
    }
   },
   "outputs": [],
   "source": [
    "# This Python 3 environment comes with many helpful analytics libraries installed\n",
    "# It is defined by the kaggle/python Docker image: https://github.com/kaggle/docker-python\n",
    "# For example, here's several helpful packages to load\n",
    "\n",
    "import numpy as np # linear algebra\n",
    "import pandas as pd # data processing, CSV file I/O (e.g. pd.read_csv)\n",
    "\n",
    "# Input data files are available in the read-only \"../input/\" directory\n",
    "# For example, running this (by clicking run or pressing Shift+Enter) will list all files under thppe input directory\n",
    "\n",
    "import os\n",
    "for dirname, _, filenames in os.walk('/kaggle/input'):\n",
    "    for filename in filenames:\n",
    "        print(os.path.join(dirname, filename))\n",
    "\n",
    "# You can write up to 20GB to the current directory (/kaggle/working/) that gets preserved as output when you create a version using \"Save & Run All\" \n",
    "# You can also write temporary files to /kaggle/temp/, but they won't be saved outside of the current session"
   ]
  },
  {
   "cell_type": "code",
   "execution_count": 3,
   "metadata": {
    "execution": {
     "iopub.execute_input": "2023-02-02T05:57:31.663090Z",
     "iopub.status.busy": "2023-02-02T05:57:31.662519Z",
     "iopub.status.idle": "2023-02-02T05:57:31.737806Z",
     "shell.execute_reply": "2023-02-02T05:57:31.736800Z",
     "shell.execute_reply.started": "2023-02-02T05:57:31.663055Z"
    }
   },
   "outputs": [],
   "source": [
    "data = pd.read_csv(\"./software_salary_dataset/Salary_Dataset_with_Extra_Features.csv\")"
   ]
  },
  {
   "cell_type": "code",
   "execution_count": 4,
   "metadata": {
    "execution": {
     "iopub.execute_input": "2023-02-02T05:57:31.739649Z",
     "iopub.status.busy": "2023-02-02T05:57:31.739115Z",
     "iopub.status.idle": "2023-02-02T05:57:31.747445Z",
     "shell.execute_reply": "2023-02-02T05:57:31.746547Z",
     "shell.execute_reply.started": "2023-02-02T05:57:31.739613Z"
    }
   },
   "outputs": [
    {
     "data": {
      "text/plain": [
       "(22770, 8)"
      ]
     },
     "execution_count": 4,
     "metadata": {},
     "output_type": "execute_result"
    }
   ],
   "source": [
    "data.shape"
   ]
  },
  {
   "cell_type": "code",
   "execution_count": 5,
   "metadata": {
    "execution": {
     "iopub.execute_input": "2023-02-02T05:57:31.749238Z",
     "iopub.status.busy": "2023-02-02T05:57:31.748889Z",
     "iopub.status.idle": "2023-02-02T05:57:31.788503Z",
     "shell.execute_reply": "2023-02-02T05:57:31.787530Z",
     "shell.execute_reply.started": "2023-02-02T05:57:31.749208Z"
    }
   },
   "outputs": [
    {
     "name": "stdout",
     "output_type": "stream",
     "text": [
      "<class 'pandas.core.frame.DataFrame'>\n",
      "RangeIndex: 22770 entries, 0 to 22769\n",
      "Data columns (total 8 columns):\n",
      " #   Column             Non-Null Count  Dtype  \n",
      "---  ------             --------------  -----  \n",
      " 0   Rating             22770 non-null  float64\n",
      " 1   Company Name       22770 non-null  object \n",
      " 2   Job Title          22770 non-null  object \n",
      " 3   Salary             22770 non-null  int64  \n",
      " 4   Salaries Reported  22770 non-null  int64  \n",
      " 5   Location           22770 non-null  object \n",
      " 6   Employment Status  22770 non-null  object \n",
      " 7   Job Roles          22770 non-null  object \n",
      "dtypes: float64(1), int64(2), object(5)\n",
      "memory usage: 1.4+ MB\n"
     ]
    }
   ],
   "source": [
    "data.info()"
   ]
  },
  {
   "cell_type": "code",
   "execution_count": 6,
   "metadata": {
    "execution": {
     "iopub.execute_input": "2023-02-02T05:57:31.790715Z",
     "iopub.status.busy": "2023-02-02T05:57:31.790070Z",
     "iopub.status.idle": "2023-02-02T05:57:31.822369Z",
     "shell.execute_reply": "2023-02-02T05:57:31.821409Z",
     "shell.execute_reply.started": "2023-02-02T05:57:31.790669Z"
    }
   },
   "outputs": [
    {
     "data": {
      "text/html": [
       "<div>\n",
       "<style scoped>\n",
       "    .dataframe tbody tr th:only-of-type {\n",
       "        vertical-align: middle;\n",
       "    }\n",
       "\n",
       "    .dataframe tbody tr th {\n",
       "        vertical-align: top;\n",
       "    }\n",
       "\n",
       "    .dataframe thead th {\n",
       "        text-align: right;\n",
       "    }\n",
       "</style>\n",
       "<table border=\"1\" class=\"dataframe\">\n",
       "  <thead>\n",
       "    <tr style=\"text-align: right;\">\n",
       "      <th></th>\n",
       "      <th>Rating</th>\n",
       "      <th>Salary</th>\n",
       "      <th>Salaries Reported</th>\n",
       "    </tr>\n",
       "  </thead>\n",
       "  <tbody>\n",
       "    <tr>\n",
       "      <th>count</th>\n",
       "      <td>22770.000000</td>\n",
       "      <td>2.277000e+04</td>\n",
       "      <td>22770.000000</td>\n",
       "    </tr>\n",
       "    <tr>\n",
       "      <th>mean</th>\n",
       "      <td>3.918213</td>\n",
       "      <td>6.953872e+05</td>\n",
       "      <td>1.855775</td>\n",
       "    </tr>\n",
       "    <tr>\n",
       "      <th>std</th>\n",
       "      <td>0.519675</td>\n",
       "      <td>8.843990e+05</td>\n",
       "      <td>6.823668</td>\n",
       "    </tr>\n",
       "    <tr>\n",
       "      <th>min</th>\n",
       "      <td>1.000000</td>\n",
       "      <td>2.112000e+03</td>\n",
       "      <td>1.000000</td>\n",
       "    </tr>\n",
       "    <tr>\n",
       "      <th>25%</th>\n",
       "      <td>3.700000</td>\n",
       "      <td>3.000000e+05</td>\n",
       "      <td>1.000000</td>\n",
       "    </tr>\n",
       "    <tr>\n",
       "      <th>50%</th>\n",
       "      <td>3.900000</td>\n",
       "      <td>5.000000e+05</td>\n",
       "      <td>1.000000</td>\n",
       "    </tr>\n",
       "    <tr>\n",
       "      <th>75%</th>\n",
       "      <td>4.200000</td>\n",
       "      <td>9.000000e+05</td>\n",
       "      <td>1.000000</td>\n",
       "    </tr>\n",
       "    <tr>\n",
       "      <th>max</th>\n",
       "      <td>5.000000</td>\n",
       "      <td>9.000000e+07</td>\n",
       "      <td>361.000000</td>\n",
       "    </tr>\n",
       "  </tbody>\n",
       "</table>\n",
       "</div>"
      ],
      "text/plain": [
       "             Rating        Salary  Salaries Reported\n",
       "count  22770.000000  2.277000e+04       22770.000000\n",
       "mean       3.918213  6.953872e+05           1.855775\n",
       "std        0.519675  8.843990e+05           6.823668\n",
       "min        1.000000  2.112000e+03           1.000000\n",
       "25%        3.700000  3.000000e+05           1.000000\n",
       "50%        3.900000  5.000000e+05           1.000000\n",
       "75%        4.200000  9.000000e+05           1.000000\n",
       "max        5.000000  9.000000e+07         361.000000"
      ]
     },
     "execution_count": 6,
     "metadata": {},
     "output_type": "execute_result"
    }
   ],
   "source": [
    "data.describe()"
   ]
  },
  {
   "cell_type": "code",
   "execution_count": 7,
   "metadata": {
    "execution": {
     "iopub.execute_input": "2023-02-02T06:00:34.266487Z",
     "iopub.status.busy": "2023-02-02T06:00:34.266084Z",
     "iopub.status.idle": "2023-02-02T06:00:34.279012Z",
     "shell.execute_reply": "2023-02-02T06:00:34.277746Z",
     "shell.execute_reply.started": "2023-02-02T06:00:34.266455Z"
    }
   },
   "outputs": [
    {
     "data": {
      "text/plain": [
       "count     22770\n",
       "unique       11\n",
       "top         SDE\n",
       "freq       8183\n",
       "Name: Job Roles, dtype: object"
      ]
     },
     "execution_count": 7,
     "metadata": {},
     "output_type": "execute_result"
    }
   ],
   "source": [
    "data['Job Roles'].describe()"
   ]
  },
  {
   "cell_type": "code",
   "execution_count": 8,
   "metadata": {
    "execution": {
     "iopub.execute_input": "2023-02-02T06:00:35.446315Z",
     "iopub.status.busy": "2023-02-02T06:00:35.445525Z",
     "iopub.status.idle": "2023-02-02T06:00:35.452762Z",
     "shell.execute_reply": "2023-02-02T06:00:35.451844Z",
     "shell.execute_reply.started": "2023-02-02T06:00:35.446270Z"
    }
   },
   "outputs": [
    {
     "data": {
      "text/plain": [
       "695387.2112428634"
      ]
     },
     "execution_count": 8,
     "metadata": {},
     "output_type": "execute_result"
    }
   ],
   "source": [
    "data['Salary'].mean()"
   ]
  },
  {
   "cell_type": "code",
   "execution_count": 9,
   "metadata": {
    "execution": {
     "iopub.execute_input": "2023-02-02T06:00:38.516581Z",
     "iopub.status.busy": "2023-02-02T06:00:38.516127Z",
     "iopub.status.idle": "2023-02-02T06:00:38.522555Z",
     "shell.execute_reply": "2023-02-02T06:00:38.521231Z",
     "shell.execute_reply.started": "2023-02-02T06:00:38.516545Z"
    }
   },
   "outputs": [],
   "source": [
    "#Numpy begins\n",
    "a = np.array([1,2,3,4])\n",
    "b = np.array([5,6,7,8])"
   ]
  },
  {
   "cell_type": "code",
   "execution_count": 10,
   "metadata": {
    "execution": {
     "iopub.execute_input": "2023-02-02T06:00:41.116240Z",
     "iopub.status.busy": "2023-02-02T06:00:41.115815Z",
     "iopub.status.idle": "2023-02-02T06:00:41.125385Z",
     "shell.execute_reply": "2023-02-02T06:00:41.124400Z",
     "shell.execute_reply.started": "2023-02-02T06:00:41.116207Z"
    }
   },
   "outputs": [
    {
     "data": {
      "text/plain": [
       "array([2, 3])"
      ]
     },
     "execution_count": 10,
     "metadata": {},
     "output_type": "execute_result"
    }
   ],
   "source": [
    "#slicing works just like in python\n",
    "a[1:3]"
   ]
  },
  {
   "cell_type": "code",
   "execution_count": 11,
   "metadata": {
    "execution": {
     "iopub.execute_input": "2023-02-02T06:00:42.316532Z",
     "iopub.status.busy": "2023-02-02T06:00:42.316120Z",
     "iopub.status.idle": "2023-02-02T06:00:42.323355Z",
     "shell.execute_reply": "2023-02-02T06:00:42.322335Z",
     "shell.execute_reply.started": "2023-02-02T06:00:42.316499Z"
    }
   },
   "outputs": [
    {
     "data": {
      "text/plain": [
       "array([5, 7, 6])"
      ]
     },
     "execution_count": 11,
     "metadata": {},
     "output_type": "execute_result"
    }
   ],
   "source": [
    "# Multiple indexing\n",
    "b[[0,2,1]]"
   ]
  },
  {
   "cell_type": "code",
   "execution_count": 12,
   "metadata": {
    "execution": {
     "iopub.execute_input": "2023-02-02T06:00:43.568398Z",
     "iopub.status.busy": "2023-02-02T06:00:43.565959Z",
     "iopub.status.idle": "2023-02-02T06:00:43.575180Z",
     "shell.execute_reply": "2023-02-02T06:00:43.574064Z",
     "shell.execute_reply.started": "2023-02-02T06:00:43.568351Z"
    }
   },
   "outputs": [
    {
     "name": "stdout",
     "output_type": "stream",
     "text": [
      "int64\n",
      "int8\n"
     ]
    }
   ],
   "source": [
    "print(a.dtype)\n",
    "a = np.array([1,2,3,4],dtype=np.int8)\n",
    "print(a.dtype)"
   ]
  },
  {
   "cell_type": "code",
   "execution_count": 13,
   "metadata": {
    "execution": {
     "iopub.execute_input": "2023-02-02T06:01:08.802259Z",
     "iopub.status.busy": "2023-02-02T06:01:08.801847Z",
     "iopub.status.idle": "2023-02-02T06:01:08.807360Z",
     "shell.execute_reply": "2023-02-02T06:01:08.806334Z",
     "shell.execute_reply.started": "2023-02-02T06:01:08.802224Z"
    }
   },
   "outputs": [],
   "source": [
    "c = np.array([[1,2,3],\n",
    "          [4,5,6]\n",
    "         ])"
   ]
  },
  {
   "cell_type": "code",
   "execution_count": 14,
   "metadata": {
    "execution": {
     "iopub.execute_input": "2023-02-02T06:01:11.516270Z",
     "iopub.status.busy": "2023-02-02T06:01:11.515823Z",
     "iopub.status.idle": "2023-02-02T06:01:11.523214Z",
     "shell.execute_reply": "2023-02-02T06:01:11.522064Z",
     "shell.execute_reply.started": "2023-02-02T06:01:11.516232Z"
    }
   },
   "outputs": [
    {
     "data": {
      "text/plain": [
       "(2, 3)"
      ]
     },
     "execution_count": 14,
     "metadata": {},
     "output_type": "execute_result"
    }
   ],
   "source": [
    "c.shape"
   ]
  },
  {
   "cell_type": "code",
   "execution_count": 15,
   "metadata": {
    "execution": {
     "iopub.execute_input": "2023-02-02T06:01:17.583428Z",
     "iopub.status.busy": "2023-02-02T06:01:17.582912Z",
     "iopub.status.idle": "2023-02-02T06:01:17.589383Z",
     "shell.execute_reply": "2023-02-02T06:01:17.588181Z",
     "shell.execute_reply.started": "2023-02-02T06:01:17.583387Z"
    }
   },
   "outputs": [
    {
     "name": "stdout",
     "output_type": "stream",
     "text": [
      "2\n",
      "6\n"
     ]
    }
   ],
   "source": [
    "#dimensions\n",
    "print(c.ndim)\n",
    "#size\n",
    "print(c.size)"
   ]
  },
  {
   "cell_type": "code",
   "execution_count": 16,
   "metadata": {
    "execution": {
     "iopub.execute_input": "2023-02-02T06:01:21.966834Z",
     "iopub.status.busy": "2023-02-02T06:01:21.966372Z",
     "iopub.status.idle": "2023-02-02T06:01:21.972240Z",
     "shell.execute_reply": "2023-02-02T06:01:21.971197Z",
     "shell.execute_reply.started": "2023-02-02T06:01:21.966775Z"
    }
   },
   "outputs": [],
   "source": [
    "d = np.array([[1,2,3],\n",
    "             [4,5,6],\n",
    "             [7,8,9]])"
   ]
  },
  {
   "cell_type": "code",
   "execution_count": 17,
   "metadata": {
    "execution": {
     "iopub.execute_input": "2023-02-02T06:01:28.578186Z",
     "iopub.status.busy": "2023-02-02T06:01:28.577025Z",
     "iopub.status.idle": "2023-02-02T06:01:28.584177Z",
     "shell.execute_reply": "2023-02-02T06:01:28.583214Z",
     "shell.execute_reply.started": "2023-02-02T06:01:28.578141Z"
    }
   },
   "outputs": [
    {
     "data": {
      "text/plain": [
       "array([4, 5, 6])"
      ]
     },
     "execution_count": 17,
     "metadata": {},
     "output_type": "execute_result"
    }
   ],
   "source": [
    "d[1]"
   ]
  },
  {
   "cell_type": "code",
   "execution_count": 18,
   "metadata": {
    "execution": {
     "iopub.execute_input": "2023-02-02T06:01:29.156025Z",
     "iopub.status.busy": "2023-02-02T06:01:29.155601Z",
     "iopub.status.idle": "2023-02-02T06:01:29.162822Z",
     "shell.execute_reply": "2023-02-02T06:01:29.161881Z",
     "shell.execute_reply.started": "2023-02-02T06:01:29.155991Z"
    }
   },
   "outputs": [
    {
     "data": {
      "text/plain": [
       "4"
      ]
     },
     "execution_count": 18,
     "metadata": {},
     "output_type": "execute_result"
    }
   ],
   "source": [
    "d[1,0]"
   ]
  },
  {
   "cell_type": "code",
   "execution_count": 19,
   "metadata": {
    "execution": {
     "iopub.execute_input": "2023-02-02T06:01:30.016361Z",
     "iopub.status.busy": "2023-02-02T06:01:30.015904Z",
     "iopub.status.idle": "2023-02-02T06:01:30.022892Z",
     "shell.execute_reply": "2023-02-02T06:01:30.021931Z",
     "shell.execute_reply.started": "2023-02-02T06:01:30.016327Z"
    }
   },
   "outputs": [
    {
     "data": {
      "text/plain": [
       "4"
      ]
     },
     "execution_count": 19,
     "metadata": {},
     "output_type": "execute_result"
    }
   ],
   "source": [
    "d[1][0]"
   ]
  },
  {
   "cell_type": "code",
   "execution_count": 20,
   "metadata": {
    "execution": {
     "iopub.execute_input": "2023-02-02T06:01:32.296480Z",
     "iopub.status.busy": "2023-02-02T06:01:32.296043Z",
     "iopub.status.idle": "2023-02-02T06:01:32.303345Z",
     "shell.execute_reply": "2023-02-02T06:01:32.302342Z",
     "shell.execute_reply.started": "2023-02-02T06:01:32.296443Z"
    }
   },
   "outputs": [
    {
     "data": {
      "text/plain": [
       "array([[1, 2, 3],\n",
       "       [4, 5, 6],\n",
       "       [7, 8, 9]])"
      ]
     },
     "execution_count": 20,
     "metadata": {},
     "output_type": "execute_result"
    }
   ],
   "source": [
    "d"
   ]
  },
  {
   "cell_type": "code",
   "execution_count": 21,
   "metadata": {
    "execution": {
     "iopub.execute_input": "2023-02-02T06:01:33.280835Z",
     "iopub.status.busy": "2023-02-02T06:01:33.280419Z",
     "iopub.status.idle": "2023-02-02T06:01:33.287353Z",
     "shell.execute_reply": "2023-02-02T06:01:33.286407Z",
     "shell.execute_reply.started": "2023-02-02T06:01:33.280803Z"
    }
   },
   "outputs": [
    {
     "data": {
      "text/plain": [
       "45"
      ]
     },
     "execution_count": 21,
     "metadata": {},
     "output_type": "execute_result"
    }
   ],
   "source": [
    "d.sum()"
   ]
  },
  {
   "cell_type": "code",
   "execution_count": 22,
   "metadata": {
    "execution": {
     "iopub.execute_input": "2023-02-02T06:01:34.116394Z",
     "iopub.status.busy": "2023-02-02T06:01:34.115948Z",
     "iopub.status.idle": "2023-02-02T06:01:34.124246Z",
     "shell.execute_reply": "2023-02-02T06:01:34.123066Z",
     "shell.execute_reply.started": "2023-02-02T06:01:34.116359Z"
    }
   },
   "outputs": [
    {
     "data": {
      "text/plain": [
       "5.0"
      ]
     },
     "execution_count": 22,
     "metadata": {},
     "output_type": "execute_result"
    }
   ],
   "source": [
    "d.mean()"
   ]
  },
  {
   "cell_type": "code",
   "execution_count": 23,
   "metadata": {
    "execution": {
     "iopub.execute_input": "2023-02-02T06:01:37.786728Z",
     "iopub.status.busy": "2023-02-02T06:01:37.785708Z",
     "iopub.status.idle": "2023-02-02T06:01:37.794009Z",
     "shell.execute_reply": "2023-02-02T06:01:37.793062Z",
     "shell.execute_reply.started": "2023-02-02T06:01:37.786674Z"
    }
   },
   "outputs": [
    {
     "data": {
      "text/plain": [
       "array([12, 15, 18])"
      ]
     },
     "execution_count": 23,
     "metadata": {},
     "output_type": "execute_result"
    }
   ],
   "source": [
    "#Verticle\n",
    "d.sum(axis=0)"
   ]
  },
  {
   "cell_type": "code",
   "execution_count": 24,
   "metadata": {
    "execution": {
     "iopub.execute_input": "2023-02-02T06:01:40.501900Z",
     "iopub.status.busy": "2023-02-02T06:01:40.501116Z",
     "iopub.status.idle": "2023-02-02T06:01:40.509255Z",
     "shell.execute_reply": "2023-02-02T06:01:40.508091Z",
     "shell.execute_reply.started": "2023-02-02T06:01:40.501852Z"
    }
   },
   "outputs": [
    {
     "data": {
      "text/plain": [
       "2.581988897471611"
      ]
     },
     "execution_count": 24,
     "metadata": {},
     "output_type": "execute_result"
    }
   ],
   "source": [
    "#standard deviation, can be taken by axies too\n",
    "d.std()"
   ]
  },
  {
   "cell_type": "code",
   "execution_count": 25,
   "metadata": {
    "execution": {
     "iopub.execute_input": "2023-02-02T06:01:49.177385Z",
     "iopub.status.busy": "2023-02-02T06:01:49.176958Z",
     "iopub.status.idle": "2023-02-02T06:01:49.183650Z",
     "shell.execute_reply": "2023-02-02T06:01:49.182852Z",
     "shell.execute_reply.started": "2023-02-02T06:01:49.177351Z"
    }
   },
   "outputs": [
    {
     "data": {
      "text/plain": [
       "array([0, 1, 2, 3])"
      ]
     },
     "execution_count": 25,
     "metadata": {},
     "output_type": "execute_result"
    }
   ],
   "source": [
    "#vectorization and Broadcasting\n",
    "a = np.arange(4)\n",
    "a"
   ]
  },
  {
   "cell_type": "code",
   "execution_count": 26,
   "metadata": {
    "execution": {
     "iopub.execute_input": "2023-02-02T06:01:52.006422Z",
     "iopub.status.busy": "2023-02-02T06:01:52.005942Z",
     "iopub.status.idle": "2023-02-02T06:01:52.013280Z",
     "shell.execute_reply": "2023-02-02T06:01:52.012064Z",
     "shell.execute_reply.started": "2023-02-02T06:01:52.006386Z"
    }
   },
   "outputs": [
    {
     "data": {
      "text/plain": [
       "array([5, 6, 7, 8])"
      ]
     },
     "execution_count": 26,
     "metadata": {},
     "output_type": "execute_result"
    }
   ],
   "source": [
    "a+5"
   ]
  },
  {
   "cell_type": "code",
   "execution_count": 27,
   "metadata": {
    "execution": {
     "iopub.execute_input": "2023-02-02T06:01:59.281881Z",
     "iopub.status.busy": "2023-02-02T06:01:59.281452Z",
     "iopub.status.idle": "2023-02-02T06:01:59.287903Z",
     "shell.execute_reply": "2023-02-02T06:01:59.286961Z",
     "shell.execute_reply.started": "2023-02-02T06:01:59.281848Z"
    }
   },
   "outputs": [
    {
     "data": {
      "text/plain": [
       "array([0, 1, 2, 3])"
      ]
     },
     "execution_count": 27,
     "metadata": {},
     "output_type": "execute_result"
    }
   ],
   "source": [
    "a\n",
    "# note that this didn't affect original array, it created a new array of a+5, to pass it by reference, do a+=5"
   ]
  },
  {
   "cell_type": "code",
   "execution_count": 28,
   "metadata": {
    "execution": {
     "iopub.execute_input": "2023-02-02T06:02:10.607248Z",
     "iopub.status.busy": "2023-02-02T06:02:10.606769Z",
     "iopub.status.idle": "2023-02-02T06:02:10.614180Z",
     "shell.execute_reply": "2023-02-02T06:02:10.613185Z",
     "shell.execute_reply.started": "2023-02-02T06:02:10.607210Z"
    }
   },
   "outputs": [
    {
     "data": {
      "text/plain": [
       "array([10, 11, 12, 13])"
      ]
     },
     "execution_count": 28,
     "metadata": {},
     "output_type": "execute_result"
    }
   ],
   "source": [
    "b = np.array([10,10,10,10])\n",
    "a+b"
   ]
  },
  {
   "cell_type": "code",
   "execution_count": 29,
   "metadata": {
    "execution": {
     "iopub.execute_input": "2023-02-02T06:02:12.056600Z",
     "iopub.status.busy": "2023-02-02T06:02:12.056141Z",
     "iopub.status.idle": "2023-02-02T06:02:12.063112Z",
     "shell.execute_reply": "2023-02-02T06:02:12.062043Z",
     "shell.execute_reply.started": "2023-02-02T06:02:12.056556Z"
    }
   },
   "outputs": [
    {
     "data": {
      "text/plain": [
       "array([[1, 2, 3],\n",
       "       [4, 5, 6],\n",
       "       [7, 8, 9]])"
      ]
     },
     "execution_count": 29,
     "metadata": {},
     "output_type": "execute_result"
    }
   ],
   "source": [
    "d"
   ]
  },
  {
   "cell_type": "code",
   "execution_count": 30,
   "metadata": {
    "execution": {
     "iopub.execute_input": "2023-02-02T06:02:21.222048Z",
     "iopub.status.busy": "2023-02-02T06:02:21.221632Z",
     "iopub.status.idle": "2023-02-02T06:02:21.227941Z",
     "shell.execute_reply": "2023-02-02T06:02:21.226717Z",
     "shell.execute_reply.started": "2023-02-02T06:02:21.222016Z"
    }
   },
   "outputs": [],
   "source": [
    "e = np.array([[6,5],\n",
    "                [4,3],\n",
    "                [2,1]])"
   ]
  },
  {
   "cell_type": "code",
   "execution_count": 31,
   "metadata": {
    "execution": {
     "iopub.execute_input": "2023-02-02T06:02:21.636077Z",
     "iopub.status.busy": "2023-02-02T06:02:21.635646Z",
     "iopub.status.idle": "2023-02-02T06:02:21.642213Z",
     "shell.execute_reply": "2023-02-02T06:02:21.641162Z",
     "shell.execute_reply.started": "2023-02-02T06:02:21.636041Z"
    }
   },
   "outputs": [
    {
     "data": {
      "text/plain": [
       "array([[20, 14],\n",
       "       [56, 41],\n",
       "       [92, 68]])"
      ]
     },
     "execution_count": 31,
     "metadata": {},
     "output_type": "execute_result"
    }
   ],
   "source": [
    "np.dot(d,e)"
   ]
  },
  {
   "cell_type": "code",
   "execution_count": 33,
   "metadata": {
    "execution": {
     "iopub.execute_input": "2023-02-02T06:02:22.606220Z",
     "iopub.status.busy": "2023-02-02T06:02:22.605796Z",
     "iopub.status.idle": "2023-02-02T06:02:22.613039Z",
     "shell.execute_reply": "2023-02-02T06:02:22.611994Z",
     "shell.execute_reply.started": "2023-02-02T06:02:22.606188Z"
    }
   },
   "outputs": [
    {
     "data": {
      "text/plain": [
       "array([[20, 14],\n",
       "       [56, 41],\n",
       "       [92, 68]])"
      ]
     },
     "execution_count": 33,
     "metadata": {},
     "output_type": "execute_result"
    }
   ],
   "source": [
    "d.dot(e)"
   ]
  },
  {
   "cell_type": "code",
   "execution_count": 34,
   "metadata": {
    "execution": {
     "iopub.execute_input": "2023-02-02T06:02:26.921245Z",
     "iopub.status.busy": "2023-02-02T06:02:26.920692Z",
     "iopub.status.idle": "2023-02-02T06:02:26.927868Z",
     "shell.execute_reply": "2023-02-02T06:02:26.926898Z",
     "shell.execute_reply.started": "2023-02-02T06:02:26.921203Z"
    }
   },
   "outputs": [
    {
     "data": {
      "text/plain": [
       "array([[20, 14],\n",
       "       [56, 41],\n",
       "       [92, 68]])"
      ]
     },
     "execution_count": 34,
     "metadata": {},
     "output_type": "execute_result"
    }
   ],
   "source": [
    "d @ e"
   ]
  },
  {
   "cell_type": "code",
   "execution_count": 35,
   "metadata": {
    "execution": {
     "iopub.execute_input": "2023-02-02T06:02:28.126408Z",
     "iopub.status.busy": "2023-02-02T06:02:28.126010Z",
     "iopub.status.idle": "2023-02-02T06:02:28.132880Z",
     "shell.execute_reply": "2023-02-02T06:02:28.132014Z",
     "shell.execute_reply.started": "2023-02-02T06:02:28.126375Z"
    }
   },
   "outputs": [
    {
     "data": {
      "text/plain": [
       "array([[-15,  18,  -7],\n",
       "       [-18,  24,  -8],\n",
       "       [ -9,  18,  -9]])"
      ]
     },
     "execution_count": 35,
     "metadata": {},
     "output_type": "execute_result"
    }
   ],
   "source": [
    "np.cross(d,e)"
   ]
  },
  {
   "cell_type": "code",
   "execution_count": 36,
   "metadata": {
    "execution": {
     "iopub.execute_input": "2023-02-02T06:02:37.388057Z",
     "iopub.status.busy": "2023-02-02T06:02:37.387614Z",
     "iopub.status.idle": "2023-02-02T06:02:37.394652Z",
     "shell.execute_reply": "2023-02-02T06:02:37.393949Z",
     "shell.execute_reply.started": "2023-02-02T06:02:37.388017Z"
    }
   },
   "outputs": [
    {
     "data": {
      "text/plain": [
       "array([[1, 4, 7],\n",
       "       [2, 5, 8],\n",
       "       [3, 6, 9]])"
      ]
     },
     "execution_count": 36,
     "metadata": {},
     "output_type": "execute_result"
    }
   ],
   "source": [
    "#Transpose\n",
    "d.T"
   ]
  },
  {
   "cell_type": "code",
   "execution_count": 37,
   "metadata": {
    "execution": {
     "iopub.execute_input": "2023-02-02T06:02:40.196004Z",
     "iopub.status.busy": "2023-02-02T06:02:40.195564Z",
     "iopub.status.idle": "2023-02-02T06:02:40.200335Z",
     "shell.execute_reply": "2023-02-02T06:02:40.199426Z",
     "shell.execute_reply.started": "2023-02-02T06:02:40.195955Z"
    }
   },
   "outputs": [],
   "source": [
    "#Reshape and linspace are also important concepts"
   ]
  },
  {
   "cell_type": "code",
   "execution_count": null,
   "metadata": {},
   "outputs": [],
   "source": []
  },
  {
   "cell_type": "code",
   "execution_count": null,
   "metadata": {},
   "outputs": [],
   "source": []
  },
  {
   "cell_type": "code",
   "execution_count": 38,
   "metadata": {
    "execution": {
     "iopub.execute_input": "2023-02-02T06:07:04.202124Z",
     "iopub.status.busy": "2023-02-02T06:07:04.200925Z",
     "iopub.status.idle": "2023-02-02T06:07:04.206815Z",
     "shell.execute_reply": "2023-02-02T06:07:04.205864Z",
     "shell.execute_reply.started": "2023-02-02T06:07:04.202077Z"
    }
   },
   "outputs": [],
   "source": [
    "#Pandas Begins\n",
    "import pandas as pd"
   ]
  },
  {
   "cell_type": "code",
   "execution_count": 39,
   "metadata": {
    "execution": {
     "iopub.execute_input": "2023-02-02T06:07:05.481840Z",
     "iopub.status.busy": "2023-02-02T06:07:05.480955Z",
     "iopub.status.idle": "2023-02-02T06:07:05.489964Z",
     "shell.execute_reply": "2023-02-02T06:07:05.489204Z",
     "shell.execute_reply.started": "2023-02-02T06:07:05.481794Z"
    }
   },
   "outputs": [
    {
     "data": {
      "text/plain": [
       "0     35.467\n",
       "1     63.951\n",
       "2     80.940\n",
       "3     60.665\n",
       "4    127.061\n",
       "5     64.511\n",
       "6    318.523\n",
       "dtype: float64"
      ]
     },
     "execution_count": 39,
     "metadata": {},
     "output_type": "execute_result"
    }
   ],
   "source": [
    "# In millions\n",
    "g7_pop = pd.Series([35.467, 63.951, 80.940, 60.665, 127.061, 64.511, 318.523])\n",
    "g7_pop"
   ]
  },
  {
   "cell_type": "code",
   "execution_count": 40,
   "metadata": {
    "execution": {
     "iopub.execute_input": "2023-02-02T06:07:06.686540Z",
     "iopub.status.busy": "2023-02-02T06:07:06.685645Z",
     "iopub.status.idle": "2023-02-02T06:07:06.690600Z",
     "shell.execute_reply": "2023-02-02T06:07:06.689675Z",
     "shell.execute_reply.started": "2023-02-02T06:07:06.686500Z"
    }
   },
   "outputs": [],
   "source": [
    "g7_pop.name = \"Population of G7 Nations\""
   ]
  },
  {
   "cell_type": "code",
   "execution_count": 41,
   "metadata": {
    "execution": {
     "iopub.execute_input": "2023-02-02T06:07:11.316466Z",
     "iopub.status.busy": "2023-02-02T06:07:11.315882Z",
     "iopub.status.idle": "2023-02-02T06:07:11.323440Z",
     "shell.execute_reply": "2023-02-02T06:07:11.322347Z",
     "shell.execute_reply.started": "2023-02-02T06:07:11.316430Z"
    }
   },
   "outputs": [
    {
     "data": {
      "text/plain": [
       "0     35.467\n",
       "1     63.951\n",
       "2     80.940\n",
       "3     60.665\n",
       "4    127.061\n",
       "5     64.511\n",
       "6    318.523\n",
       "Name: Population of G7 Nations, dtype: float64"
      ]
     },
     "execution_count": 41,
     "metadata": {},
     "output_type": "execute_result"
    }
   ],
   "source": [
    "g7_pop"
   ]
  },
  {
   "cell_type": "code",
   "execution_count": 42,
   "metadata": {
    "execution": {
     "iopub.execute_input": "2023-02-02T06:07:12.316651Z",
     "iopub.status.busy": "2023-02-02T06:07:12.315784Z",
     "iopub.status.idle": "2023-02-02T06:07:12.322880Z",
     "shell.execute_reply": "2023-02-02T06:07:12.321785Z",
     "shell.execute_reply.started": "2023-02-02T06:07:12.316607Z"
    }
   },
   "outputs": [
    {
     "data": {
      "text/plain": [
       "dtype('float64')"
      ]
     },
     "execution_count": 42,
     "metadata": {},
     "output_type": "execute_result"
    }
   ],
   "source": [
    "g7_pop.dtype"
   ]
  },
  {
   "cell_type": "code",
   "execution_count": 43,
   "metadata": {
    "execution": {
     "iopub.execute_input": "2023-02-02T06:07:15.116253Z",
     "iopub.status.busy": "2023-02-02T06:07:15.115644Z",
     "iopub.status.idle": "2023-02-02T06:07:15.124339Z",
     "shell.execute_reply": "2023-02-02T06:07:15.123064Z",
     "shell.execute_reply.started": "2023-02-02T06:07:15.116211Z"
    }
   },
   "outputs": [
    {
     "data": {
      "text/plain": [
       "array([ 35.467,  63.951,  80.94 ,  60.665, 127.061,  64.511, 318.523])"
      ]
     },
     "execution_count": 43,
     "metadata": {},
     "output_type": "execute_result"
    }
   ],
   "source": [
    "g7_pop.values"
   ]
  },
  {
   "cell_type": "code",
   "execution_count": 44,
   "metadata": {
    "execution": {
     "iopub.execute_input": "2023-02-02T06:07:33.921632Z",
     "iopub.status.busy": "2023-02-02T06:07:33.921173Z",
     "iopub.status.idle": "2023-02-02T06:07:33.927681Z",
     "shell.execute_reply": "2023-02-02T06:07:33.926991Z",
     "shell.execute_reply.started": "2023-02-02T06:07:33.921597Z"
    }
   },
   "outputs": [
    {
     "data": {
      "text/plain": [
       "numpy.ndarray"
      ]
     },
     "execution_count": 44,
     "metadata": {},
     "output_type": "execute_result"
    }
   ],
   "source": [
    "type(g7_pop.values)"
   ]
  },
  {
   "cell_type": "code",
   "execution_count": 45,
   "metadata": {
    "execution": {
     "iopub.execute_input": "2023-02-02T06:07:35.051721Z",
     "iopub.status.busy": "2023-02-02T06:07:35.051060Z",
     "iopub.status.idle": "2023-02-02T06:07:35.058813Z",
     "shell.execute_reply": "2023-02-02T06:07:35.057761Z",
     "shell.execute_reply.started": "2023-02-02T06:07:35.051672Z"
    }
   },
   "outputs": [
    {
     "data": {
      "text/plain": [
       "63.951"
      ]
     },
     "execution_count": 45,
     "metadata": {},
     "output_type": "execute_result"
    }
   ],
   "source": [
    "g7_pop[1]"
   ]
  },
  {
   "cell_type": "code",
   "execution_count": 46,
   "metadata": {
    "execution": {
     "iopub.execute_input": "2023-02-02T06:07:39.986305Z",
     "iopub.status.busy": "2023-02-02T06:07:39.985859Z",
     "iopub.status.idle": "2023-02-02T06:07:39.993203Z",
     "shell.execute_reply": "2023-02-02T06:07:39.992302Z",
     "shell.execute_reply.started": "2023-02-02T06:07:39.986271Z"
    }
   },
   "outputs": [
    {
     "data": {
      "text/plain": [
       "RangeIndex(start=0, stop=7, step=1)"
      ]
     },
     "execution_count": 46,
     "metadata": {},
     "output_type": "execute_result"
    }
   ],
   "source": [
    "g7_pop.index"
   ]
  },
  {
   "cell_type": "code",
   "execution_count": 47,
   "metadata": {
    "execution": {
     "iopub.execute_input": "2023-02-02T06:07:41.308220Z",
     "iopub.status.busy": "2023-02-02T06:07:41.307535Z",
     "iopub.status.idle": "2023-02-02T06:07:41.313078Z",
     "shell.execute_reply": "2023-02-02T06:07:41.312047Z",
     "shell.execute_reply.started": "2023-02-02T06:07:41.308180Z"
    }
   },
   "outputs": [],
   "source": [
    "#In contrast to lists, we can explicitly define the index\n",
    "g7_pop.index = [\n",
    "    'Canada',\n",
    "    'France',\n",
    "    'Germany',\n",
    "    'Italy',\n",
    "    'Japan',\n",
    "    'United Kingdom',\n",
    "    'United States',\n",
    "]"
   ]
  },
  {
   "cell_type": "code",
   "execution_count": 48,
   "metadata": {
    "execution": {
     "iopub.execute_input": "2023-02-02T06:07:50.476401Z",
     "iopub.status.busy": "2023-02-02T06:07:50.475990Z",
     "iopub.status.idle": "2023-02-02T06:07:50.483829Z",
     "shell.execute_reply": "2023-02-02T06:07:50.482833Z",
     "shell.execute_reply.started": "2023-02-02T06:07:50.476370Z"
    }
   },
   "outputs": [
    {
     "data": {
      "text/plain": [
       "63.951"
      ]
     },
     "execution_count": 48,
     "metadata": {},
     "output_type": "execute_result"
    }
   ],
   "source": [
    "g7_pop[\"France\"]"
   ]
  },
  {
   "cell_type": "code",
   "execution_count": 49,
   "metadata": {
    "execution": {
     "iopub.execute_input": "2023-02-02T06:07:51.852132Z",
     "iopub.status.busy": "2023-02-02T06:07:51.851307Z",
     "iopub.status.idle": "2023-02-02T06:07:51.859095Z",
     "shell.execute_reply": "2023-02-02T06:07:51.858308Z",
     "shell.execute_reply.started": "2023-02-02T06:07:51.852089Z"
    }
   },
   "outputs": [
    {
     "data": {
      "text/plain": [
       "Canada             35.467\n",
       "France             63.951\n",
       "Germany            80.940\n",
       "Italy              60.665\n",
       "Japan             127.061\n",
       "United Kingdom     64.511\n",
       "United States     318.523\n",
       "Name: Population of G7 Nations, dtype: float64"
      ]
     },
     "execution_count": 49,
     "metadata": {},
     "output_type": "execute_result"
    }
   ],
   "source": [
    "g7_pop\n",
    "#A numpy series is always ordered as seen"
   ]
  },
  {
   "cell_type": "code",
   "execution_count": 50,
   "metadata": {
    "execution": {
     "iopub.execute_input": "2023-02-02T06:07:52.961011Z",
     "iopub.status.busy": "2023-02-02T06:07:52.960547Z",
     "iopub.status.idle": "2023-02-02T06:07:52.971925Z",
     "shell.execute_reply": "2023-02-02T06:07:52.970782Z",
     "shell.execute_reply.started": "2023-02-02T06:07:52.960950Z"
    }
   },
   "outputs": [
    {
     "data": {
      "text/plain": [
       "Canada             35.467\n",
       "France             63.951\n",
       "Germany            80.940\n",
       "Italy              60.665\n",
       "Japan             127.061\n",
       "United Kingdom     64.511\n",
       "United States     318.523\n",
       "Name: G7 Population in millions, dtype: float64"
      ]
     },
     "execution_count": 50,
     "metadata": {},
     "output_type": "execute_result"
    }
   ],
   "source": [
    "#We can say that Series look like \"ordered dictionaries\". We can actually create Series out of dictionaries:\n",
    "\n",
    "pd.Series({\n",
    "    'Canada': 35.467,\n",
    "    'France': 63.951,\n",
    "    'Germany': 80.94,\n",
    "    'Italy': 60.665,\n",
    "    'Japan': 127.061,\n",
    "    'United Kingdom': 64.511,\n",
    "    'United States': 318.523\n",
    "}, name='G7 Population in millions')"
   ]
  },
  {
   "cell_type": "code",
   "execution_count": 51,
   "metadata": {
    "execution": {
     "iopub.execute_input": "2023-02-02T06:07:55.766406Z",
     "iopub.status.busy": "2023-02-02T06:07:55.765938Z",
     "iopub.status.idle": "2023-02-02T06:07:55.775262Z",
     "shell.execute_reply": "2023-02-02T06:07:55.774439Z",
     "shell.execute_reply.started": "2023-02-02T06:07:55.766369Z"
    }
   },
   "outputs": [
    {
     "data": {
      "text/plain": [
       "Canada             35.467\n",
       "France             63.951\n",
       "Germany            80.940\n",
       "Italy              60.665\n",
       "Japan             127.061\n",
       "United Kingdom     64.511\n",
       "United States     318.523\n",
       "Name: G7 Population in millions, dtype: float64"
      ]
     },
     "execution_count": 51,
     "metadata": {},
     "output_type": "execute_result"
    }
   ],
   "source": [
    "#Series can also be created in following way\n",
    "pd.Series(\n",
    "    [35.467, 63.951, 80.94, 60.665, 127.061, 64.511, 318.523],\n",
    "    index=['Canada', 'France', 'Germany', 'Italy', 'Japan', 'United Kingdom',\n",
    "       'United States'],\n",
    "    name='G7 Population in millions')"
   ]
  },
  {
   "cell_type": "code",
   "execution_count": 52,
   "metadata": {
    "execution": {
     "iopub.execute_input": "2023-02-02T06:08:00.721366Z",
     "iopub.status.busy": "2023-02-02T06:08:00.720959Z",
     "iopub.status.idle": "2023-02-02T06:08:00.730850Z",
     "shell.execute_reply": "2023-02-02T06:08:00.729770Z",
     "shell.execute_reply.started": "2023-02-02T06:08:00.721334Z"
    }
   },
   "outputs": [
    {
     "data": {
      "text/plain": [
       "France     63.951\n",
       "Germany    80.940\n",
       "Italy      60.665\n",
       "Spain         NaN\n",
       "Name: Population of G7 Nations, dtype: float64"
      ]
     },
     "execution_count": 52,
     "metadata": {},
     "output_type": "execute_result"
    }
   ],
   "source": [
    "pd.Series(g7_pop, index=['France', 'Germany', 'Italy', 'Spain'])"
   ]
  },
  {
   "cell_type": "code",
   "execution_count": 53,
   "metadata": {
    "execution": {
     "iopub.execute_input": "2023-02-02T06:08:02.956818Z",
     "iopub.status.busy": "2023-02-02T06:08:02.956130Z",
     "iopub.status.idle": "2023-02-02T06:08:02.963291Z",
     "shell.execute_reply": "2023-02-02T06:08:02.962069Z",
     "shell.execute_reply.started": "2023-02-02T06:08:02.956774Z"
    }
   },
   "outputs": [
    {
     "data": {
      "text/plain": [
       "318.523"
      ]
     },
     "execution_count": 53,
     "metadata": {},
     "output_type": "execute_result"
    }
   ],
   "source": [
    "#Indexing using location (just like indexing in lists)\n",
    "g7_pop.iloc[-1]"
   ]
  },
  {
   "cell_type": "code",
   "execution_count": 54,
   "metadata": {
    "execution": {
     "iopub.execute_input": "2023-02-02T06:08:04.291409Z",
     "iopub.status.busy": "2023-02-02T06:08:04.290994Z",
     "iopub.status.idle": "2023-02-02T06:08:04.299493Z",
     "shell.execute_reply": "2023-02-02T06:08:04.298444Z",
     "shell.execute_reply.started": "2023-02-02T06:08:04.291377Z"
    }
   },
   "outputs": [
    {
     "data": {
      "text/plain": [
       "France    63.951\n",
       "Italy     60.665\n",
       "Name: Population of G7 Nations, dtype: float64"
      ]
     },
     "execution_count": 54,
     "metadata": {},
     "output_type": "execute_result"
    }
   ],
   "source": [
    "#Multiple Indexing\n",
    "g7_pop[[\"France\", \"Italy\"]]"
   ]
  },
  {
   "cell_type": "code",
   "execution_count": 55,
   "metadata": {
    "execution": {
     "iopub.execute_input": "2023-02-02T06:08:05.806396Z",
     "iopub.status.busy": "2023-02-02T06:08:05.805930Z",
     "iopub.status.idle": "2023-02-02T06:08:05.816756Z",
     "shell.execute_reply": "2023-02-02T06:08:05.815538Z",
     "shell.execute_reply.started": "2023-02-02T06:08:05.806363Z"
    }
   },
   "outputs": [
    {
     "data": {
      "text/plain": [
       "Canada    35.467\n",
       "France    63.951\n",
       "Name: Population of G7 Nations, dtype: float64"
      ]
     },
     "execution_count": 55,
     "metadata": {},
     "output_type": "execute_result"
    }
   ],
   "source": [
    "g7_pop.iloc[[0,1]]"
   ]
  },
  {
   "cell_type": "code",
   "execution_count": 56,
   "metadata": {
    "execution": {
     "iopub.execute_input": "2023-02-02T06:08:35.277059Z",
     "iopub.status.busy": "2023-02-02T06:08:35.276525Z",
     "iopub.status.idle": "2023-02-02T06:08:35.285747Z",
     "shell.execute_reply": "2023-02-02T06:08:35.284447Z",
     "shell.execute_reply.started": "2023-02-02T06:08:35.277018Z"
    }
   },
   "outputs": [
    {
     "data": {
      "text/plain": [
       "Canada            False\n",
       "France            False\n",
       "Germany            True\n",
       "Italy             False\n",
       "Japan              True\n",
       "United Kingdom    False\n",
       "United States      True\n",
       "Name: Population of G7 Nations, dtype: bool"
      ]
     },
     "execution_count": 56,
     "metadata": {},
     "output_type": "execute_result"
    }
   ],
   "source": [
    "#population > 70 mil\n",
    "g7_pop>70"
   ]
  },
  {
   "cell_type": "code",
   "execution_count": 57,
   "metadata": {
    "execution": {
     "iopub.execute_input": "2023-02-02T06:08:36.456795Z",
     "iopub.status.busy": "2023-02-02T06:08:36.455765Z",
     "iopub.status.idle": "2023-02-02T06:08:36.465620Z",
     "shell.execute_reply": "2023-02-02T06:08:36.464599Z",
     "shell.execute_reply.started": "2023-02-02T06:08:36.456746Z"
    }
   },
   "outputs": [
    {
     "data": {
      "text/plain": [
       "Germany           80.940\n",
       "Japan            127.061\n",
       "United States    318.523\n",
       "Name: Population of G7 Nations, dtype: float64"
      ]
     },
     "execution_count": 57,
     "metadata": {},
     "output_type": "execute_result"
    }
   ],
   "source": [
    "g7_pop[g7_pop>70]"
   ]
  },
  {
   "cell_type": "code",
   "execution_count": 58,
   "metadata": {
    "execution": {
     "iopub.execute_input": "2023-02-02T06:08:41.816379Z",
     "iopub.status.busy": "2023-02-02T06:08:41.815893Z",
     "iopub.status.idle": "2023-02-02T06:08:41.822865Z",
     "shell.execute_reply": "2023-02-02T06:08:41.822096Z",
     "shell.execute_reply.started": "2023-02-02T06:08:41.816342Z"
    }
   },
   "outputs": [
    {
     "data": {
      "text/plain": [
       "107.30257142857144"
      ]
     },
     "execution_count": 58,
     "metadata": {},
     "output_type": "execute_result"
    }
   ],
   "source": [
    "g7_pop.mean()"
   ]
  },
  {
   "cell_type": "code",
   "execution_count": 59,
   "metadata": {
    "execution": {
     "iopub.execute_input": "2023-02-02T06:08:43.866753Z",
     "iopub.status.busy": "2023-02-02T06:08:43.866026Z",
     "iopub.status.idle": "2023-02-02T06:08:43.874955Z",
     "shell.execute_reply": "2023-02-02T06:08:43.873892Z",
     "shell.execute_reply.started": "2023-02-02T06:08:43.866713Z"
    }
   },
   "outputs": [
    {
     "data": {
      "text/plain": [
       "Japan            127.061\n",
       "United States    318.523\n",
       "Name: Population of G7 Nations, dtype: float64"
      ]
     },
     "execution_count": 59,
     "metadata": {},
     "output_type": "execute_result"
    }
   ],
   "source": [
    "g7_pop[g7_pop>g7_pop.mean()]"
   ]
  },
  {
   "cell_type": "code",
   "execution_count": 60,
   "metadata": {
    "execution": {
     "iopub.execute_input": "2023-02-02T06:08:53.547108Z",
     "iopub.status.busy": "2023-02-02T06:08:53.546615Z",
     "iopub.status.idle": "2023-02-02T06:08:53.557001Z",
     "shell.execute_reply": "2023-02-02T06:08:53.556098Z",
     "shell.execute_reply.started": "2023-02-02T06:08:53.547069Z"
    }
   },
   "outputs": [
    {
     "data": {
      "text/plain": [
       "68.51866666666666"
      ]
     },
     "execution_count": 60,
     "metadata": {},
     "output_type": "execute_result"
    }
   ],
   "source": [
    "#IMP - slicing in pandas includes last index element as well,\n",
    "#eg. here it will include Italy as well, while python wouldn't have\n",
    "g7_pop[\"France\":\"Italy\"].mean()"
   ]
  },
  {
   "cell_type": "code",
   "execution_count": 61,
   "metadata": {
    "execution": {
     "iopub.execute_input": "2023-02-02T06:09:08.852588Z",
     "iopub.status.busy": "2023-02-02T06:09:08.852132Z",
     "iopub.status.idle": "2023-02-02T06:09:08.864728Z",
     "shell.execute_reply": "2023-02-02T06:09:08.863723Z",
     "shell.execute_reply.started": "2023-02-02T06:09:08.852555Z"
    }
   },
   "outputs": [
    {
     "data": {
      "text/plain": [
       "France             63.951\n",
       "Germany            80.940\n",
       "Italy              60.665\n",
       "Japan             127.061\n",
       "United Kingdom     64.511\n",
       "United States     318.523\n",
       "Name: Population of G7 Nations, dtype: float64"
      ]
     },
     "execution_count": 61,
     "metadata": {},
     "output_type": "execute_result"
    }
   ],
   "source": [
    "g7_pop[(g7_pop > g7_pop.mean() - g7_pop.std() / 2) | (g7_pop > g7_pop.mean() + g7_pop.std() / 2)]\n"
   ]
  },
  {
   "cell_type": "code",
   "execution_count": 62,
   "metadata": {
    "execution": {
     "iopub.execute_input": "2023-02-02T06:09:11.166647Z",
     "iopub.status.busy": "2023-02-02T06:09:11.166073Z",
     "iopub.status.idle": "2023-02-02T06:09:11.174250Z",
     "shell.execute_reply": "2023-02-02T06:09:11.172983Z",
     "shell.execute_reply.started": "2023-02-02T06:09:11.166611Z"
    }
   },
   "outputs": [
    {
     "data": {
      "text/plain": [
       "Canada             35467000.0\n",
       "France             63951000.0\n",
       "Germany            80940000.0\n",
       "Italy              60665000.0\n",
       "Japan             127061000.0\n",
       "United Kingdom     64511000.0\n",
       "United States     318523000.0\n",
       "Name: Population of G7 Nations, dtype: float64"
      ]
     },
     "execution_count": 62,
     "metadata": {},
     "output_type": "execute_result"
    }
   ],
   "source": [
    "g7_pop * 1000000\n",
    "g7_pop * 1_000_000"
   ]
  },
  {
   "cell_type": "code",
   "execution_count": 63,
   "metadata": {
    "execution": {
     "iopub.execute_input": "2023-02-02T06:09:12.361207Z",
     "iopub.status.busy": "2023-02-02T06:09:12.360790Z",
     "iopub.status.idle": "2023-02-02T06:09:12.369261Z",
     "shell.execute_reply": "2023-02-02T06:09:12.368269Z",
     "shell.execute_reply.started": "2023-02-02T06:09:12.361172Z"
    }
   },
   "outputs": [
    {
     "data": {
      "text/plain": [
       "Canada            3.568603\n",
       "France            4.158117\n",
       "Germany           4.393708\n",
       "Italy             4.105367\n",
       "Japan             4.844667\n",
       "United Kingdom    4.166836\n",
       "United States     5.763695\n",
       "Name: Population of G7 Nations, dtype: float64"
      ]
     },
     "execution_count": 63,
     "metadata": {},
     "output_type": "execute_result"
    }
   ],
   "source": [
    "np.log(g7_pop)"
   ]
  },
  {
   "cell_type": "code",
   "execution_count": 64,
   "metadata": {
    "execution": {
     "iopub.execute_input": "2023-02-02T06:09:13.276681Z",
     "iopub.status.busy": "2023-02-02T06:09:13.275732Z",
     "iopub.status.idle": "2023-02-02T06:09:13.286826Z",
     "shell.execute_reply": "2023-02-02T06:09:13.285838Z",
     "shell.execute_reply.started": "2023-02-02T06:09:13.276630Z"
    }
   },
   "outputs": [
    {
     "data": {
      "text/plain": [
       "Canada             99.990\n",
       "France             99.990\n",
       "Germany            80.940\n",
       "Italy              99.990\n",
       "Japan             127.061\n",
       "United Kingdom     99.990\n",
       "United States     318.523\n",
       "Name: Population of G7 Nations, dtype: float64"
      ]
     },
     "execution_count": 64,
     "metadata": {},
     "output_type": "execute_result"
    }
   ],
   "source": [
    "g7_pop[g7_pop < 70] = 99.99\n",
    "g7_pop"
   ]
  },
  {
   "cell_type": "code",
   "execution_count": 65,
   "metadata": {
    "execution": {
     "iopub.execute_input": "2023-02-02T06:09:14.321447Z",
     "iopub.status.busy": "2023-02-02T06:09:14.321007Z",
     "iopub.status.idle": "2023-02-02T06:09:14.332241Z",
     "shell.execute_reply": "2023-02-02T06:09:14.330752Z",
     "shell.execute_reply.started": "2023-02-02T06:09:14.321415Z"
    }
   },
   "outputs": [],
   "source": [
    "#Pandas Dataframes begins\n",
    "df = pd.DataFrame({\n",
    "    'Population': [35.467, 63.951, 80.94 , 60.665, 127.061, 64.511, 318.523],\n",
    "    'GDP': [\n",
    "        1785387,\n",
    "        2833687,\n",
    "        3874437,\n",
    "        2167744,\n",
    "        4602367,\n",
    "        2950039,\n",
    "        17348075\n",
    "    ],\n",
    "    'Surface Area': [\n",
    "        9984670,\n",
    "        640679,\n",
    "        357114,\n",
    "        301336,\n",
    "        377930,\n",
    "        242495,\n",
    "        9525067\n",
    "    ],\n",
    "    'HDI': [\n",
    "        0.913,\n",
    "        0.888,\n",
    "        0.916,\n",
    "        0.873,\n",
    "        0.891,\n",
    "        0.907,\n",
    "        0.915\n",
    "    ],\n",
    "    'Continent': [\n",
    "        'America',\n",
    "        'Europe',\n",
    "        'Europe',\n",
    "        'Europe',\n",
    "        'Asia',\n",
    "        'Europe',\n",
    "        'America'\n",
    "    ]\n",
    "}, columns=['Population', 'GDP', 'Surface Area', 'HDI', 'Continent'])\n"
   ]
  },
  {
   "cell_type": "code",
   "execution_count": 66,
   "metadata": {
    "execution": {
     "iopub.execute_input": "2023-02-02T06:09:15.816383Z",
     "iopub.status.busy": "2023-02-02T06:09:15.815828Z",
     "iopub.status.idle": "2023-02-02T06:09:15.829412Z",
     "shell.execute_reply": "2023-02-02T06:09:15.828358Z",
     "shell.execute_reply.started": "2023-02-02T06:09:15.816348Z"
    }
   },
   "outputs": [
    {
     "data": {
      "text/html": [
       "<div>\n",
       "<style scoped>\n",
       "    .dataframe tbody tr th:only-of-type {\n",
       "        vertical-align: middle;\n",
       "    }\n",
       "\n",
       "    .dataframe tbody tr th {\n",
       "        vertical-align: top;\n",
       "    }\n",
       "\n",
       "    .dataframe thead th {\n",
       "        text-align: right;\n",
       "    }\n",
       "</style>\n",
       "<table border=\"1\" class=\"dataframe\">\n",
       "  <thead>\n",
       "    <tr style=\"text-align: right;\">\n",
       "      <th></th>\n",
       "      <th>Population</th>\n",
       "      <th>GDP</th>\n",
       "      <th>Surface Area</th>\n",
       "      <th>HDI</th>\n",
       "      <th>Continent</th>\n",
       "    </tr>\n",
       "  </thead>\n",
       "  <tbody>\n",
       "    <tr>\n",
       "      <th>0</th>\n",
       "      <td>35.467</td>\n",
       "      <td>1785387</td>\n",
       "      <td>9984670</td>\n",
       "      <td>0.913</td>\n",
       "      <td>America</td>\n",
       "    </tr>\n",
       "    <tr>\n",
       "      <th>1</th>\n",
       "      <td>63.951</td>\n",
       "      <td>2833687</td>\n",
       "      <td>640679</td>\n",
       "      <td>0.888</td>\n",
       "      <td>Europe</td>\n",
       "    </tr>\n",
       "    <tr>\n",
       "      <th>2</th>\n",
       "      <td>80.940</td>\n",
       "      <td>3874437</td>\n",
       "      <td>357114</td>\n",
       "      <td>0.916</td>\n",
       "      <td>Europe</td>\n",
       "    </tr>\n",
       "    <tr>\n",
       "      <th>3</th>\n",
       "      <td>60.665</td>\n",
       "      <td>2167744</td>\n",
       "      <td>301336</td>\n",
       "      <td>0.873</td>\n",
       "      <td>Europe</td>\n",
       "    </tr>\n",
       "    <tr>\n",
       "      <th>4</th>\n",
       "      <td>127.061</td>\n",
       "      <td>4602367</td>\n",
       "      <td>377930</td>\n",
       "      <td>0.891</td>\n",
       "      <td>Asia</td>\n",
       "    </tr>\n",
       "    <tr>\n",
       "      <th>5</th>\n",
       "      <td>64.511</td>\n",
       "      <td>2950039</td>\n",
       "      <td>242495</td>\n",
       "      <td>0.907</td>\n",
       "      <td>Europe</td>\n",
       "    </tr>\n",
       "    <tr>\n",
       "      <th>6</th>\n",
       "      <td>318.523</td>\n",
       "      <td>17348075</td>\n",
       "      <td>9525067</td>\n",
       "      <td>0.915</td>\n",
       "      <td>America</td>\n",
       "    </tr>\n",
       "  </tbody>\n",
       "</table>\n",
       "</div>"
      ],
      "text/plain": [
       "   Population       GDP  Surface Area    HDI Continent\n",
       "0      35.467   1785387       9984670  0.913   America\n",
       "1      63.951   2833687        640679  0.888    Europe\n",
       "2      80.940   3874437        357114  0.916    Europe\n",
       "3      60.665   2167744        301336  0.873    Europe\n",
       "4     127.061   4602367        377930  0.891      Asia\n",
       "5      64.511   2950039        242495  0.907    Europe\n",
       "6     318.523  17348075       9525067  0.915   America"
      ]
     },
     "execution_count": 66,
     "metadata": {},
     "output_type": "execute_result"
    }
   ],
   "source": [
    "df"
   ]
  },
  {
   "cell_type": "code",
   "execution_count": 67,
   "metadata": {
    "execution": {
     "iopub.execute_input": "2023-02-02T06:09:18.716359Z",
     "iopub.status.busy": "2023-02-02T06:09:18.715935Z",
     "iopub.status.idle": "2023-02-02T06:09:18.721524Z",
     "shell.execute_reply": "2023-02-02T06:09:18.720317Z",
     "shell.execute_reply.started": "2023-02-02T06:09:18.716326Z"
    }
   },
   "outputs": [],
   "source": [
    "df.index = [\n",
    "    'Canada',\n",
    "    'France',\n",
    "    'Germany',\n",
    "    'Italy',\n",
    "    'Japan',\n",
    "    'United Kingdom',\n",
    "    'United States',\n",
    "]"
   ]
  },
  {
   "cell_type": "code",
   "execution_count": 68,
   "metadata": {
    "execution": {
     "iopub.execute_input": "2023-02-02T06:09:19.756238Z",
     "iopub.status.busy": "2023-02-02T06:09:19.755806Z",
     "iopub.status.idle": "2023-02-02T06:09:19.770038Z",
     "shell.execute_reply": "2023-02-02T06:09:19.769086Z",
     "shell.execute_reply.started": "2023-02-02T06:09:19.756199Z"
    }
   },
   "outputs": [
    {
     "data": {
      "text/html": [
       "<div>\n",
       "<style scoped>\n",
       "    .dataframe tbody tr th:only-of-type {\n",
       "        vertical-align: middle;\n",
       "    }\n",
       "\n",
       "    .dataframe tbody tr th {\n",
       "        vertical-align: top;\n",
       "    }\n",
       "\n",
       "    .dataframe thead th {\n",
       "        text-align: right;\n",
       "    }\n",
       "</style>\n",
       "<table border=\"1\" class=\"dataframe\">\n",
       "  <thead>\n",
       "    <tr style=\"text-align: right;\">\n",
       "      <th></th>\n",
       "      <th>Population</th>\n",
       "      <th>GDP</th>\n",
       "      <th>Surface Area</th>\n",
       "      <th>HDI</th>\n",
       "      <th>Continent</th>\n",
       "    </tr>\n",
       "  </thead>\n",
       "  <tbody>\n",
       "    <tr>\n",
       "      <th>Canada</th>\n",
       "      <td>35.467</td>\n",
       "      <td>1785387</td>\n",
       "      <td>9984670</td>\n",
       "      <td>0.913</td>\n",
       "      <td>America</td>\n",
       "    </tr>\n",
       "    <tr>\n",
       "      <th>France</th>\n",
       "      <td>63.951</td>\n",
       "      <td>2833687</td>\n",
       "      <td>640679</td>\n",
       "      <td>0.888</td>\n",
       "      <td>Europe</td>\n",
       "    </tr>\n",
       "    <tr>\n",
       "      <th>Germany</th>\n",
       "      <td>80.940</td>\n",
       "      <td>3874437</td>\n",
       "      <td>357114</td>\n",
       "      <td>0.916</td>\n",
       "      <td>Europe</td>\n",
       "    </tr>\n",
       "    <tr>\n",
       "      <th>Italy</th>\n",
       "      <td>60.665</td>\n",
       "      <td>2167744</td>\n",
       "      <td>301336</td>\n",
       "      <td>0.873</td>\n",
       "      <td>Europe</td>\n",
       "    </tr>\n",
       "    <tr>\n",
       "      <th>Japan</th>\n",
       "      <td>127.061</td>\n",
       "      <td>4602367</td>\n",
       "      <td>377930</td>\n",
       "      <td>0.891</td>\n",
       "      <td>Asia</td>\n",
       "    </tr>\n",
       "    <tr>\n",
       "      <th>United Kingdom</th>\n",
       "      <td>64.511</td>\n",
       "      <td>2950039</td>\n",
       "      <td>242495</td>\n",
       "      <td>0.907</td>\n",
       "      <td>Europe</td>\n",
       "    </tr>\n",
       "    <tr>\n",
       "      <th>United States</th>\n",
       "      <td>318.523</td>\n",
       "      <td>17348075</td>\n",
       "      <td>9525067</td>\n",
       "      <td>0.915</td>\n",
       "      <td>America</td>\n",
       "    </tr>\n",
       "  </tbody>\n",
       "</table>\n",
       "</div>"
      ],
      "text/plain": [
       "                Population       GDP  Surface Area    HDI Continent\n",
       "Canada              35.467   1785387       9984670  0.913   America\n",
       "France              63.951   2833687        640679  0.888    Europe\n",
       "Germany             80.940   3874437        357114  0.916    Europe\n",
       "Italy               60.665   2167744        301336  0.873    Europe\n",
       "Japan              127.061   4602367        377930  0.891      Asia\n",
       "United Kingdom      64.511   2950039        242495  0.907    Europe\n",
       "United States      318.523  17348075       9525067  0.915   America"
      ]
     },
     "execution_count": 68,
     "metadata": {},
     "output_type": "execute_result"
    }
   ],
   "source": [
    "df"
   ]
  },
  {
   "cell_type": "code",
   "execution_count": 69,
   "metadata": {
    "execution": {
     "iopub.execute_input": "2023-02-02T06:09:21.221310Z",
     "iopub.status.busy": "2023-02-02T06:09:21.220846Z",
     "iopub.status.idle": "2023-02-02T06:09:21.229051Z",
     "shell.execute_reply": "2023-02-02T06:09:21.228031Z",
     "shell.execute_reply.started": "2023-02-02T06:09:21.221277Z"
    }
   },
   "outputs": [
    {
     "data": {
      "text/plain": [
       "Index(['Population', 'GDP', 'Surface Area', 'HDI', 'Continent'], dtype='object')"
      ]
     },
     "execution_count": 69,
     "metadata": {},
     "output_type": "execute_result"
    }
   ],
   "source": [
    "df.columns"
   ]
  },
  {
   "cell_type": "code",
   "execution_count": 70,
   "metadata": {
    "execution": {
     "iopub.execute_input": "2023-02-02T06:09:22.526393Z",
     "iopub.status.busy": "2023-02-02T06:09:22.525867Z",
     "iopub.status.idle": "2023-02-02T06:09:22.540651Z",
     "shell.execute_reply": "2023-02-02T06:09:22.539458Z",
     "shell.execute_reply.started": "2023-02-02T06:09:22.526356Z"
    }
   },
   "outputs": [
    {
     "name": "stdout",
     "output_type": "stream",
     "text": [
      "<class 'pandas.core.frame.DataFrame'>\n",
      "Index: 7 entries, Canada to United States\n",
      "Data columns (total 5 columns):\n",
      " #   Column        Non-Null Count  Dtype  \n",
      "---  ------        --------------  -----  \n",
      " 0   Population    7 non-null      float64\n",
      " 1   GDP           7 non-null      int64  \n",
      " 2   Surface Area  7 non-null      int64  \n",
      " 3   HDI           7 non-null      float64\n",
      " 4   Continent     7 non-null      object \n",
      "dtypes: float64(2), int64(2), object(1)\n",
      "memory usage: 336.0+ bytes\n"
     ]
    }
   ],
   "source": [
    "df.info()"
   ]
  },
  {
   "cell_type": "code",
   "execution_count": 71,
   "metadata": {
    "execution": {
     "iopub.execute_input": "2023-02-02T06:09:23.491434Z",
     "iopub.status.busy": "2023-02-02T06:09:23.491039Z",
     "iopub.status.idle": "2023-02-02T06:09:23.497364Z",
     "shell.execute_reply": "2023-02-02T06:09:23.496559Z",
     "shell.execute_reply.started": "2023-02-02T06:09:23.491403Z"
    }
   },
   "outputs": [
    {
     "data": {
      "text/plain": [
       "35"
      ]
     },
     "execution_count": 71,
     "metadata": {},
     "output_type": "execute_result"
    }
   ],
   "source": [
    "df.size"
   ]
  },
  {
   "cell_type": "code",
   "execution_count": 72,
   "metadata": {
    "execution": {
     "iopub.execute_input": "2023-02-02T06:09:24.586602Z",
     "iopub.status.busy": "2023-02-02T06:09:24.585884Z",
     "iopub.status.idle": "2023-02-02T06:09:24.594658Z",
     "shell.execute_reply": "2023-02-02T06:09:24.593352Z",
     "shell.execute_reply.started": "2023-02-02T06:09:24.586546Z"
    }
   },
   "outputs": [
    {
     "data": {
      "text/plain": [
       "(7, 5)"
      ]
     },
     "execution_count": 72,
     "metadata": {},
     "output_type": "execute_result"
    }
   ],
   "source": [
    "df.shape"
   ]
  },
  {
   "cell_type": "code",
   "execution_count": 73,
   "metadata": {
    "execution": {
     "iopub.execute_input": "2023-02-02T06:09:25.496434Z",
     "iopub.status.busy": "2023-02-02T06:09:25.496011Z",
     "iopub.status.idle": "2023-02-02T06:09:25.524233Z",
     "shell.execute_reply": "2023-02-02T06:09:25.523194Z",
     "shell.execute_reply.started": "2023-02-02T06:09:25.496401Z"
    }
   },
   "outputs": [
    {
     "data": {
      "text/html": [
       "<div>\n",
       "<style scoped>\n",
       "    .dataframe tbody tr th:only-of-type {\n",
       "        vertical-align: middle;\n",
       "    }\n",
       "\n",
       "    .dataframe tbody tr th {\n",
       "        vertical-align: top;\n",
       "    }\n",
       "\n",
       "    .dataframe thead th {\n",
       "        text-align: right;\n",
       "    }\n",
       "</style>\n",
       "<table border=\"1\" class=\"dataframe\">\n",
       "  <thead>\n",
       "    <tr style=\"text-align: right;\">\n",
       "      <th></th>\n",
       "      <th>Population</th>\n",
       "      <th>GDP</th>\n",
       "      <th>Surface Area</th>\n",
       "      <th>HDI</th>\n",
       "    </tr>\n",
       "  </thead>\n",
       "  <tbody>\n",
       "    <tr>\n",
       "      <th>count</th>\n",
       "      <td>7.000000</td>\n",
       "      <td>7.000000e+00</td>\n",
       "      <td>7.000000e+00</td>\n",
       "      <td>7.000000</td>\n",
       "    </tr>\n",
       "    <tr>\n",
       "      <th>mean</th>\n",
       "      <td>107.302571</td>\n",
       "      <td>5.080248e+06</td>\n",
       "      <td>3.061327e+06</td>\n",
       "      <td>0.900429</td>\n",
       "    </tr>\n",
       "    <tr>\n",
       "      <th>std</th>\n",
       "      <td>97.249970</td>\n",
       "      <td>5.494020e+06</td>\n",
       "      <td>4.576187e+06</td>\n",
       "      <td>0.016592</td>\n",
       "    </tr>\n",
       "    <tr>\n",
       "      <th>min</th>\n",
       "      <td>35.467000</td>\n",
       "      <td>1.785387e+06</td>\n",
       "      <td>2.424950e+05</td>\n",
       "      <td>0.873000</td>\n",
       "    </tr>\n",
       "    <tr>\n",
       "      <th>25%</th>\n",
       "      <td>62.308000</td>\n",
       "      <td>2.500716e+06</td>\n",
       "      <td>3.292250e+05</td>\n",
       "      <td>0.889500</td>\n",
       "    </tr>\n",
       "    <tr>\n",
       "      <th>50%</th>\n",
       "      <td>64.511000</td>\n",
       "      <td>2.950039e+06</td>\n",
       "      <td>3.779300e+05</td>\n",
       "      <td>0.907000</td>\n",
       "    </tr>\n",
       "    <tr>\n",
       "      <th>75%</th>\n",
       "      <td>104.000500</td>\n",
       "      <td>4.238402e+06</td>\n",
       "      <td>5.082873e+06</td>\n",
       "      <td>0.914000</td>\n",
       "    </tr>\n",
       "    <tr>\n",
       "      <th>max</th>\n",
       "      <td>318.523000</td>\n",
       "      <td>1.734808e+07</td>\n",
       "      <td>9.984670e+06</td>\n",
       "      <td>0.916000</td>\n",
       "    </tr>\n",
       "  </tbody>\n",
       "</table>\n",
       "</div>"
      ],
      "text/plain": [
       "       Population           GDP  Surface Area       HDI\n",
       "count    7.000000  7.000000e+00  7.000000e+00  7.000000\n",
       "mean   107.302571  5.080248e+06  3.061327e+06  0.900429\n",
       "std     97.249970  5.494020e+06  4.576187e+06  0.016592\n",
       "min     35.467000  1.785387e+06  2.424950e+05  0.873000\n",
       "25%     62.308000  2.500716e+06  3.292250e+05  0.889500\n",
       "50%     64.511000  2.950039e+06  3.779300e+05  0.907000\n",
       "75%    104.000500  4.238402e+06  5.082873e+06  0.914000\n",
       "max    318.523000  1.734808e+07  9.984670e+06  0.916000"
      ]
     },
     "execution_count": 73,
     "metadata": {},
     "output_type": "execute_result"
    }
   ],
   "source": [
    "df.describe()"
   ]
  },
  {
   "cell_type": "code",
   "execution_count": 74,
   "metadata": {
    "execution": {
     "iopub.execute_input": "2023-02-02T06:09:26.456343Z",
     "iopub.status.busy": "2023-02-02T06:09:26.455757Z",
     "iopub.status.idle": "2023-02-02T06:09:26.464333Z",
     "shell.execute_reply": "2023-02-02T06:09:26.463471Z",
     "shell.execute_reply.started": "2023-02-02T06:09:26.456303Z"
    }
   },
   "outputs": [
    {
     "data": {
      "text/plain": [
       "float64    2\n",
       "int64      2\n",
       "object     1\n",
       "dtype: int64"
      ]
     },
     "execution_count": 74,
     "metadata": {},
     "output_type": "execute_result"
    }
   ],
   "source": [
    "df.dtypes.value_counts()"
   ]
  },
  {
   "cell_type": "code",
   "execution_count": 75,
   "metadata": {
    "execution": {
     "iopub.execute_input": "2023-02-02T06:09:27.876512Z",
     "iopub.status.busy": "2023-02-02T06:09:27.875635Z",
     "iopub.status.idle": "2023-02-02T06:09:27.883543Z",
     "shell.execute_reply": "2023-02-02T06:09:27.882857Z",
     "shell.execute_reply.started": "2023-02-02T06:09:27.876469Z"
    }
   },
   "outputs": [
    {
     "data": {
      "text/plain": [
       "Population       35.467\n",
       "GDP             1785387\n",
       "Surface Area    9984670\n",
       "HDI               0.913\n",
       "Continent       America\n",
       "Name: Canada, dtype: object"
      ]
     },
     "execution_count": 75,
     "metadata": {},
     "output_type": "execute_result"
    }
   ],
   "source": [
    "#To select using Index(set by us)\n",
    "df.loc[\"Canada\"]"
   ]
  },
  {
   "cell_type": "code",
   "execution_count": 76,
   "metadata": {
    "execution": {
     "iopub.execute_input": "2023-02-02T06:09:28.826255Z",
     "iopub.status.busy": "2023-02-02T06:09:28.825824Z",
     "iopub.status.idle": "2023-02-02T06:09:28.834183Z",
     "shell.execute_reply": "2023-02-02T06:09:28.833215Z",
     "shell.execute_reply.started": "2023-02-02T06:09:28.826219Z"
    }
   },
   "outputs": [
    {
     "data": {
      "text/plain": [
       "Population       63.951\n",
       "GDP             2833687\n",
       "Surface Area     640679\n",
       "HDI               0.888\n",
       "Continent        Europe\n",
       "Name: France, dtype: object"
      ]
     },
     "execution_count": 76,
     "metadata": {},
     "output_type": "execute_result"
    }
   ],
   "source": [
    "#To select by index like in python\n",
    "df.iloc[1]"
   ]
  },
  {
   "cell_type": "code",
   "execution_count": 77,
   "metadata": {
    "execution": {
     "iopub.execute_input": "2023-02-02T06:09:35.836541Z",
     "iopub.status.busy": "2023-02-02T06:09:35.835944Z",
     "iopub.status.idle": "2023-02-02T06:09:35.846430Z",
     "shell.execute_reply": "2023-02-02T06:09:35.845391Z",
     "shell.execute_reply.started": "2023-02-02T06:09:35.836498Z"
    }
   },
   "outputs": [
    {
     "name": "stdout",
     "output_type": "stream",
     "text": [
      "Canada             35.467\n",
      "France             63.951\n",
      "Germany            80.940\n",
      "Italy              60.665\n",
      "Japan             127.061\n",
      "United Kingdom     64.511\n",
      "United States     318.523\n",
      "Name: Population, dtype: float64\n"
     ]
    },
    {
     "data": {
      "text/plain": [
       "35.467"
      ]
     },
     "execution_count": 77,
     "metadata": {},
     "output_type": "execute_result"
    }
   ],
   "source": [
    "#Just like 2D Matrix\n",
    "print(df[\"Population\"])\n",
    "df[\"Population\"][\"Canada\"]"
   ]
  },
  {
   "cell_type": "code",
   "execution_count": 78,
   "metadata": {
    "execution": {
     "iopub.execute_input": "2023-02-02T06:09:36.701601Z",
     "iopub.status.busy": "2023-02-02T06:09:36.701186Z",
     "iopub.status.idle": "2023-02-02T06:09:36.709351Z",
     "shell.execute_reply": "2023-02-02T06:09:36.708456Z",
     "shell.execute_reply.started": "2023-02-02T06:09:36.701564Z"
    }
   },
   "outputs": [
    {
     "data": {
      "text/plain": [
       "France     63.951\n",
       "Germany    80.940\n",
       "Italy      60.665\n",
       "Name: Population, dtype: float64"
      ]
     },
     "execution_count": 78,
     "metadata": {},
     "output_type": "execute_result"
    }
   ],
   "source": [
    "df.loc[\"France\":\"Italy\", \"Population\"]"
   ]
  },
  {
   "cell_type": "code",
   "execution_count": 79,
   "metadata": {
    "execution": {
     "iopub.execute_input": "2023-02-02T06:09:37.541466Z",
     "iopub.status.busy": "2023-02-02T06:09:37.541026Z",
     "iopub.status.idle": "2023-02-02T06:09:37.554721Z",
     "shell.execute_reply": "2023-02-02T06:09:37.553494Z",
     "shell.execute_reply.started": "2023-02-02T06:09:37.541430Z"
    }
   },
   "outputs": [
    {
     "data": {
      "text/html": [
       "<div>\n",
       "<style scoped>\n",
       "    .dataframe tbody tr th:only-of-type {\n",
       "        vertical-align: middle;\n",
       "    }\n",
       "\n",
       "    .dataframe tbody tr th {\n",
       "        vertical-align: top;\n",
       "    }\n",
       "\n",
       "    .dataframe thead th {\n",
       "        text-align: right;\n",
       "    }\n",
       "</style>\n",
       "<table border=\"1\" class=\"dataframe\">\n",
       "  <thead>\n",
       "    <tr style=\"text-align: right;\">\n",
       "      <th></th>\n",
       "      <th>Population</th>\n",
       "      <th>GDP</th>\n",
       "      <th>Surface Area</th>\n",
       "      <th>HDI</th>\n",
       "      <th>Continent</th>\n",
       "    </tr>\n",
       "  </thead>\n",
       "  <tbody>\n",
       "    <tr>\n",
       "      <th>Canada</th>\n",
       "      <td>35.467</td>\n",
       "      <td>1785387</td>\n",
       "      <td>9984670</td>\n",
       "      <td>0.913</td>\n",
       "      <td>America</td>\n",
       "    </tr>\n",
       "    <tr>\n",
       "      <th>France</th>\n",
       "      <td>63.951</td>\n",
       "      <td>2833687</td>\n",
       "      <td>640679</td>\n",
       "      <td>0.888</td>\n",
       "      <td>Europe</td>\n",
       "    </tr>\n",
       "    <tr>\n",
       "      <th>United States</th>\n",
       "      <td>318.523</td>\n",
       "      <td>17348075</td>\n",
       "      <td>9525067</td>\n",
       "      <td>0.915</td>\n",
       "      <td>America</td>\n",
       "    </tr>\n",
       "  </tbody>\n",
       "</table>\n",
       "</div>"
      ],
      "text/plain": [
       "               Population       GDP  Surface Area    HDI Continent\n",
       "Canada             35.467   1785387       9984670  0.913   America\n",
       "France             63.951   2833687        640679  0.888    Europe\n",
       "United States     318.523  17348075       9525067  0.915   America"
      ]
     },
     "execution_count": 79,
     "metadata": {},
     "output_type": "execute_result"
    }
   ],
   "source": [
    "#Multi Indexing\n",
    "df.iloc[[0,1,-1]]"
   ]
  },
  {
   "cell_type": "code",
   "execution_count": 80,
   "metadata": {
    "execution": {
     "iopub.execute_input": "2023-02-02T06:09:38.316743Z",
     "iopub.status.busy": "2023-02-02T06:09:38.315860Z",
     "iopub.status.idle": "2023-02-02T06:09:38.324284Z",
     "shell.execute_reply": "2023-02-02T06:09:38.323404Z",
     "shell.execute_reply.started": "2023-02-02T06:09:38.316697Z"
    }
   },
   "outputs": [
    {
     "data": {
      "text/plain": [
       "France     0.888\n",
       "Germany    0.916\n",
       "Name: HDI, dtype: float64"
      ]
     },
     "execution_count": 80,
     "metadata": {},
     "output_type": "execute_result"
    }
   ],
   "source": [
    "df.iloc[1:3,3]"
   ]
  },
  {
   "cell_type": "code",
   "execution_count": 81,
   "metadata": {
    "execution": {
     "iopub.execute_input": "2023-02-02T06:09:39.286809Z",
     "iopub.status.busy": "2023-02-02T06:09:39.286209Z",
     "iopub.status.idle": "2023-02-02T06:09:39.301338Z",
     "shell.execute_reply": "2023-02-02T06:09:39.300273Z",
     "shell.execute_reply.started": "2023-02-02T06:09:39.286762Z"
    }
   },
   "outputs": [
    {
     "data": {
      "text/html": [
       "<div>\n",
       "<style scoped>\n",
       "    .dataframe tbody tr th:only-of-type {\n",
       "        vertical-align: middle;\n",
       "    }\n",
       "\n",
       "    .dataframe tbody tr th {\n",
       "        vertical-align: top;\n",
       "    }\n",
       "\n",
       "    .dataframe thead th {\n",
       "        text-align: right;\n",
       "    }\n",
       "</style>\n",
       "<table border=\"1\" class=\"dataframe\">\n",
       "  <thead>\n",
       "    <tr style=\"text-align: right;\">\n",
       "      <th></th>\n",
       "      <th>Population</th>\n",
       "      <th>GDP</th>\n",
       "      <th>Surface Area</th>\n",
       "      <th>HDI</th>\n",
       "      <th>Continent</th>\n",
       "    </tr>\n",
       "  </thead>\n",
       "  <tbody>\n",
       "    <tr>\n",
       "      <th>Germany</th>\n",
       "      <td>80.940</td>\n",
       "      <td>3874437</td>\n",
       "      <td>357114</td>\n",
       "      <td>0.916</td>\n",
       "      <td>Europe</td>\n",
       "    </tr>\n",
       "    <tr>\n",
       "      <th>Japan</th>\n",
       "      <td>127.061</td>\n",
       "      <td>4602367</td>\n",
       "      <td>377930</td>\n",
       "      <td>0.891</td>\n",
       "      <td>Asia</td>\n",
       "    </tr>\n",
       "    <tr>\n",
       "      <th>United States</th>\n",
       "      <td>318.523</td>\n",
       "      <td>17348075</td>\n",
       "      <td>9525067</td>\n",
       "      <td>0.915</td>\n",
       "      <td>America</td>\n",
       "    </tr>\n",
       "  </tbody>\n",
       "</table>\n",
       "</div>"
      ],
      "text/plain": [
       "               Population       GDP  Surface Area    HDI Continent\n",
       "Germany            80.940   3874437        357114  0.916    Europe\n",
       "Japan             127.061   4602367        377930  0.891      Asia\n",
       "United States     318.523  17348075       9525067  0.915   America"
      ]
     },
     "execution_count": 81,
     "metadata": {},
     "output_type": "execute_result"
    }
   ],
   "source": [
    "df.loc[df[\"Population\"]>70]"
   ]
  },
  {
   "cell_type": "code",
   "execution_count": 82,
   "metadata": {
    "execution": {
     "iopub.execute_input": "2023-02-02T06:09:43.056698Z",
     "iopub.status.busy": "2023-02-02T06:09:43.056044Z",
     "iopub.status.idle": "2023-02-02T06:09:43.064837Z",
     "shell.execute_reply": "2023-02-02T06:09:43.064055Z",
     "shell.execute_reply.started": "2023-02-02T06:09:43.056660Z"
    }
   },
   "outputs": [
    {
     "data": {
      "text/plain": [
       "Germany           3874437\n",
       "Japan             4602367\n",
       "United States    17348075\n",
       "Name: GDP, dtype: int64"
      ]
     },
     "execution_count": 82,
     "metadata": {},
     "output_type": "execute_result"
    }
   ],
   "source": [
    "df.loc[df[\"Population\"]>70, \"GDP\"]"
   ]
  },
  {
   "cell_type": "code",
   "execution_count": 83,
   "metadata": {
    "execution": {
     "iopub.execute_input": "2023-02-02T06:09:43.696177Z",
     "iopub.status.busy": "2023-02-02T06:09:43.695684Z",
     "iopub.status.idle": "2023-02-02T06:09:43.711897Z",
     "shell.execute_reply": "2023-02-02T06:09:43.710529Z",
     "shell.execute_reply.started": "2023-02-02T06:09:43.696140Z"
    }
   },
   "outputs": [
    {
     "data": {
      "text/html": [
       "<div>\n",
       "<style scoped>\n",
       "    .dataframe tbody tr th:only-of-type {\n",
       "        vertical-align: middle;\n",
       "    }\n",
       "\n",
       "    .dataframe tbody tr th {\n",
       "        vertical-align: top;\n",
       "    }\n",
       "\n",
       "    .dataframe thead th {\n",
       "        text-align: right;\n",
       "    }\n",
       "</style>\n",
       "<table border=\"1\" class=\"dataframe\">\n",
       "  <thead>\n",
       "    <tr style=\"text-align: right;\">\n",
       "      <th></th>\n",
       "      <th>Population</th>\n",
       "      <th>GDP</th>\n",
       "      <th>Surface Area</th>\n",
       "      <th>HDI</th>\n",
       "      <th>Continent</th>\n",
       "    </tr>\n",
       "  </thead>\n",
       "  <tbody>\n",
       "    <tr>\n",
       "      <th>France</th>\n",
       "      <td>63.951</td>\n",
       "      <td>2833687</td>\n",
       "      <td>640679</td>\n",
       "      <td>0.888</td>\n",
       "      <td>Europe</td>\n",
       "    </tr>\n",
       "    <tr>\n",
       "      <th>Germany</th>\n",
       "      <td>80.940</td>\n",
       "      <td>3874437</td>\n",
       "      <td>357114</td>\n",
       "      <td>0.916</td>\n",
       "      <td>Europe</td>\n",
       "    </tr>\n",
       "    <tr>\n",
       "      <th>Italy</th>\n",
       "      <td>60.665</td>\n",
       "      <td>2167744</td>\n",
       "      <td>301336</td>\n",
       "      <td>0.873</td>\n",
       "      <td>Europe</td>\n",
       "    </tr>\n",
       "    <tr>\n",
       "      <th>Japan</th>\n",
       "      <td>127.061</td>\n",
       "      <td>4602367</td>\n",
       "      <td>377930</td>\n",
       "      <td>0.891</td>\n",
       "      <td>Asia</td>\n",
       "    </tr>\n",
       "    <tr>\n",
       "      <th>United Kingdom</th>\n",
       "      <td>64.511</td>\n",
       "      <td>2950039</td>\n",
       "      <td>242495</td>\n",
       "      <td>0.907</td>\n",
       "      <td>Europe</td>\n",
       "    </tr>\n",
       "    <tr>\n",
       "      <th>United States</th>\n",
       "      <td>318.523</td>\n",
       "      <td>17348075</td>\n",
       "      <td>9525067</td>\n",
       "      <td>0.915</td>\n",
       "      <td>America</td>\n",
       "    </tr>\n",
       "  </tbody>\n",
       "</table>\n",
       "</div>"
      ],
      "text/plain": [
       "                Population       GDP  Surface Area    HDI Continent\n",
       "France              63.951   2833687        640679  0.888    Europe\n",
       "Germany             80.940   3874437        357114  0.916    Europe\n",
       "Italy               60.665   2167744        301336  0.873    Europe\n",
       "Japan              127.061   4602367        377930  0.891      Asia\n",
       "United Kingdom      64.511   2950039        242495  0.907    Europe\n",
       "United States      318.523  17348075       9525067  0.915   America"
      ]
     },
     "execution_count": 83,
     "metadata": {},
     "output_type": "execute_result"
    }
   ],
   "source": [
    "df.drop([\"Canada\"])"
   ]
  },
  {
   "cell_type": "code",
   "execution_count": 84,
   "metadata": {
    "execution": {
     "iopub.execute_input": "2023-02-02T06:09:44.416955Z",
     "iopub.status.busy": "2023-02-02T06:09:44.415896Z",
     "iopub.status.idle": "2023-02-02T06:09:44.429920Z",
     "shell.execute_reply": "2023-02-02T06:09:44.428709Z",
     "shell.execute_reply.started": "2023-02-02T06:09:44.416906Z"
    }
   },
   "outputs": [
    {
     "data": {
      "text/html": [
       "<div>\n",
       "<style scoped>\n",
       "    .dataframe tbody tr th:only-of-type {\n",
       "        vertical-align: middle;\n",
       "    }\n",
       "\n",
       "    .dataframe tbody tr th {\n",
       "        vertical-align: top;\n",
       "    }\n",
       "\n",
       "    .dataframe thead th {\n",
       "        text-align: right;\n",
       "    }\n",
       "</style>\n",
       "<table border=\"1\" class=\"dataframe\">\n",
       "  <thead>\n",
       "    <tr style=\"text-align: right;\">\n",
       "      <th></th>\n",
       "      <th>GDP</th>\n",
       "      <th>Surface Area</th>\n",
       "      <th>Continent</th>\n",
       "    </tr>\n",
       "  </thead>\n",
       "  <tbody>\n",
       "    <tr>\n",
       "      <th>Canada</th>\n",
       "      <td>1785387</td>\n",
       "      <td>9984670</td>\n",
       "      <td>America</td>\n",
       "    </tr>\n",
       "    <tr>\n",
       "      <th>France</th>\n",
       "      <td>2833687</td>\n",
       "      <td>640679</td>\n",
       "      <td>Europe</td>\n",
       "    </tr>\n",
       "    <tr>\n",
       "      <th>Germany</th>\n",
       "      <td>3874437</td>\n",
       "      <td>357114</td>\n",
       "      <td>Europe</td>\n",
       "    </tr>\n",
       "    <tr>\n",
       "      <th>Italy</th>\n",
       "      <td>2167744</td>\n",
       "      <td>301336</td>\n",
       "      <td>Europe</td>\n",
       "    </tr>\n",
       "    <tr>\n",
       "      <th>Japan</th>\n",
       "      <td>4602367</td>\n",
       "      <td>377930</td>\n",
       "      <td>Asia</td>\n",
       "    </tr>\n",
       "    <tr>\n",
       "      <th>United Kingdom</th>\n",
       "      <td>2950039</td>\n",
       "      <td>242495</td>\n",
       "      <td>Europe</td>\n",
       "    </tr>\n",
       "    <tr>\n",
       "      <th>United States</th>\n",
       "      <td>17348075</td>\n",
       "      <td>9525067</td>\n",
       "      <td>America</td>\n",
       "    </tr>\n",
       "  </tbody>\n",
       "</table>\n",
       "</div>"
      ],
      "text/plain": [
       "                     GDP  Surface Area Continent\n",
       "Canada           1785387       9984670   America\n",
       "France           2833687        640679    Europe\n",
       "Germany          3874437        357114    Europe\n",
       "Italy            2167744        301336    Europe\n",
       "Japan            4602367        377930      Asia\n",
       "United Kingdom   2950039        242495    Europe\n",
       "United States   17348075       9525067   America"
      ]
     },
     "execution_count": 84,
     "metadata": {},
     "output_type": "execute_result"
    }
   ],
   "source": [
    "df.drop(columns=[\"Population\", \"HDI\"])"
   ]
  },
  {
   "cell_type": "code",
   "execution_count": 85,
   "metadata": {
    "execution": {
     "iopub.execute_input": "2023-02-02T06:09:45.116319Z",
     "iopub.status.busy": "2023-02-02T06:09:45.115868Z",
     "iopub.status.idle": "2023-02-02T06:09:45.130728Z",
     "shell.execute_reply": "2023-02-02T06:09:45.129628Z",
     "shell.execute_reply.started": "2023-02-02T06:09:45.116285Z"
    }
   },
   "outputs": [
    {
     "data": {
      "text/html": [
       "<div>\n",
       "<style scoped>\n",
       "    .dataframe tbody tr th:only-of-type {\n",
       "        vertical-align: middle;\n",
       "    }\n",
       "\n",
       "    .dataframe tbody tr th {\n",
       "        vertical-align: top;\n",
       "    }\n",
       "\n",
       "    .dataframe thead th {\n",
       "        text-align: right;\n",
       "    }\n",
       "</style>\n",
       "<table border=\"1\" class=\"dataframe\">\n",
       "  <thead>\n",
       "    <tr style=\"text-align: right;\">\n",
       "      <th></th>\n",
       "      <th>Population</th>\n",
       "      <th>GDP</th>\n",
       "      <th>Surface Area</th>\n",
       "      <th>HDI</th>\n",
       "      <th>Continent</th>\n",
       "    </tr>\n",
       "  </thead>\n",
       "  <tbody>\n",
       "    <tr>\n",
       "      <th>France</th>\n",
       "      <td>63.951</td>\n",
       "      <td>2833687</td>\n",
       "      <td>640679</td>\n",
       "      <td>0.888</td>\n",
       "      <td>Europe</td>\n",
       "    </tr>\n",
       "    <tr>\n",
       "      <th>Germany</th>\n",
       "      <td>80.940</td>\n",
       "      <td>3874437</td>\n",
       "      <td>357114</td>\n",
       "      <td>0.916</td>\n",
       "      <td>Europe</td>\n",
       "    </tr>\n",
       "    <tr>\n",
       "      <th>Italy</th>\n",
       "      <td>60.665</td>\n",
       "      <td>2167744</td>\n",
       "      <td>301336</td>\n",
       "      <td>0.873</td>\n",
       "      <td>Europe</td>\n",
       "    </tr>\n",
       "    <tr>\n",
       "      <th>Japan</th>\n",
       "      <td>127.061</td>\n",
       "      <td>4602367</td>\n",
       "      <td>377930</td>\n",
       "      <td>0.891</td>\n",
       "      <td>Asia</td>\n",
       "    </tr>\n",
       "    <tr>\n",
       "      <th>United Kingdom</th>\n",
       "      <td>64.511</td>\n",
       "      <td>2950039</td>\n",
       "      <td>242495</td>\n",
       "      <td>0.907</td>\n",
       "      <td>Europe</td>\n",
       "    </tr>\n",
       "    <tr>\n",
       "      <th>United States</th>\n",
       "      <td>318.523</td>\n",
       "      <td>17348075</td>\n",
       "      <td>9525067</td>\n",
       "      <td>0.915</td>\n",
       "      <td>America</td>\n",
       "    </tr>\n",
       "  </tbody>\n",
       "</table>\n",
       "</div>"
      ],
      "text/plain": [
       "                Population       GDP  Surface Area    HDI Continent\n",
       "France              63.951   2833687        640679  0.888    Europe\n",
       "Germany             80.940   3874437        357114  0.916    Europe\n",
       "Italy               60.665   2167744        301336  0.873    Europe\n",
       "Japan              127.061   4602367        377930  0.891      Asia\n",
       "United Kingdom      64.511   2950039        242495  0.907    Europe\n",
       "United States      318.523  17348075       9525067  0.915   America"
      ]
     },
     "execution_count": 85,
     "metadata": {},
     "output_type": "execute_result"
    }
   ],
   "source": [
    "df.drop([\"Canada\"], axis=\"rows\")"
   ]
  },
  {
   "cell_type": "code",
   "execution_count": 86,
   "metadata": {
    "execution": {
     "iopub.execute_input": "2023-02-02T06:09:45.881510Z",
     "iopub.status.busy": "2023-02-02T06:09:45.880772Z",
     "iopub.status.idle": "2023-02-02T06:09:45.895410Z",
     "shell.execute_reply": "2023-02-02T06:09:45.894369Z",
     "shell.execute_reply.started": "2023-02-02T06:09:45.881461Z"
    }
   },
   "outputs": [
    {
     "data": {
      "text/html": [
       "<div>\n",
       "<style scoped>\n",
       "    .dataframe tbody tr th:only-of-type {\n",
       "        vertical-align: middle;\n",
       "    }\n",
       "\n",
       "    .dataframe tbody tr th {\n",
       "        vertical-align: top;\n",
       "    }\n",
       "\n",
       "    .dataframe thead th {\n",
       "        text-align: right;\n",
       "    }\n",
       "</style>\n",
       "<table border=\"1\" class=\"dataframe\">\n",
       "  <thead>\n",
       "    <tr style=\"text-align: right;\">\n",
       "      <th></th>\n",
       "      <th>Population</th>\n",
       "      <th>GDP</th>\n",
       "      <th>Surface Area</th>\n",
       "      <th>HDI</th>\n",
       "      <th>Continent</th>\n",
       "    </tr>\n",
       "  </thead>\n",
       "  <tbody>\n",
       "    <tr>\n",
       "      <th>France</th>\n",
       "      <td>63.951</td>\n",
       "      <td>2833687</td>\n",
       "      <td>640679</td>\n",
       "      <td>0.888</td>\n",
       "      <td>Europe</td>\n",
       "    </tr>\n",
       "    <tr>\n",
       "      <th>Germany</th>\n",
       "      <td>80.940</td>\n",
       "      <td>3874437</td>\n",
       "      <td>357114</td>\n",
       "      <td>0.916</td>\n",
       "      <td>Europe</td>\n",
       "    </tr>\n",
       "    <tr>\n",
       "      <th>Italy</th>\n",
       "      <td>60.665</td>\n",
       "      <td>2167744</td>\n",
       "      <td>301336</td>\n",
       "      <td>0.873</td>\n",
       "      <td>Europe</td>\n",
       "    </tr>\n",
       "    <tr>\n",
       "      <th>Japan</th>\n",
       "      <td>127.061</td>\n",
       "      <td>4602367</td>\n",
       "      <td>377930</td>\n",
       "      <td>0.891</td>\n",
       "      <td>Asia</td>\n",
       "    </tr>\n",
       "    <tr>\n",
       "      <th>United Kingdom</th>\n",
       "      <td>64.511</td>\n",
       "      <td>2950039</td>\n",
       "      <td>242495</td>\n",
       "      <td>0.907</td>\n",
       "      <td>Europe</td>\n",
       "    </tr>\n",
       "    <tr>\n",
       "      <th>United States</th>\n",
       "      <td>318.523</td>\n",
       "      <td>17348075</td>\n",
       "      <td>9525067</td>\n",
       "      <td>0.915</td>\n",
       "      <td>America</td>\n",
       "    </tr>\n",
       "  </tbody>\n",
       "</table>\n",
       "</div>"
      ],
      "text/plain": [
       "                Population       GDP  Surface Area    HDI Continent\n",
       "France              63.951   2833687        640679  0.888    Europe\n",
       "Germany             80.940   3874437        357114  0.916    Europe\n",
       "Italy               60.665   2167744        301336  0.873    Europe\n",
       "Japan              127.061   4602367        377930  0.891      Asia\n",
       "United Kingdom      64.511   2950039        242495  0.907    Europe\n",
       "United States      318.523  17348075       9525067  0.915   America"
      ]
     },
     "execution_count": 86,
     "metadata": {},
     "output_type": "execute_result"
    }
   ],
   "source": [
    "df.drop([\"Canada\"], axis=0)"
   ]
  },
  {
   "cell_type": "code",
   "execution_count": 87,
   "metadata": {
    "execution": {
     "iopub.execute_input": "2023-02-02T06:09:46.602219Z",
     "iopub.status.busy": "2023-02-02T06:09:46.601173Z",
     "iopub.status.idle": "2023-02-02T06:09:46.615499Z",
     "shell.execute_reply": "2023-02-02T06:09:46.614471Z",
     "shell.execute_reply.started": "2023-02-02T06:09:46.602161Z"
    }
   },
   "outputs": [
    {
     "data": {
      "text/html": [
       "<div>\n",
       "<style scoped>\n",
       "    .dataframe tbody tr th:only-of-type {\n",
       "        vertical-align: middle;\n",
       "    }\n",
       "\n",
       "    .dataframe tbody tr th {\n",
       "        vertical-align: top;\n",
       "    }\n",
       "\n",
       "    .dataframe thead th {\n",
       "        text-align: right;\n",
       "    }\n",
       "</style>\n",
       "<table border=\"1\" class=\"dataframe\">\n",
       "  <thead>\n",
       "    <tr style=\"text-align: right;\">\n",
       "      <th></th>\n",
       "      <th>Population</th>\n",
       "      <th>GDP</th>\n",
       "    </tr>\n",
       "  </thead>\n",
       "  <tbody>\n",
       "    <tr>\n",
       "      <th>Canada</th>\n",
       "      <td>0.35467</td>\n",
       "      <td>17853.87</td>\n",
       "    </tr>\n",
       "    <tr>\n",
       "      <th>France</th>\n",
       "      <td>0.63951</td>\n",
       "      <td>28336.87</td>\n",
       "    </tr>\n",
       "    <tr>\n",
       "      <th>Germany</th>\n",
       "      <td>0.80940</td>\n",
       "      <td>38744.37</td>\n",
       "    </tr>\n",
       "    <tr>\n",
       "      <th>Italy</th>\n",
       "      <td>0.60665</td>\n",
       "      <td>21677.44</td>\n",
       "    </tr>\n",
       "    <tr>\n",
       "      <th>Japan</th>\n",
       "      <td>1.27061</td>\n",
       "      <td>46023.67</td>\n",
       "    </tr>\n",
       "    <tr>\n",
       "      <th>United Kingdom</th>\n",
       "      <td>0.64511</td>\n",
       "      <td>29500.39</td>\n",
       "    </tr>\n",
       "    <tr>\n",
       "      <th>United States</th>\n",
       "      <td>3.18523</td>\n",
       "      <td>173480.75</td>\n",
       "    </tr>\n",
       "  </tbody>\n",
       "</table>\n",
       "</div>"
      ],
      "text/plain": [
       "                Population        GDP\n",
       "Canada             0.35467   17853.87\n",
       "France             0.63951   28336.87\n",
       "Germany            0.80940   38744.37\n",
       "Italy              0.60665   21677.44\n",
       "Japan              1.27061   46023.67\n",
       "United Kingdom     0.64511   29500.39\n",
       "United States      3.18523  173480.75"
      ]
     },
     "execution_count": 87,
     "metadata": {},
     "output_type": "execute_result"
    }
   ],
   "source": [
    "df[['Population', 'GDP']] / 100"
   ]
  },
  {
   "cell_type": "code",
   "execution_count": 86,
   "metadata": {
    "execution": {
     "iopub.execute_input": "2023-02-02T06:09:47.481608Z",
     "iopub.status.busy": "2023-02-02T06:09:47.480760Z",
     "iopub.status.idle": "2023-02-02T06:09:47.489894Z",
     "shell.execute_reply": "2023-02-02T06:09:47.488955Z",
     "shell.execute_reply.started": "2023-02-02T06:09:47.481566Z"
    }
   },
   "outputs": [
    {
     "data": {
      "text/plain": [
       "GDP   -1000000.0\n",
       "HDI         -0.3\n",
       "dtype: float64"
      ]
     },
     "execution_count": 86,
     "metadata": {},
     "output_type": "execute_result"
    }
   ],
   "source": [
    "crisis = pd.Series([-1_000_000, -0.3], index=['GDP', 'HDI'])\n",
    "crisis"
   ]
  },
  {
   "cell_type": "code",
   "execution_count": 87,
   "metadata": {
    "execution": {
     "iopub.execute_input": "2023-02-02T06:09:48.281357Z",
     "iopub.status.busy": "2023-02-02T06:09:48.280926Z",
     "iopub.status.idle": "2023-02-02T06:09:48.293123Z",
     "shell.execute_reply": "2023-02-02T06:09:48.292054Z",
     "shell.execute_reply.started": "2023-02-02T06:09:48.281325Z"
    }
   },
   "outputs": [
    {
     "data": {
      "text/html": [
       "<div>\n",
       "<style scoped>\n",
       "    .dataframe tbody tr th:only-of-type {\n",
       "        vertical-align: middle;\n",
       "    }\n",
       "\n",
       "    .dataframe tbody tr th {\n",
       "        vertical-align: top;\n",
       "    }\n",
       "\n",
       "    .dataframe thead th {\n",
       "        text-align: right;\n",
       "    }\n",
       "</style>\n",
       "<table border=\"1\" class=\"dataframe\">\n",
       "  <thead>\n",
       "    <tr style=\"text-align: right;\">\n",
       "      <th></th>\n",
       "      <th>GDP</th>\n",
       "      <th>HDI</th>\n",
       "    </tr>\n",
       "  </thead>\n",
       "  <tbody>\n",
       "    <tr>\n",
       "      <th>Canada</th>\n",
       "      <td>1785387</td>\n",
       "      <td>0.913</td>\n",
       "    </tr>\n",
       "    <tr>\n",
       "      <th>France</th>\n",
       "      <td>2833687</td>\n",
       "      <td>0.888</td>\n",
       "    </tr>\n",
       "    <tr>\n",
       "      <th>Germany</th>\n",
       "      <td>3874437</td>\n",
       "      <td>0.916</td>\n",
       "    </tr>\n",
       "    <tr>\n",
       "      <th>Italy</th>\n",
       "      <td>2167744</td>\n",
       "      <td>0.873</td>\n",
       "    </tr>\n",
       "    <tr>\n",
       "      <th>Japan</th>\n",
       "      <td>4602367</td>\n",
       "      <td>0.891</td>\n",
       "    </tr>\n",
       "    <tr>\n",
       "      <th>United Kingdom</th>\n",
       "      <td>2950039</td>\n",
       "      <td>0.907</td>\n",
       "    </tr>\n",
       "    <tr>\n",
       "      <th>United States</th>\n",
       "      <td>17348075</td>\n",
       "      <td>0.915</td>\n",
       "    </tr>\n",
       "  </tbody>\n",
       "</table>\n",
       "</div>"
      ],
      "text/plain": [
       "                     GDP    HDI\n",
       "Canada           1785387  0.913\n",
       "France           2833687  0.888\n",
       "Germany          3874437  0.916\n",
       "Italy            2167744  0.873\n",
       "Japan            4602367  0.891\n",
       "United Kingdom   2950039  0.907\n",
       "United States   17348075  0.915"
      ]
     },
     "execution_count": 87,
     "metadata": {},
     "output_type": "execute_result"
    }
   ],
   "source": [
    "df[['GDP', 'HDI']]"
   ]
  },
  {
   "cell_type": "code",
   "execution_count": 88,
   "metadata": {
    "execution": {
     "iopub.execute_input": "2023-02-02T06:09:49.606347Z",
     "iopub.status.busy": "2023-02-02T06:09:49.605929Z",
     "iopub.status.idle": "2023-02-02T06:09:49.619382Z",
     "shell.execute_reply": "2023-02-02T06:09:49.618462Z",
     "shell.execute_reply.started": "2023-02-02T06:09:49.606313Z"
    }
   },
   "outputs": [
    {
     "data": {
      "text/html": [
       "<div>\n",
       "<style scoped>\n",
       "    .dataframe tbody tr th:only-of-type {\n",
       "        vertical-align: middle;\n",
       "    }\n",
       "\n",
       "    .dataframe tbody tr th {\n",
       "        vertical-align: top;\n",
       "    }\n",
       "\n",
       "    .dataframe thead th {\n",
       "        text-align: right;\n",
       "    }\n",
       "</style>\n",
       "<table border=\"1\" class=\"dataframe\">\n",
       "  <thead>\n",
       "    <tr style=\"text-align: right;\">\n",
       "      <th></th>\n",
       "      <th>GDP</th>\n",
       "      <th>HDI</th>\n",
       "    </tr>\n",
       "  </thead>\n",
       "  <tbody>\n",
       "    <tr>\n",
       "      <th>Canada</th>\n",
       "      <td>785387.0</td>\n",
       "      <td>0.613</td>\n",
       "    </tr>\n",
       "    <tr>\n",
       "      <th>France</th>\n",
       "      <td>1833687.0</td>\n",
       "      <td>0.588</td>\n",
       "    </tr>\n",
       "    <tr>\n",
       "      <th>Germany</th>\n",
       "      <td>2874437.0</td>\n",
       "      <td>0.616</td>\n",
       "    </tr>\n",
       "    <tr>\n",
       "      <th>Italy</th>\n",
       "      <td>1167744.0</td>\n",
       "      <td>0.573</td>\n",
       "    </tr>\n",
       "    <tr>\n",
       "      <th>Japan</th>\n",
       "      <td>3602367.0</td>\n",
       "      <td>0.591</td>\n",
       "    </tr>\n",
       "    <tr>\n",
       "      <th>United Kingdom</th>\n",
       "      <td>1950039.0</td>\n",
       "      <td>0.607</td>\n",
       "    </tr>\n",
       "    <tr>\n",
       "      <th>United States</th>\n",
       "      <td>16348075.0</td>\n",
       "      <td>0.615</td>\n",
       "    </tr>\n",
       "  </tbody>\n",
       "</table>\n",
       "</div>"
      ],
      "text/plain": [
       "                       GDP    HDI\n",
       "Canada            785387.0  0.613\n",
       "France           1833687.0  0.588\n",
       "Germany          2874437.0  0.616\n",
       "Italy            1167744.0  0.573\n",
       "Japan            3602367.0  0.591\n",
       "United Kingdom   1950039.0  0.607\n",
       "United States   16348075.0  0.615"
      ]
     },
     "execution_count": 88,
     "metadata": {},
     "output_type": "execute_result"
    }
   ],
   "source": [
    "df[['GDP', 'HDI']] + crisis"
   ]
  },
  {
   "cell_type": "code",
   "execution_count": null,
   "metadata": {
    "execution": {
     "iopub.execute_input": "2022-06-29T00:49:59.105035Z",
     "iopub.status.busy": "2022-06-29T00:49:59.104305Z",
     "iopub.status.idle": "2022-06-29T00:49:59.110758Z",
     "shell.execute_reply": "2022-06-29T00:49:59.109877Z",
     "shell.execute_reply.started": "2022-06-29T00:49:59.104989Z"
    }
   },
   "outputs": [],
   "source": [
    "lang = pd.Series([\"Frech\", \"German\", \"Italian\"],\n",
    "                index=[\"France\",\"Germany\",\"Italy\"],\n",
    "                name = \"L\")"
   ]
  },
  {
   "cell_type": "code",
   "execution_count": null,
   "metadata": {
    "execution": {
     "iopub.execute_input": "2022-06-29T00:49:59.112886Z",
     "iopub.status.busy": "2022-06-29T00:49:59.112261Z",
     "iopub.status.idle": "2022-06-29T00:49:59.126728Z",
     "shell.execute_reply": "2022-06-29T00:49:59.125787Z",
     "shell.execute_reply.started": "2022-06-29T00:49:59.112819Z"
    }
   },
   "outputs": [],
   "source": [
    "lang"
   ]
  },
  {
   "cell_type": "code",
   "execution_count": null,
   "metadata": {
    "execution": {
     "iopub.execute_input": "2022-06-29T00:49:59.128474Z",
     "iopub.status.busy": "2022-06-29T00:49:59.128166Z",
     "iopub.status.idle": "2022-06-29T00:49:59.136307Z",
     "shell.execute_reply": "2022-06-29T00:49:59.135658Z",
     "shell.execute_reply.started": "2022-06-29T00:49:59.128447Z"
    }
   },
   "outputs": [],
   "source": [
    "df[\"Languages\"] = lang"
   ]
  },
  {
   "cell_type": "code",
   "execution_count": null,
   "metadata": {
    "execution": {
     "iopub.execute_input": "2022-06-29T00:49:59.137782Z",
     "iopub.status.busy": "2022-06-29T00:49:59.137177Z",
     "iopub.status.idle": "2022-06-29T00:49:59.156434Z",
     "shell.execute_reply": "2022-06-29T00:49:59.155383Z",
     "shell.execute_reply.started": "2022-06-29T00:49:59.137749Z"
    }
   },
   "outputs": [],
   "source": [
    "df"
   ]
  },
  {
   "cell_type": "code",
   "execution_count": null,
   "metadata": {
    "execution": {
     "iopub.execute_input": "2022-06-29T00:49:59.158218Z",
     "iopub.status.busy": "2022-06-29T00:49:59.157387Z",
     "iopub.status.idle": "2022-06-29T00:49:59.177957Z",
     "shell.execute_reply": "2022-06-29T00:49:59.177196Z",
     "shell.execute_reply.started": "2022-06-29T00:49:59.158183Z"
    }
   },
   "outputs": [],
   "source": [
    "df.rename(\n",
    "    columns={\n",
    "        'HDI': 'Human Development Index',\n",
    "        'Anual Popcorn Consumption': 'APC'\n",
    "    }, index={\n",
    "        'United States': 'USA',\n",
    "        'United Kingdom': 'UK',\n",
    "        'Argentina': 'AR'\n",
    "    })\n",
    "#Here Argentina is not in df, still it won't give an error. Will just change all the names who matches to df"
   ]
  },
  {
   "cell_type": "code",
   "execution_count": null,
   "metadata": {
    "execution": {
     "iopub.execute_input": "2022-06-29T00:49:59.179602Z",
     "iopub.status.busy": "2022-06-29T00:49:59.178966Z",
     "iopub.status.idle": "2022-06-29T00:49:59.205521Z",
     "shell.execute_reply": "2022-06-29T00:49:59.204609Z",
     "shell.execute_reply.started": "2022-06-29T00:49:59.179565Z"
    }
   },
   "outputs": [],
   "source": [
    "df.rename(index=str.upper)"
   ]
  },
  {
   "cell_type": "code",
   "execution_count": null,
   "metadata": {
    "execution": {
     "iopub.execute_input": "2022-06-29T00:49:59.206934Z",
     "iopub.status.busy": "2022-06-29T00:49:59.206598Z",
     "iopub.status.idle": "2022-06-29T00:49:59.221726Z",
     "shell.execute_reply": "2022-06-29T00:49:59.220749Z",
     "shell.execute_reply.started": "2022-06-29T00:49:59.206900Z"
    }
   },
   "outputs": [],
   "source": [
    "df.rename(index=lambda x: x.lower())"
   ]
  },
  {
   "cell_type": "code",
   "execution_count": null,
   "metadata": {
    "execution": {
     "iopub.execute_input": "2022-06-29T00:49:59.223427Z",
     "iopub.status.busy": "2022-06-29T00:49:59.223124Z",
     "iopub.status.idle": "2022-06-29T00:49:59.228722Z",
     "shell.execute_reply": "2022-06-29T00:49:59.227734Z",
     "shell.execute_reply.started": "2022-06-29T00:49:59.223399Z"
    }
   },
   "outputs": [],
   "source": [
    "df.drop(columns='Languages', inplace=True)\n"
   ]
  },
  {
   "cell_type": "code",
   "execution_count": null,
   "metadata": {
    "execution": {
     "iopub.execute_input": "2022-06-29T00:49:59.230213Z",
     "iopub.status.busy": "2022-06-29T00:49:59.229899Z",
     "iopub.status.idle": "2022-06-29T00:49:59.254216Z",
     "shell.execute_reply": "2022-06-29T00:49:59.253511Z",
     "shell.execute_reply.started": "2022-06-29T00:49:59.230182Z"
    }
   },
   "outputs": [],
   "source": [
    "df.append(pd.Series({\n",
    "    'Population': 3,\n",
    "    'GDP': 5\n",
    "}, name='China'))"
   ]
  },
  {
   "cell_type": "code",
   "execution_count": null,
   "metadata": {
    "execution": {
     "iopub.execute_input": "2022-06-29T00:49:59.255678Z",
     "iopub.status.busy": "2022-06-29T00:49:59.255079Z",
     "iopub.status.idle": "2022-06-29T00:49:59.274246Z",
     "shell.execute_reply": "2022-06-29T00:49:59.273108Z",
     "shell.execute_reply.started": "2022-06-29T00:49:59.255648Z"
    }
   },
   "outputs": [],
   "source": [
    "df"
   ]
  },
  {
   "cell_type": "code",
   "execution_count": null,
   "metadata": {
    "execution": {
     "iopub.execute_input": "2022-06-29T00:49:59.276026Z",
     "iopub.status.busy": "2022-06-29T00:49:59.275230Z",
     "iopub.status.idle": "2022-06-29T00:49:59.284800Z",
     "shell.execute_reply": "2022-06-29T00:49:59.283836Z",
     "shell.execute_reply.started": "2022-06-29T00:49:59.275992Z"
    }
   },
   "outputs": [],
   "source": [
    "df.loc['China'] = pd.Series({'Population': 1_400_000_000, 'Continent': 'Asia'})"
   ]
  },
  {
   "cell_type": "code",
   "execution_count": null,
   "metadata": {
    "execution": {
     "iopub.execute_input": "2022-06-29T00:49:59.286513Z",
     "iopub.status.busy": "2022-06-29T00:49:59.285825Z",
     "iopub.status.idle": "2022-06-29T00:49:59.304319Z",
     "shell.execute_reply": "2022-06-29T00:49:59.303664Z",
     "shell.execute_reply.started": "2022-06-29T00:49:59.286483Z"
    }
   },
   "outputs": [],
   "source": [
    "df"
   ]
  },
  {
   "cell_type": "code",
   "execution_count": null,
   "metadata": {
    "execution": {
     "iopub.execute_input": "2022-06-29T00:49:59.305778Z",
     "iopub.status.busy": "2022-06-29T00:49:59.305361Z",
     "iopub.status.idle": "2022-06-29T00:49:59.310518Z",
     "shell.execute_reply": "2022-06-29T00:49:59.309637Z",
     "shell.execute_reply.started": "2022-06-29T00:49:59.305749Z"
    }
   },
   "outputs": [],
   "source": [
    "df.drop('China', inplace=True)"
   ]
  },
  {
   "cell_type": "code",
   "execution_count": null,
   "metadata": {
    "execution": {
     "iopub.execute_input": "2022-06-29T00:49:59.312902Z",
     "iopub.status.busy": "2022-06-29T00:49:59.312105Z",
     "iopub.status.idle": "2022-06-29T00:49:59.334152Z",
     "shell.execute_reply": "2022-06-29T00:49:59.333339Z",
     "shell.execute_reply.started": "2022-06-29T00:49:59.312841Z"
    }
   },
   "outputs": [],
   "source": [
    "df.reset_index()\n"
   ]
  },
  {
   "cell_type": "code",
   "execution_count": null,
   "metadata": {
    "execution": {
     "iopub.execute_input": "2022-06-29T00:49:59.335955Z",
     "iopub.status.busy": "2022-06-29T00:49:59.335181Z",
     "iopub.status.idle": "2022-06-29T00:49:59.356476Z",
     "shell.execute_reply": "2022-06-29T00:49:59.355411Z",
     "shell.execute_reply.started": "2022-06-29T00:49:59.335920Z"
    }
   },
   "outputs": [],
   "source": [
    "df.set_index('Population')"
   ]
  },
  {
   "cell_type": "code",
   "execution_count": null,
   "metadata": {
    "execution": {
     "iopub.execute_input": "2022-06-29T00:49:59.359351Z",
     "iopub.status.busy": "2022-06-29T00:49:59.358887Z",
     "iopub.status.idle": "2022-06-29T00:49:59.380451Z",
     "shell.execute_reply": "2022-06-29T00:49:59.379446Z",
     "shell.execute_reply.started": "2022-06-29T00:49:59.359318Z"
    }
   },
   "outputs": [],
   "source": [
    "df['GDP Per Capita'] = df['GDP'] / df['Population']\n",
    "df"
   ]
  },
  {
   "cell_type": "code",
   "execution_count": null,
   "metadata": {
    "execution": {
     "iopub.execute_input": "2022-06-29T00:49:59.387379Z",
     "iopub.status.busy": "2022-06-29T00:49:59.386630Z",
     "iopub.status.idle": "2022-06-29T00:49:59.393151Z",
     "shell.execute_reply": "2022-06-29T00:49:59.392329Z",
     "shell.execute_reply.started": "2022-06-29T00:49:59.387343Z"
    }
   },
   "outputs": [],
   "source": [
    "population = df[\"Population\"]\n",
    "population.min(), population.max()"
   ]
  },
  {
   "cell_type": "code",
   "execution_count": null,
   "metadata": {
    "execution": {
     "iopub.execute_input": "2022-06-29T00:49:59.395175Z",
     "iopub.status.busy": "2022-06-29T00:49:59.394361Z",
     "iopub.status.idle": "2022-06-29T00:49:59.407256Z",
     "shell.execute_reply": "2022-06-29T00:49:59.406385Z",
     "shell.execute_reply.started": "2022-06-29T00:49:59.395139Z"
    }
   },
   "outputs": [],
   "source": [
    "population.sum()"
   ]
  },
  {
   "cell_type": "code",
   "execution_count": null,
   "metadata": {
    "execution": {
     "iopub.execute_input": "2022-06-29T00:49:59.409110Z",
     "iopub.status.busy": "2022-06-29T00:49:59.408281Z",
     "iopub.status.idle": "2022-06-29T00:49:59.419592Z",
     "shell.execute_reply": "2022-06-29T00:49:59.418843Z",
     "shell.execute_reply.started": "2022-06-29T00:49:59.409077Z"
    }
   },
   "outputs": [],
   "source": [
    "population.sum() / len(population)"
   ]
  },
  {
   "cell_type": "code",
   "execution_count": null,
   "metadata": {
    "execution": {
     "iopub.execute_input": "2022-06-29T00:49:59.421497Z",
     "iopub.status.busy": "2022-06-29T00:49:59.420633Z",
     "iopub.status.idle": "2022-06-29T00:49:59.432739Z",
     "shell.execute_reply": "2022-06-29T00:49:59.431923Z",
     "shell.execute_reply.started": "2022-06-29T00:49:59.421464Z"
    }
   },
   "outputs": [],
   "source": [
    "population.mean()"
   ]
  },
  {
   "cell_type": "code",
   "execution_count": null,
   "metadata": {
    "execution": {
     "iopub.execute_input": "2022-06-29T00:49:59.434761Z",
     "iopub.status.busy": "2022-06-29T00:49:59.433905Z",
     "iopub.status.idle": "2022-06-29T00:49:59.449731Z",
     "shell.execute_reply": "2022-06-29T00:49:59.449014Z",
     "shell.execute_reply.started": "2022-06-29T00:49:59.434725Z"
    }
   },
   "outputs": [],
   "source": [
    "population.std()\n",
    "population.median()\n",
    "population.describe()"
   ]
  },
  {
   "cell_type": "code",
   "execution_count": null,
   "metadata": {
    "execution": {
     "iopub.execute_input": "2022-06-29T00:49:59.451397Z",
     "iopub.status.busy": "2022-06-29T00:49:59.450730Z",
     "iopub.status.idle": "2022-06-29T00:49:59.464597Z",
     "shell.execute_reply": "2022-06-29T00:49:59.463805Z",
     "shell.execute_reply.started": "2022-06-29T00:49:59.451360Z"
    }
   },
   "outputs": [],
   "source": [
    "population.quantile(.25)"
   ]
  },
  {
   "cell_type": "code",
   "execution_count": null,
   "metadata": {
    "execution": {
     "iopub.execute_input": "2022-06-29T00:49:59.466479Z",
     "iopub.status.busy": "2022-06-29T00:49:59.465923Z",
     "iopub.status.idle": "2022-06-29T00:49:59.481962Z",
     "shell.execute_reply": "2022-06-29T00:49:59.480619Z",
     "shell.execute_reply.started": "2022-06-29T00:49:59.466430Z"
    }
   },
   "outputs": [],
   "source": [
    "population.quantile([.2, .4, .6, .8, 1])"
   ]
  },
  {
   "cell_type": "code",
   "execution_count": null,
   "metadata": {
    "execution": {
     "iopub.execute_input": "2022-06-29T00:49:59.484109Z",
     "iopub.status.busy": "2022-06-29T00:49:59.483536Z",
     "iopub.status.idle": "2022-06-29T00:49:59.492753Z",
     "shell.execute_reply": "2022-06-29T00:49:59.491838Z",
     "shell.execute_reply.started": "2022-06-29T00:49:59.484063Z"
    }
   },
   "outputs": [],
   "source": [
    "#Now we will see how to use readymade datasets and matplotlib\n",
    "import matplotlib.pyplot as plt"
   ]
  },
  {
   "cell_type": "code",
   "execution_count": null,
   "metadata": {
    "execution": {
     "iopub.execute_input": "2022-06-29T00:49:59.494310Z",
     "iopub.status.busy": "2022-06-29T00:49:59.494010Z",
     "iopub.status.idle": "2022-06-29T00:49:59.521381Z",
     "shell.execute_reply": "2022-06-29T00:49:59.520368Z",
     "shell.execute_reply.started": "2022-06-29T00:49:59.494282Z"
    }
   },
   "outputs": [],
   "source": [
    "df = pd.read_csv(\"../input/btc-10-years-price-data-20122021/BTC 2012-2021.csv\")\n",
    "#Header= can be used to assign header if not exist by default"
   ]
  },
  {
   "cell_type": "code",
   "execution_count": null,
   "metadata": {
    "execution": {
     "iopub.execute_input": "2022-06-29T00:49:59.522922Z",
     "iopub.status.busy": "2022-06-29T00:49:59.522547Z",
     "iopub.status.idle": "2022-06-29T00:49:59.538045Z",
     "shell.execute_reply": "2022-06-29T00:49:59.537083Z",
     "shell.execute_reply.started": "2022-06-29T00:49:59.522888Z"
    }
   },
   "outputs": [],
   "source": [
    "df.head()"
   ]
  },
  {
   "cell_type": "code",
   "execution_count": null,
   "metadata": {
    "execution": {
     "iopub.execute_input": "2022-06-29T00:49:59.539761Z",
     "iopub.status.busy": "2022-06-29T00:49:59.539121Z",
     "iopub.status.idle": "2022-06-29T00:49:59.550697Z",
     "shell.execute_reply": "2022-06-29T00:49:59.549976Z",
     "shell.execute_reply.started": "2022-06-29T00:49:59.539726Z"
    }
   },
   "outputs": [],
   "source": [
    "df.shape"
   ]
  },
  {
   "cell_type": "code",
   "execution_count": null,
   "metadata": {
    "execution": {
     "iopub.execute_input": "2022-06-29T00:49:59.552708Z",
     "iopub.status.busy": "2022-06-29T00:49:59.551757Z",
     "iopub.status.idle": "2022-06-29T00:49:59.577640Z",
     "shell.execute_reply": "2022-06-29T00:49:59.576686Z",
     "shell.execute_reply.started": "2022-06-29T00:49:59.552672Z"
    }
   },
   "outputs": [],
   "source": [
    "df.tail()"
   ]
  },
  {
   "cell_type": "code",
   "execution_count": null,
   "metadata": {
    "execution": {
     "iopub.execute_input": "2022-06-29T00:49:59.579382Z",
     "iopub.status.busy": "2022-06-29T00:49:59.578930Z",
     "iopub.status.idle": "2022-06-29T00:49:59.587162Z",
     "shell.execute_reply": "2022-06-29T00:49:59.586136Z",
     "shell.execute_reply.started": "2022-06-29T00:49:59.579346Z"
    }
   },
   "outputs": [],
   "source": [
    "df.dtypes"
   ]
  },
  {
   "cell_type": "code",
   "execution_count": null,
   "metadata": {
    "execution": {
     "iopub.execute_input": "2022-06-29T00:49:59.588806Z",
     "iopub.status.busy": "2022-06-29T00:49:59.588489Z",
     "iopub.status.idle": "2022-06-29T00:49:59.616440Z",
     "shell.execute_reply": "2022-06-29T00:49:59.615768Z",
     "shell.execute_reply.started": "2022-06-29T00:49:59.588779Z"
    }
   },
   "outputs": [],
   "source": [
    "df.rename(columns = {\"Date\":\"Timestamp\"}, inplace=True)\n",
    "df"
   ]
  },
  {
   "cell_type": "code",
   "execution_count": null,
   "metadata": {
    "execution": {
     "iopub.execute_input": "2022-06-29T00:49:59.617824Z",
     "iopub.status.busy": "2022-06-29T00:49:59.617360Z",
     "iopub.status.idle": "2022-06-29T00:49:59.632813Z",
     "shell.execute_reply": "2022-06-29T00:49:59.631932Z",
     "shell.execute_reply.started": "2022-06-29T00:49:59.617789Z"
    }
   },
   "outputs": [],
   "source": [
    "df['Timestamp'] = pd.to_datetime(df['Timestamp'])"
   ]
  },
  {
   "cell_type": "code",
   "execution_count": null,
   "metadata": {
    "execution": {
     "iopub.execute_input": "2022-06-29T00:49:59.634747Z",
     "iopub.status.busy": "2022-06-29T00:49:59.634027Z",
     "iopub.status.idle": "2022-06-29T00:49:59.663509Z",
     "shell.execute_reply": "2022-06-29T00:49:59.662744Z",
     "shell.execute_reply.started": "2022-06-29T00:49:59.634698Z"
    }
   },
   "outputs": [],
   "source": [
    "df"
   ]
  },
  {
   "cell_type": "code",
   "execution_count": null,
   "metadata": {
    "execution": {
     "iopub.execute_input": "2022-06-29T00:49:59.665324Z",
     "iopub.status.busy": "2022-06-29T00:49:59.664453Z",
     "iopub.status.idle": "2022-06-29T00:49:59.669251Z",
     "shell.execute_reply": "2022-06-29T00:49:59.668401Z",
     "shell.execute_reply.started": "2022-06-29T00:49:59.665283Z"
    }
   },
   "outputs": [],
   "source": [
    "#IMP - read_csv function can take multiple commands and with 5-6 lines of code in one cell;\n",
    "#all the process above done can be done\n",
    "\n",
    "#isna,notna, fillna, replace, duplicated, drop_na, drop_duplicated, contains, \n",
    "#split etc.. are very useful functions in data cleaning"
   ]
  },
  {
   "cell_type": "code",
   "execution_count": null,
   "metadata": {},
   "outputs": [],
   "source": []
  },
  {
   "cell_type": "code",
   "execution_count": 1,
   "metadata": {
    "execution": {
     "iopub.execute_input": "2022-08-06T00:36:50.803213Z",
     "iopub.status.busy": "2022-08-06T00:36:50.802339Z",
     "iopub.status.idle": "2022-08-06T00:36:50.836972Z",
     "shell.execute_reply": "2022-08-06T00:36:50.835826Z",
     "shell.execute_reply.started": "2022-08-06T00:36:50.803114Z"
    }
   },
   "outputs": [],
   "source": [
    "#Now Matplotlib will begin\n",
    "import numpy as np\n",
    "import pandas as pd\n",
    "import matplotlib.pyplot as plt\n",
    "%matplotlib inline"
   ]
  },
  {
   "cell_type": "code",
   "execution_count": 2,
   "metadata": {
    "execution": {
     "iopub.execute_input": "2022-08-06T00:36:50.838915Z",
     "iopub.status.busy": "2022-08-06T00:36:50.838413Z",
     "iopub.status.idle": "2022-08-06T00:36:51.027070Z",
     "shell.execute_reply": "2022-08-06T00:36:51.025630Z",
     "shell.execute_reply.started": "2022-08-06T00:36:50.838881Z"
    }
   },
   "outputs": [
    {
     "name": "stdout",
     "output_type": "stream",
     "text": [
      "[0.         0.55555556 1.11111111 1.66666667 2.22222222 2.77777778\n",
      " 3.33333333 3.88888889 4.44444444 5.        ]\n"
     ]
    },
    {
     "data": {
      "text/plain": [
       "Text(0, 0.5, 'Square of X')"
      ]
     },
     "execution_count": 2,
     "metadata": {},
     "output_type": "execute_result"
    },
    {
     "data": {
      "image/png": "[encoded data removed]",
      "text/plain": [
       "<Figure size 432x288 with 1 Axes>"
      ]
     },
     "metadata": {
      "needs_background": "light"
     },
     "output_type": "display_data"
    }
   ],
   "source": [
    "x = np.linspace(0,5,10)\n",
    "print(x)\n",
    "# x = np.arange(6)\n",
    "y = x**2\n",
    "plt.plot(x,y)\n",
    "plt.title(\"Square of numbers\")\n",
    "plt.xlabel(\"Input X\")\n",
    "plt.ylabel(\"Square of X\")\n",
    "# y=x+2"
   ]
  },
  {
   "cell_type": "code",
   "execution_count": 3,
   "metadata": {
    "execution": {
     "iopub.execute_input": "2022-08-06T00:36:51.028522Z",
     "iopub.status.busy": "2022-08-06T00:36:51.028160Z",
     "iopub.status.idle": "2022-08-06T00:36:51.289314Z",
     "shell.execute_reply": "2022-08-06T00:36:51.288326Z",
     "shell.execute_reply.started": "2022-08-06T00:36:51.028490Z"
    }
   },
   "outputs": [
    {
     "data": {
      "text/plain": [
       "[<matplotlib.lines.Line2D at 0x7f3f4d1a3910>]"
      ]
     },
     "execution_count": 3,
     "metadata": {},
     "output_type": "execute_result"
    },
    {
     "data": {
      "image/png": "[encoded data removed]",
      "text/plain": [
       "<Figure size 432x288 with 2 Axes>"
      ]
     },
     "metadata": {
      "needs_background": "light"
     },
     "output_type": "display_data"
    }
   ],
   "source": [
    "plt.subplot(1,2,1)\n",
    "plt.plot(x,y,\"r\")\n",
    "#r stands for red color\n",
    "plt.subplot(1,2,2)\n",
    "plt.plot(x,y,\"b\")\n",
    "#in subplot, last 1&2 stands as index eg. plot 1 and plot 2\n",
    "#not sure but initial 1 and 2 stands for dimensions of graph, length and weight\n",
    "#and the subplot function uses latest relation between x and y, if we give y=x+2 in above cell \n",
    "#in last, then ths will plot of relation y=x+2(a straight line)"
   ]
  },
  {
   "cell_type": "code",
   "execution_count": 4,
   "metadata": {
    "execution": {
     "iopub.execute_input": "2022-08-06T00:36:51.292679Z",
     "iopub.status.busy": "2022-08-06T00:36:51.291577Z",
     "iopub.status.idle": "2022-08-06T00:36:51.533038Z",
     "shell.execute_reply": "2022-08-06T00:36:51.530870Z",
     "shell.execute_reply.started": "2022-08-06T00:36:51.292630Z"
    }
   },
   "outputs": [
    {
     "data": {
      "text/plain": [
       "Text(8, 15, 'This is message')"
      ]
     },
     "execution_count": 4,
     "metadata": {},
     "output_type": "execute_result"
    },
    {
     "data": {
      "image/png": "[encoded data removed]",
      "text/plain": [
       "<Figure size 500x400 with 1 Axes>"
      ]
     },
     "metadata": {
      "needs_background": "light"
     },
     "output_type": "display_data"
    }
   ],
   "source": [
    "# y = x+2\n",
    "fig1 = plt.figure(figsize=(5,4), dpi=100)\n",
    "axes1 = fig1.add_axes([0.1,0.1,1,1])\n",
    "#Here we set xmin, ymin, width, and height to 0.1, 0.1, 0.9, 09 respectively.\n",
    "axes1.set_xlabel(\"Days\")\n",
    "axes1.set_ylabel(\"Days Squares\")\n",
    "axes1.set_title(\"This is Squared Graph\")\n",
    "axes1.plot(x,y,label=\"x/x^2\")\n",
    "axes1.plot(y,x,label=\"x^2/x\")\n",
    "axes1.legend(loc=0)\n",
    "#if loc =1, upper right, 2:upper left, 3:lower left, 4:lower right\n",
    "#probably loc=0, will find suitable location wherever there is a space\n",
    "axes1.text(8,15, \"This is message\")\n",
    "#here 8 and 5 are locations of message"
   ]
  },
  {
   "cell_type": "code",
   "execution_count": 5,
   "metadata": {
    "execution": {
     "iopub.execute_input": "2022-08-06T00:36:51.534544Z",
     "iopub.status.busy": "2022-08-06T00:36:51.534182Z",
     "iopub.status.idle": "2022-08-06T00:36:52.378799Z",
     "shell.execute_reply": "2022-08-06T00:36:52.377693Z",
     "shell.execute_reply.started": "2022-08-06T00:36:51.534505Z"
    }
   },
   "outputs": [
    {
     "data": {
      "text/plain": [
       "[<matplotlib.lines.Line2D at 0x7f3f3933ad90>]"
      ]
     },
     "execution_count": 5,
     "metadata": {},
     "output_type": "execute_result"
    },
    {
     "data": {
      "image/png": "[encoded data removed]",
      "text/plain": [
       "<Figure size 576x288 with 6 Axes>"
      ]
     },
     "metadata": {
      "needs_background": "light"
     },
     "output_type": "display_data"
    }
   ],
   "source": [
    "fig2, axes2 = plt.subplots(figsize=(8,4),nrows=2, ncols=3)\n",
    "plt.tight_layout()\n",
    "axes2[1][0].set_title(\"Yoooo\")\n",
    "axes2[1][0].set_xlabel(\"This is x label\")\n",
    "axes2[1][0].set_ylabel(\"These are X squares\")\n",
    "axes2[1][0].plot(x,y)"
   ]
  },
  {
   "cell_type": "code",
   "execution_count": 6,
   "metadata": {
    "execution": {
     "iopub.execute_input": "2022-08-06T00:36:52.381167Z",
     "iopub.status.busy": "2022-08-06T00:36:52.380360Z",
     "iopub.status.idle": "2022-08-06T00:36:52.616620Z",
     "shell.execute_reply": "2022-08-06T00:36:52.615538Z",
     "shell.execute_reply.started": "2022-08-06T00:36:52.381115Z"
    }
   },
   "outputs": [
    {
     "data": {
      "image/png": "[encoded data removed]",
      "text/plain": [
       "<Figure size 432x288 with 1 Axes>"
      ]
     },
     "metadata": {
      "needs_background": "light"
     },
     "output_type": "display_data"
    }
   ],
   "source": [
    "fig_3 = plt.figure(figsize=(6,4))\n",
    "axes_3 = fig_3.add_axes([0,0,1,1])\n",
    "\n",
    "#Let's talk about default colors. r,g,b,y,c:cyan,m:magenta,w:white,k:black\n",
    "#color=\"0.75\" will give grey with 75% black\n",
    "# Hexcodes colors can also be used\n",
    "#color names found at -https://en.wikipedia.org/wiki/Web_colors can also  be used\n",
    "# alpha defines the percentage of opacity\n",
    "\n",
    "# The default line width is 1, so to double it put in 2 and so forth\n",
    "\n",
    "# There are many line styles \n",
    "# matplotlib.org/3.1.0/gallery/lines_bars_and_markers/linestyles.html\n",
    "# You can also provide a sample like '-.'\n",
    "\n",
    "# Markers can mark your provided points on the graph\n",
    "# https://matplotlib.org/3.3.0/api/markers_api.html\n",
    "# You can change the markersize as well\n",
    "\n",
    "# markerfacecolor changes the marker fill color\n",
    "# markeredgecolor changes the marker stroke color\n",
    "# markeredgewidth changes the markers stroke size\n",
    "\n",
    "axes_3.plot(x,y,color='navy', alpha=.75, lw=2, ls='-.',\n",
    "           marker='o', markersize=7, markerfacecolor='r',\n",
    "           markeredgecolor='b', markeredgewidth=4)\n",
    "\n",
    "# Set the lower and upper bound of x & y axis\n",
    "axes_3.set_xlim([0,3])\n",
    "axes_3.set_ylim([0,8])\n",
    "\n",
    "# Add a grid, color, dashes(5pts 1 pt dashes separated by 2pt space)\n",
    "axes_3.grid(True, color='0.6', dashes=(5, 2, 1, 2))\n",
    "# Set grid background color\n",
    "axes_3.set_facecolor('#FAEBD7')"
   ]
  },
  {
   "cell_type": "code",
   "execution_count": 7,
   "metadata": {
    "execution": {
     "iopub.execute_input": "2022-08-06T00:36:52.618412Z",
     "iopub.status.busy": "2022-08-06T00:36:52.617940Z",
     "iopub.status.idle": "2022-08-06T00:36:52.673231Z",
     "shell.execute_reply": "2022-08-06T00:36:52.672203Z",
     "shell.execute_reply.started": "2022-08-06T00:36:52.618366Z"
    }
   },
   "outputs": [],
   "source": [
    "fig_3.savefig(\"learning.png\")"
   ]
  },
  {
   "cell_type": "code",
   "execution_count": 8,
   "metadata": {
    "execution": {
     "iopub.execute_input": "2022-08-06T00:36:52.675302Z",
     "iopub.status.busy": "2022-08-06T00:36:52.674635Z",
     "iopub.status.idle": "2022-08-06T00:36:52.681836Z",
     "shell.execute_reply": "2022-08-06T00:36:52.681102Z",
     "shell.execute_reply.started": "2022-08-06T00:36:52.675254Z"
    }
   },
   "outputs": [
    {
     "name": "stdout",
     "output_type": "stream",
     "text": [
      "/kaggle/input/icecream\n"
     ]
    }
   ],
   "source": [
    "cd '../input/icecream'"
   ]
  },
  {
   "cell_type": "code",
   "execution_count": 9,
   "metadata": {
    "execution": {
     "iopub.execute_input": "2022-08-06T00:36:52.684673Z",
     "iopub.status.busy": "2022-08-06T00:36:52.684157Z",
     "iopub.status.idle": "2022-08-06T00:36:53.979536Z",
     "shell.execute_reply": "2022-08-06T00:36:53.977795Z",
     "shell.execute_reply.started": "2022-08-06T00:36:52.684640Z"
    }
   },
   "outputs": [
    {
     "data": {
      "text/plain": [
       "<BarContainer object of 500 artists>"
      ]
     },
     "execution_count": 9,
     "metadata": {},
     "output_type": "execute_result"
    },
    {
     "data": {
      "image/png": "[encoded data removed]",
      "text/plain": [
       "<Figure size 432x288 with 1 Axes>"
      ]
     },
     "metadata": {
      "needs_background": "light"
     },
     "output_type": "display_data"
    }
   ],
   "source": [
    "ics_df = pd.read_csv('icecream (1).csv')\n",
    "ics_df = ics_df.sort_values(by='Temperature')\n",
    "\n",
    "# Convert from Pandas to NumPy array\n",
    "np_arr = ics_df.values\n",
    "\n",
    "# Get x & y values and put in array\n",
    "x_2 = np_arr[:,0]\n",
    "y_2 = np_arr[:,1]\n",
    "\n",
    "fig_4 = plt.figure(figsize=(6,4))\n",
    "axes_4 = fig_4.add_axes([0,0,1,1])\n",
    "axes_4.set_title('Ice Cream Sales vs. Temperature')\n",
    "axes_4.set_xlabel('Temperature')\n",
    "axes_4.set_ylabel('Ice Cream Sales')\n",
    "axes_4.plot(x_2,y_2)\n",
    "\n",
    "# Add Annotations by supplying the x & y to point at and the position of the text\n",
    "# based off of lower left had corner being 0,0\n",
    "axes_4.annotate('Good Month', xy=(43, 900), xytext=(50, 720),\n",
    "             arrowprops=dict(facecolor='black', shrink=0.05),)\n",
    "\n",
    "# Add bars to the plot\n",
    "plt.bar(x_2,y_2)"
   ]
  },
  {
   "cell_type": "code",
   "execution_count": 10,
   "metadata": {
    "execution": {
     "iopub.execute_input": "2022-08-06T00:36:53.982070Z",
     "iopub.status.busy": "2022-08-06T00:36:53.980957Z",
     "iopub.status.idle": "2022-08-06T00:36:54.603967Z",
     "shell.execute_reply": "2022-08-06T00:36:54.602954Z",
     "shell.execute_reply.started": "2022-08-06T00:36:53.982023Z"
    }
   },
   "outputs": [
    {
     "data": {
      "text/plain": [
       "[<matplotlib.lines.Line2D at 0x7f3f38c3ecd0>]"
      ]
     },
     "execution_count": 10,
     "metadata": {},
     "output_type": "execute_result"
    },
    {
     "data": {
      "image/png": "[encoded data removed]",
      "text/plain": [
       "<Figure size 500x400 with 1 Axes>"
      ]
     },
     "metadata": {
      "needs_background": "light"
     },
     "output_type": "display_data"
    }
   ],
   "source": [
    "# You can use a subset of TeX markup by placing text between $\n",
    "# matplotlib.org/tutorials/text/mathtext.html\n",
    "fig_5 = plt.figure(figsize=(5,4),dpi=100)\n",
    "axes_5 = fig_5.add_axes([0.1,0.1,0.9,0.9])\n",
    "\n",
    "# All listed plus kappa, iota, zeta, nu, rho, eta, xi, omicron, gamma, tau, phi, \n",
    "# chi, psi, delta (Capitalize the first letter for uppercase)\n",
    "axes_5.text(0, 23, \n",
    "            r'$\\alpha \\beta \\sigma \\omega \\epsilon \\mu \\pi \\theta \\lambda$', fontsize=18)\n",
    "# Subscripts, multiletter superscript, sum, fractions, binomial\n",
    "axes_5.text(0, 18, \n",
    "            r'$\\delta_i \\gamma^{ij} \\sum_{i=0}^\\infty x_i \\frac{3}{4} \\binom{3}{4}$', \n",
    "            fontsize=18)\n",
    "# Another fraction, sqrt, cbrt, trig functions : \n",
    "axes_5.text(0, 13, \n",
    "            r'$\\frac{8 - \\frac{x}{5}}{8} \\sqrt{9} \\sin(\\pi) \\sqrt[3]{8} \\acute a \\div$', \n",
    "            fontsize=18)\n",
    "axes_5.text(0, 8, \n",
    "            r'$\\bar a \\hat a \\tilde a \\vec a \\overline {a} \\lim_{x \\to 2} f(x) = 5$', \n",
    "            fontsize=18)\n",
    "axes_5.text(0, 3, \n",
    "            r'$\\geq \\leq \\ne$', \n",
    "            fontsize=18)\n",
    "axes_5.plot(x,y)"
   ]
  },
  {
   "cell_type": "code",
   "execution_count": 11,
   "metadata": {
    "execution": {
     "iopub.execute_input": "2022-08-06T00:36:54.606299Z",
     "iopub.status.busy": "2022-08-06T00:36:54.605330Z",
     "iopub.status.idle": "2022-08-06T00:36:54.824292Z",
     "shell.execute_reply": "2022-08-06T00:36:54.823535Z",
     "shell.execute_reply.started": "2022-08-06T00:36:54.606244Z"
    }
   },
   "outputs": [
    {
     "data": {
      "text/plain": [
       "(array([0.02992, 0.06094, 0.0924 , 0.11528, 0.16214, 0.19316, 0.14652,\n",
       "        0.12474, 0.08932, 0.0605 , 0.02508]),\n",
       " array([ 2.        ,  2.90909091,  3.81818182,  4.72727273,  5.63636364,\n",
       "         6.54545455,  7.45454545,  8.36363636,  9.27272727, 10.18181818,\n",
       "        11.09090909, 12.        ]),\n",
       " <BarContainer object of 11 artists>)"
      ]
     },
     "execution_count": 11,
     "metadata": {},
     "output_type": "execute_result"
    },
    {
     "data": {
      "image/png": "[encoded data removed]",
      "text/plain": [
       "<Figure size 432x288 with 1 Axes>"
      ]
     },
     "metadata": {
      "needs_background": "light"
     },
     "output_type": "display_data"
    }
   ],
   "source": [
    "# Roll 2 6 sided dies get the sum and plot the histogram\n",
    "arr_1 = np.random.randint(1,7,5000)\n",
    "arr_2 = np.random.randint(1,7,5000)\n",
    "arr_3 = arr_1 + arr_2\n",
    "# Bins reprsent the number of options available 2 thru 12 = 11\n",
    "# Density returns the frequency of each bin\n",
    "# Range gets tuple with bin range interested in\n",
    "# cumulative=True use a cumulative distribution\n",
    "# histtype='step' genrates a line plot\n",
    "# orientation='horizontal' \n",
    "# color='orange' change bar color\n",
    "plt.hist(arr_3, bins=11, density=True, stacked=True)"
   ]
  },
  {
   "cell_type": "code",
   "execution_count": 12,
   "metadata": {
    "execution": {
     "iopub.execute_input": "2022-08-06T00:36:54.828083Z",
     "iopub.status.busy": "2022-08-06T00:36:54.827712Z",
     "iopub.status.idle": "2022-08-06T00:36:55.038569Z",
     "shell.execute_reply": "2022-08-06T00:36:55.037670Z",
     "shell.execute_reply.started": "2022-08-06T00:36:54.828050Z"
    }
   },
   "outputs": [
    {
     "data": {
      "text/plain": [
       "<BarContainer object of 7 artists>"
      ]
     },
     "execution_count": 12,
     "metadata": {},
     "output_type": "execute_result"
    },
    {
     "data": {
      "image/png": "[encoded data removed]",
      "text/plain": [
       "<Figure size 432x288 with 1 Axes>"
      ]
     },
     "metadata": {
      "needs_background": "light"
     },
     "output_type": "display_data"
    }
   ],
   "source": [
    "# Analyze where France gets its electricity from\n",
    "x = ['Nuclear', 'Hydro', 'Coal', 'Gas', 'Solar', 'Wind', 'Other']\n",
    "per_1 = [71, 10, 3, 7, 2, 4, 3]\n",
    "# Chart variance in usage\n",
    "variance = [8, 3, 1, 3, 1, 2, 1]\n",
    "# barh makes horizontal chart\n",
    "# Also yerr, change error color with ecolor\n",
    "plt.bar(x, per_1, color='pink', yerr=variance)"
   ]
  },
  {
   "cell_type": "code",
   "execution_count": 13,
   "metadata": {
    "execution": {
     "iopub.execute_input": "2022-08-06T00:36:55.040703Z",
     "iopub.status.busy": "2022-08-06T00:36:55.040218Z",
     "iopub.status.idle": "2022-08-06T00:36:55.365017Z",
     "shell.execute_reply": "2022-08-06T00:36:55.363970Z",
     "shell.execute_reply.started": "2022-08-06T00:36:55.040665Z"
    }
   },
   "outputs": [
    {
     "data": {
      "text/plain": [
       "([<matplotlib.axis.XTick at 0x7f3f38b106d0>,\n",
       "  <matplotlib.axis.XTick at 0x7f3f38921e10>,\n",
       "  <matplotlib.axis.XTick at 0x7f3f38a6ad90>,\n",
       "  <matplotlib.axis.XTick at 0x7f3f38cc5090>,\n",
       "  <matplotlib.axis.XTick at 0x7f3f38aca890>],\n",
       " [Text(0.225, 0, 'Aero'),\n",
       "  Text(1.225, 0, 'Chem'),\n",
       "  Text(2.225, 0, 'Civil'),\n",
       "  Text(3.225, 0, 'Elec'),\n",
       "  Text(4.225, 0, 'Mech')])"
      ]
     },
     "execution_count": 13,
     "metadata": {},
     "output_type": "execute_result"
    },
    {
     "data": {
      "image/png": "[encoded data removed]",
      "text/plain": [
       "<Figure size 432x288 with 1 Axes>"
      ]
     },
     "metadata": {
      "needs_background": "light"
     },
     "output_type": "display_data"
    }
   ],
   "source": [
    "# Show percentages of males & females in engineering\n",
    "m_eng = (76, 85, 86, 88, 93)\n",
    "f_eng = (24, 15, 14, 12, 7)\n",
    "\n",
    "# Get evenly spaced values for each interval\n",
    "spc = np.arange(5)\n",
    "\n",
    "# Plot bars for men & women\n",
    "# Can also add yerr, xerr, \n",
    "plt.bar(spc, m_eng, width=0.45, label='Male', edgecolor='k')\n",
    "plt.bar(spc + 0.45, f_eng, width=0.45, label='Female', edgecolor='k')\n",
    "\n",
    "# Define x tick names and place in middle of bars\n",
    "plt.xticks(spc + 0.45 / 2, ('Aero', 'Chem', 'Civil', 'Elec', 'Mech'))"
   ]
  },
  {
   "cell_type": "code",
   "execution_count": 14,
   "metadata": {
    "execution": {
     "iopub.execute_input": "2022-08-06T00:36:55.368672Z",
     "iopub.status.busy": "2022-08-06T00:36:55.368288Z",
     "iopub.status.idle": "2022-08-06T00:36:55.588987Z",
     "shell.execute_reply": "2022-08-06T00:36:55.588299Z",
     "shell.execute_reply.started": "2022-08-06T00:36:55.368639Z"
    }
   },
   "outputs": [
    {
     "data": {
      "text/plain": [
       "<matplotlib.legend.Legend at 0x7f3f389f7710>"
      ]
     },
     "execution_count": 14,
     "metadata": {},
     "output_type": "execute_result"
    },
    {
     "data": {
      "image/png": "[encoded data removed]",
      "text/plain": [
       "<Figure size 432x288 with 1 Axes>"
      ]
     },
     "metadata": {
      "needs_background": "light"
     },
     "output_type": "display_data"
    }
   ],
   "source": [
    "# Plot teachers by sex\n",
    "t_type = ['Kind', 'Elem', 'Sec', 'Spec']\n",
    "m_teach = np.array([2, 20, 44, 14])\n",
    "f_teach = np.array([98, 80, 56, 86])\n",
    "ind = [x for x, _ in enumerate(t_type)]\n",
    "\n",
    "# Plot stacked bars for men and then women under\n",
    "plt.bar(ind, m_teach, width=0.45, label='Male', bottom=f_teach)\n",
    "plt.bar(ind, f_teach, width=0.45, label='Female')\n",
    "\n",
    "plt.legend(loc='lower right')"
   ]
  },
  {
   "cell_type": "code",
   "execution_count": 15,
   "metadata": {
    "execution": {
     "iopub.execute_input": "2022-08-06T00:36:55.590651Z",
     "iopub.status.busy": "2022-08-06T00:36:55.590050Z",
     "iopub.status.idle": "2022-08-06T00:36:56.213032Z",
     "shell.execute_reply": "2022-08-06T00:36:56.211950Z",
     "shell.execute_reply.started": "2022-08-06T00:36:55.590618Z"
    }
   },
   "outputs": [
    {
     "data": {
      "text/plain": [
       "<matplotlib.legend.Legend at 0x7f3f38adbc90>"
      ]
     },
     "execution_count": 15,
     "metadata": {},
     "output_type": "execute_result"
    },
    {
     "data": {
      "image/png": "[encoded data removed]",
      "text/plain": [
       "<Figure size 800x500 with 1 Axes>"
      ]
     },
     "metadata": {},
     "output_type": "display_data"
    }
   ],
   "source": [
    "import random\n",
    "\n",
    "fig_6 = plt.figure(figsize=(8,5),dpi=100)\n",
    "axes_6 = fig_6.add_axes([0.1,0.1,0.9,0.9])\n",
    "\n",
    "# Create a pie chart of the number of Pokemon by type\n",
    "types = ['Water', 'Normal', 'Flying', 'Grass', 'Psychic', 'Bug', 'Fire', 'Poison',\n",
    "'Ground', 'Rock', 'Fighting', 'Dark', 'Steel', 'Electric', 'Dragon', 'Fairy',\n",
    "'Ghost', 'Ice']\n",
    "poke_num = [133, 109, 101, 98, 85, 77, 68, 66, 65, 60, 57, 54, 53, 51, 50, 50, 46, 40]\n",
    "\n",
    "# Generate a random color array (Use lower values to make darkb)\n",
    "colors = []\n",
    "for i in range(18):\n",
    "    rgb = (random.uniform(0, .5), random.uniform(0, .5), random.uniform(0, .5))\n",
    "    colors.append(rgb)\n",
    "    \n",
    "# Explode biggest 1st slice\n",
    "explode = [0] * 18\n",
    "explode[0] = 0.2\n",
    "\n",
    "# Provide values, what to explode and by how much, labels, colors, pct for values,\n",
    "# whether to shadow, amount to rotate pie, pie text color\n",
    "wedges, texts, autotexts = plt.pie(poke_num, explode=explode, labels=types, colors=colors, \n",
    "                                   autopct='%1.1f%%', shadow=True, startangle=140, \n",
    "                                   textprops=dict(color=\"w\"))\n",
    "# Create legend to right and move off pie with 1-1.5 axes point width\n",
    "plt.legend(wedges, types, loc='right', bbox_to_anchor=(1, 0, 0.5, 1))"
   ]
  },
  {
   "cell_type": "code",
   "execution_count": 16,
   "metadata": {
    "execution": {
     "iopub.execute_input": "2022-08-06T00:36:56.215494Z",
     "iopub.status.busy": "2022-08-06T00:36:56.214578Z",
     "iopub.status.idle": "2022-08-06T00:36:56.498162Z",
     "shell.execute_reply": "2022-08-06T00:36:56.497372Z",
     "shell.execute_reply.started": "2022-08-06T00:36:56.215424Z"
    }
   },
   "outputs": [
    {
     "data": {
      "text/plain": [
       "[<matplotlib.lines.Line2D at 0x7f3f38833390>]"
      ]
     },
     "execution_count": 16,
     "metadata": {},
     "output_type": "execute_result"
    },
    {
     "data": {
      "image/png": "[encoded data removed]",
      "text/plain": [
       "<Figure size 800x500 with 1 Axes>"
      ]
     },
     "metadata": {
      "needs_background": "light"
     },
     "output_type": "display_data"
    }
   ],
   "source": [
    "import datetime\n",
    "\n",
    "# I'll show other ways of doing this when I cover Matplotlib Finance\n",
    "# Get Yahoo GOOG csv file and convert to NumPy array\n",
    "# https://finance.yahoo.com/quote/GOOG/history/\n",
    "goog_data = pd.read_csv('../alphabet-stock-data/GOOG.csv')\n",
    "goog_data_np = goog_data.to_numpy()\n",
    "# Get array of prices in 5th column\n",
    "goog_cp = goog_data_np[:,4]\n",
    "goog_cp\n",
    "\n",
    "# Get NumPy array with just weekdays between dates excluding holidays\n",
    "holidays = [datetime.datetime(2020,5,25), datetime.datetime(2020,8,19)]\n",
    "date_arr = pd.bdate_range(start='5/20/2020', end='8/19/2020', \n",
    "                          freq='C',\n",
    "                         holidays=holidays)\n",
    "date_arr_np = date_arr.to_numpy()\n",
    "\n",
    "fig_7 = plt.figure(figsize=(8,5),dpi=100)\n",
    "axes_7 = fig_7.add_axes([0.1,0.1,0.9,0.9])\n",
    "plt.plot(date_arr_np, goog_cp)"
   ]
  },
  {
   "cell_type": "code",
   "execution_count": 17,
   "metadata": {
    "execution": {
     "iopub.execute_input": "2022-08-06T00:36:56.500595Z",
     "iopub.status.busy": "2022-08-06T00:36:56.499504Z",
     "iopub.status.idle": "2022-08-06T00:36:57.044457Z",
     "shell.execute_reply": "2022-08-06T00:36:57.043338Z",
     "shell.execute_reply.started": "2022-08-06T00:36:56.500548Z"
    }
   },
   "outputs": [
    {
     "name": "stderr",
     "output_type": "stream",
     "text": [
      "/opt/conda/lib/python3.7/site-packages/IPython/core/pylabtools.py:151: UserWarning: Tight layout not applied. The left and right margins cannot be made large enough to accommodate all axes decorations.\n",
      "  fig.canvas.print_figure(bytes_io, **kw)\n"
     ]
    },
    {
     "data": {
      "image/png": "[encoded data removed]",
      "text/plain": [
       "<Figure size 360x216 with 1 Axes>"
      ]
     },
     "metadata": {
      "needs_background": "light"
     },
     "output_type": "display_data"
    }
   ],
   "source": [
    "# Format column data to 2 decimals\n",
    "goog_data['Open'] = pd.Series([round(val, 2) for val in goog_data['Open']], \n",
    "                              index = goog_data.index)\n",
    "goog_data['High'] = pd.Series([round(val, 2) for val in goog_data['High']], \n",
    "                              index = goog_data.index)\n",
    "goog_data['Low'] = pd.Series([round(val, 2) for val in goog_data['Low']], \n",
    "                              index = goog_data.index)\n",
    "goog_data['Close'] = pd.Series([round(val, 2) for val in goog_data['Close']], \n",
    "                              index = goog_data.index)\n",
    "goog_data['Adj Close'] = pd.Series([round(val, 2) for val in goog_data['Adj Close']], \n",
    "                              index = goog_data.index)\n",
    "\n",
    "# Get most recent last 5 days of stock data\n",
    "stk_data = goog_data[-5:]\n",
    "stk_data\n",
    "\n",
    "# Define headers\n",
    "col_head = ('Date','Open','High','Low','Close','Adj Close','Volume')\n",
    "\n",
    "stk_data_np = stk_data.to_numpy()\n",
    "stk_data_np\n",
    "\n",
    "# Add padding around cells in table\n",
    "plt.figure(linewidth=2, tight_layout={'pad':.5}, figsize=(5,3))\n",
    "\n",
    "# Get rid of axes and plot box\n",
    "axes_8 = plt.gca()\n",
    "axes_8.get_xaxis().set_visible(False)\n",
    "axes_8.get_yaxis().set_visible(False)\n",
    "plt.box(on=None)\n",
    "\n",
    "# np.full returns an array filled with 0.1\n",
    "# cm is a colormap object we are using to use a default blue color\n",
    "# matplotlib.org/3.1.0/tutorials/colors/colormaps.html\n",
    "ccolors = plt.cm.Blues(np.full(len(col_head), 0.2))\n",
    "\n",
    "# Receives data, loc, list of column headers, column header color as array of colors\n",
    "# You can also add rowLabel, rowColours, rowLoc: Text alignment\n",
    "the_table = plt.table(cellText=stk_data_np, loc='center', colLabels=col_head,\n",
    "                     colColours=ccolors)\n",
    "# Set table font size\n",
    "the_table.set_fontsize(14)\n",
    "the_table.scale(3, 2.5)"
   ]
  },
  {
   "cell_type": "code",
   "execution_count": 18,
   "metadata": {
    "execution": {
     "iopub.execute_input": "2022-08-06T00:36:57.046103Z",
     "iopub.status.busy": "2022-08-06T00:36:57.045736Z",
     "iopub.status.idle": "2022-08-06T00:36:57.256991Z",
     "shell.execute_reply": "2022-08-06T00:36:57.255820Z",
     "shell.execute_reply.started": "2022-08-06T00:36:57.046071Z"
    }
   },
   "outputs": [
    {
     "data": {
      "text/plain": [
       "<matplotlib.collections.PathCollection at 0x7f3f386292d0>"
      ]
     },
     "execution_count": 18,
     "metadata": {},
     "output_type": "execute_result"
    },
    {
     "data": {
      "image/png": "[encoded data removed]",
      "text/plain": [
       "<Figure size 432x288 with 1 Axes>"
      ]
     },
     "metadata": {
      "needs_background": "light"
     },
     "output_type": "display_data"
    }
   ],
   "source": [
    "cnt_arr = np.array(['Australia','Brazil','Canada','Chile','France','Germany','Greece',\n",
    "                   'Iceland','India','Iran','Italy','Mexico','New Zealand','Nigeria',\n",
    "                   'Norway','Pakistan','Peru','Russia','Saudi Arabia','Singapore',\n",
    "                   'South Africa','Spain','Sweden','Turkey','UK','US'])\n",
    "# Death rate per 100k Coronavirus\n",
    "dr_arr = np.array([1.8,53,24.5,56.5,45.4,11.2,2.2,\n",
    "                   2.8,4,24.6,58.6,46.3,.5,.5,\n",
    "                   4.9,2.9,83.3,11,10.4,.5,\n",
    "                   21.5,61.6,56.9,7.3,62.4,52.9])\n",
    "# Daily confirmed cases (Tests)\n",
    "test_arr = np.array([110,7197,600,1862,1636,1103,35,\n",
    "                   10,295,1658,1226,2490,8,243,\n",
    "                   48,1395,1101,4447,1443,280,\n",
    "                   2830,1602,447,1205,1546,24988])\n",
    "# Dot size Confirmed cases\n",
    "cc_arr = np.array([24236,3456652,125408,390037,256534,229706,7684,\n",
    "                   2035,2836925,350279,255278,537031,1654,50488,\n",
    "                   10162,290445,549321,935066,302686,56031,\n",
    "                   596060,370867,85411,253108,323008,5529824])\n",
    "cc_arr_sm = cc_arr / 1000\n",
    "color_arr = np.random.rand(26)\n",
    "\n",
    "plt.title('Death Rate per 100k vs. Confirmed Cases')\n",
    "plt.xlabel('Death Rate per 100k')\n",
    "plt.ylabel('Confirmed Cases')\n",
    "plt.scatter(dr_arr,test_arr,s=cc_arr_sm,c=color_arr,alpha=0.5)"
   ]
  },
  {
   "cell_type": "code",
   "execution_count": 19,
   "metadata": {
    "execution": {
     "iopub.execute_input": "2022-08-06T00:45:36.726636Z",
     "iopub.status.busy": "2022-08-06T00:45:36.726130Z",
     "iopub.status.idle": "2022-08-06T00:45:36.995914Z",
     "shell.execute_reply": "2022-08-06T00:45:36.994763Z",
     "shell.execute_reply.started": "2022-08-06T00:45:36.726600Z"
    }
   },
   "outputs": [
    {
     "data": {
      "text/plain": [
       "<mpl_toolkits.mplot3d.art3d.Poly3DCollection at 0x7f3f3865db90>"
      ]
     },
     "execution_count": 19,
     "metadata": {},
     "output_type": "execute_result"
    },
    {
     "data": {
      "image/png": "[encoded data removed]",
      "text/plain": [
       "<Figure size 800x500 with 1 Axes>"
      ]
     },
     "metadata": {
      "needs_background": "light"
     },
     "output_type": "display_data"
    }
   ],
   "source": [
    "# Needed for creating 3D axes\n",
    "from mpl_toolkits import mplot3d\n",
    "\n",
    "fig_9 = plt.figure(figsize=(8,5),dpi=100)\n",
    "axes_9 = fig_9.add_axes([0.1,0.1,0.9,0.9], projection='3d')\n",
    "\n",
    "# Create a 3D scatterplot\n",
    "# Te darker points are represented that way to seem closer to you\n",
    "z_3 = 15 * np.random.random(100)\n",
    "x_3 = np.sin(z_3) * np.random.randn(100)\n",
    "y_3 = np.cos(z_3) * np.random.randn(100)\n",
    "# axes_9.scatter3D(x_3, y_3, z_3, c=z_3, cmap='Blues')\n",
    "\n",
    "# You can create contour plots by defining a function for z based on x & y\n",
    "def get_z(x, y):\n",
    "    return np.sin(np.sqrt(x**2 + y**2))\n",
    "\n",
    "x_4 = np.linspace(-6, 6, 30)\n",
    "y_4 = np.linspace(-6, 6, 30)\n",
    "\n",
    "# Creates a rectangular grid out of 2 given 1D arrays\n",
    "x_4, y_4 = np.meshgrid(x_4, y_4)\n",
    "z_4 = get_z(x_4,y_4)\n",
    "\n",
    "# Change viewing angle to reorient camera 60 degrees and rotate 55\n",
    "axes_9.view_init(45,55)\n",
    "\n",
    "# Provide x, y, z, contours and color map\n",
    "# axes_9.contour3D(x_4,y_4,z_4,80,cmap='Blues')\n",
    "axes_9.set_xlabel('x')\n",
    "axes_9.set_ylabel('y')\n",
    "axes_9.set_zlabel('z')\n",
    "\n",
    "# You can create wireframes\n",
    "# axes_9.plot_wireframe(x_4,y_4,z_4,color='blue')\n",
    "\n",
    "# You can create surface plots which is wireframe with filled faces\n",
    "axes_9.plot_surface(x_4,y_4,z_4, rstride=1, cstride=1,cmap='Blues',edgecolor='none')"
   ]
  },
  {
   "cell_type": "code",
   "execution_count": 24,
   "metadata": {
    "execution": {
     "iopub.execute_input": "2022-08-06T01:07:13.421850Z",
     "iopub.status.busy": "2022-08-06T01:07:13.421465Z",
     "iopub.status.idle": "2022-08-06T01:07:13.982798Z",
     "shell.execute_reply": "2022-08-06T01:07:13.981731Z",
     "shell.execute_reply.started": "2022-08-06T01:07:13.421818Z"
    }
   },
   "outputs": [
    {
     "data": {
      "image/png": "[encoded data removed]",
      "text/plain": [
       "<Figure size 800x575 with 4 Axes>"
      ]
     },
     "metadata": {},
     "output_type": "display_data"
    }
   ],
   "source": [
    "# We need this module to handle the calculations\n",
    "import mplfinance as mpf\n",
    "\n",
    "# Get stock data as DataFrame and define index\n",
    "goog_df = pd.read_csv('../alphabet-stock-data/GOOG.csv',index_col=0,parse_dates=True)\n",
    "goog_df.index.name = 'Date'\n",
    "\n",
    "goog_df.shape\n",
    "\n",
    "# A candlestick chart demonstrates the daily open, high, low and closing price of a stock\n",
    "# mpf.plot(goog_df,type='candle')\n",
    "\n",
    "# Plot price changes\n",
    "# mpf.plot(goog_df,type='line')\n",
    "\n",
    "# Moving averages provide trend information (Average of previous 4 observations)\n",
    "# mpf.plot(goog_df,type='ohlc',mav=4)\n",
    "\n",
    "# You can plot multiple MAVs, volume, non-trading days\n",
    "mpf.plot(goog_df,type='ohlc',mav=(3,5,7),volume=True,show_nontrading=True)\n",
    "\n",
    "# You can make additonal charts with intraday data"
   ]
  },
  {
   "cell_type": "code",
   "execution_count": 25,
   "metadata": {
    "execution": {
     "iopub.execute_input": "2022-08-06T01:10:09.185299Z",
     "iopub.status.busy": "2022-08-06T01:10:09.184625Z",
     "iopub.status.idle": "2022-08-06T01:10:09.459971Z",
     "shell.execute_reply": "2022-08-06T01:10:09.459244Z",
     "shell.execute_reply.started": "2022-08-06T01:10:09.185261Z"
    }
   },
   "outputs": [
    {
     "data": {
      "image/png": "[encoded data removed]",
      "text/plain": [
       "<Figure size 640x480 with 1 Axes>"
      ]
     },
     "metadata": {},
     "output_type": "display_data"
    }
   ],
   "source": [
    "# A heatmap is a color coded representation of data from a 2D list\n",
    "symptoms = [\"Coronavirus\",\"Influenza\",\"Pneumonia\",\"Dyspnea\"]\n",
    "dates = [\"Jun28\",\"Jul05\",\"Jul12\",\"Jul19\",\"Jul26\",\"Aug02\",\"Aug09\",\"Aug16\",\"Aug21\"]\n",
    "symp_per = np.array([[5.2, 5.5, 5.7, 5.6, 5.3, 5.1, 5.0, 4.9, 5.3],\n",
    "                    [3.5, 4.0, 4.3, 3.9, 3.5, 3.2, 2.7, 2.2, 2.0],\n",
    "                    [1.8, 2.2, 2.3, 2.2, 2.1, 1.9, 1.7, 1.4, 1.3],\n",
    "                    [1.0, 1.1, 1.1, 1.0, 0.9, 0.8, 0.8, 0.8, 0.7]])\n",
    "\n",
    "fig_10, axes_10 = plt.subplots()\n",
    "# Dfine data to use and color map\n",
    "im = axes_10.imshow(symp_per, cmap=\"Wistia\")\n",
    "\n",
    "# Add ticks at data points and labels\n",
    "axes_10.set_xticks(np.arange(len(dates)))\n",
    "axes_10.set_yticks(np.arange(len(symptoms)))\n",
    "axes_10.set_xticklabels(dates)\n",
    "axes_10.set_yticklabels(symptoms)\n",
    "\n",
    "# Rotate labels on the bottom so they don't overlap\n",
    "plt.setp(axes_10.get_xticklabels(), rotation=45, ha=\"right\",\n",
    "         rotation_mode=\"anchor\")\n",
    "\n",
    "# Loop over data dimensions and create text annotations.\n",
    "for i in range(len(symptoms)):\n",
    "    for j in range(len(dates)):\n",
    "        text = axes_10.text(j, i, symp_per[i, j],\n",
    "                       ha=\"center\", va=\"center\", color=\"k\",fontweight=\"bold\")"
   ]
  },
  {
   "cell_type": "code",
   "execution_count": null,
   "metadata": {},
   "outputs": [],
   "source": []
  }
 ],
 "metadata": {
  "kernelspec": {
   "display_name": "Python 3 (ipykernel)",
   "language": "python",
   "name": "python3"
  },
  "language_info": {
   "codemirror_mode": {
    "name": "ipython",
    "version": 3
   },
   "file_extension": ".py",
   "mimetype": "text/x-python",
   "name": "python",
   "nbconvert_exporter": "python",
   "pygments_lexer": "ipython3",
   "version": "3.10.8"
  },
  "vscode": {
   "interpreter": {
    "hash": "767d51c1340bd893661ea55ea3124f6de3c7a262a8b4abca0554b478b1e2ff90"
   }
  }
 },
 "nbformat": 4,
 "nbformat_minor": 4
}
