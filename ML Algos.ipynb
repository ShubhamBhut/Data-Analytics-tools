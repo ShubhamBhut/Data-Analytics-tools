{
 "cells": [
  {
   "attachments": {},
   "cell_type": "markdown",
   "id": "6945fdcf",
   "metadata": {},
   "source": [
    "# Gradient Descent"
   ]
  },
  {
   "cell_type": "code",
   "execution_count": 1,
   "id": "fac7c75e",
   "metadata": {},
   "outputs": [],
   "source": [
    "from sympy import *"
   ]
  },
  {
   "cell_type": "code",
   "execution_count": 3,
   "id": "57727fc6",
   "metadata": {},
   "outputs": [],
   "source": [
    "# input function is 3x^2+4y^2-5x+7\n",
    "\n",
    "x, y = symbols('x, y')\n",
    "input_function = 3*(x**2) + 4*(y**2) - 5*x +7"
   ]
  },
  {
   "cell_type": "code",
   "execution_count": 6,
   "id": "92e666fe",
   "metadata": {},
   "outputs": [],
   "source": [
    "df_x = diff(input_function, x)\n",
    "df_y = diff(input_function, y)"
   ]
  },
  {
   "cell_type": "code",
   "execution_count": 8,
   "id": "d15a4fec",
   "metadata": {},
   "outputs": [],
   "source": [
    "def descent(w_old, w_new, lr):\n",
    "    w_new = w_old - lr * (df_x + df_y)\n",
    "    print(w_new)"
   ]
  },
  {
   "cell_type": "code",
   "execution_count": null,
   "id": "ae776d16",
   "metadata": {},
   "outputs": [],
   "source": []
  }
 ],
 "metadata": {
  "kernelspec": {
   "display_name": "Python 3 (ipykernel)",
   "language": "python",
   "name": "python3"
  },
  "language_info": {
   "codemirror_mode": {
    "name": "ipython",
    "version": 3
   },
   "file_extension": ".py",
   "mimetype": "text/x-python",
   "name": "python",
   "nbconvert_exporter": "python",
   "pygments_lexer": "ipython3",
   "version": "3.11.1"
  }
 },
 "nbformat": 4,
 "nbformat_minor": 5
}
