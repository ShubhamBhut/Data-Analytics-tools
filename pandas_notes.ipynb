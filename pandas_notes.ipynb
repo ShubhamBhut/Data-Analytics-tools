{
 "cells": [
  {
   "cell_type": "code",
   "execution_count": 1,
   "metadata": {
    "execution": {
     "iopub.execute_input": "2023-02-02T06:07:04.202124Z",
     "iopub.status.busy": "2023-02-02T06:07:04.200925Z",
     "iopub.status.idle": "2023-02-02T06:07:04.206815Z",
     "shell.execute_reply": "2023-02-02T06:07:04.205864Z",
     "shell.execute_reply.started": "2023-02-02T06:07:04.202077Z"
    },
    "trusted": true
   },
   "outputs": [],
   "source": [
    "#Pandas Begins\n",
    "import pandas as pd"
   ]
  },
  {
   "cell_type": "code",
   "execution_count": null,
   "metadata": {
    "execution": {
     "iopub.execute_input": "2023-02-02T06:07:05.481840Z",
     "iopub.status.busy": "2023-02-02T06:07:05.480955Z",
     "iopub.status.idle": "2023-02-02T06:07:05.489964Z",
     "shell.execute_reply": "2023-02-02T06:07:05.489204Z",
     "shell.execute_reply.started": "2023-02-02T06:07:05.481794Z"
    },
    "trusted": true
   },
   "outputs": [
    {
     "data": {
      "text/plain": [
       "0     35.467\n",
       "1     63.951\n",
       "2     80.940\n",
       "3     60.665\n",
       "4    127.061\n",
       "5     64.511\n",
       "6    318.523\n",
       "dtype: float64"
      ]
     },
     "metadata": {},
     "output_type": "display_data"
    }
   ],
   "source": [
    "# In millions\n",
    "g7_pop = pd.Series([35.467, 63.951, 80.940, 60.665, 127.061, 64.511, 318.523])\n",
    "g7_pop"
   ]
  },
  {
   "cell_type": "code",
   "execution_count": null,
   "metadata": {
    "execution": {
     "iopub.execute_input": "2023-02-02T06:07:06.686540Z",
     "iopub.status.busy": "2023-02-02T06:07:06.685645Z",
     "iopub.status.idle": "2023-02-02T06:07:06.690600Z",
     "shell.execute_reply": "2023-02-02T06:07:06.689675Z",
     "shell.execute_reply.started": "2023-02-02T06:07:06.686500Z"
    },
    "trusted": true
   },
   "outputs": [],
   "source": [
    "g7_pop.name = \"Population of G7 Nations\""
   ]
  },
  {
   "cell_type": "code",
   "execution_count": null,
   "metadata": {
    "execution": {
     "iopub.execute_input": "2023-02-02T06:07:11.316466Z",
     "iopub.status.busy": "2023-02-02T06:07:11.315882Z",
     "iopub.status.idle": "2023-02-02T06:07:11.323440Z",
     "shell.execute_reply": "2023-02-02T06:07:11.322347Z",
     "shell.execute_reply.started": "2023-02-02T06:07:11.316430Z"
    },
    "trusted": true
   },
   "outputs": [
    {
     "data": {
      "text/plain": [
       "0     35.467\n",
       "1     63.951\n",
       "2     80.940\n",
       "3     60.665\n",
       "4    127.061\n",
       "5     64.511\n",
       "6    318.523\n",
       "Name: Population of G7 Nations, dtype: float64"
      ]
     },
     "metadata": {},
     "output_type": "display_data"
    }
   ],
   "source": [
    "g7_pop"
   ]
  },
  {
   "cell_type": "code",
   "execution_count": null,
   "metadata": {
    "execution": {
     "iopub.execute_input": "2023-02-02T06:07:12.316651Z",
     "iopub.status.busy": "2023-02-02T06:07:12.315784Z",
     "iopub.status.idle": "2023-02-02T06:07:12.322880Z",
     "shell.execute_reply": "2023-02-02T06:07:12.321785Z",
     "shell.execute_reply.started": "2023-02-02T06:07:12.316607Z"
    },
    "trusted": true
   },
   "outputs": [
    {
     "data": {
      "text/plain": [
       "dtype('float64')"
      ]
     },
     "metadata": {},
     "output_type": "display_data"
    }
   ],
   "source": [
    "g7_pop.dtype"
   ]
  },
  {
   "cell_type": "code",
   "execution_count": null,
   "metadata": {
    "execution": {
     "iopub.execute_input": "2023-02-02T06:07:15.116253Z",
     "iopub.status.busy": "2023-02-02T06:07:15.115644Z",
     "iopub.status.idle": "2023-02-02T06:07:15.124339Z",
     "shell.execute_reply": "2023-02-02T06:07:15.123064Z",
     "shell.execute_reply.started": "2023-02-02T06:07:15.116211Z"
    },
    "trusted": true
   },
   "outputs": [
    {
     "data": {
      "text/plain": [
       "array([ 35.467,  63.951,  80.94 ,  60.665, 127.061,  64.511, 318.523])"
      ]
     },
     "metadata": {},
     "output_type": "display_data"
    }
   ],
   "source": [
    "g7_pop.values"
   ]
  },
  {
   "cell_type": "code",
   "execution_count": null,
   "metadata": {
    "execution": {
     "iopub.execute_input": "2023-02-02T06:07:33.921632Z",
     "iopub.status.busy": "2023-02-02T06:07:33.921173Z",
     "iopub.status.idle": "2023-02-02T06:07:33.927681Z",
     "shell.execute_reply": "2023-02-02T06:07:33.926991Z",
     "shell.execute_reply.started": "2023-02-02T06:07:33.921597Z"
    },
    "trusted": true
   },
   "outputs": [
    {
     "data": {
      "text/plain": [
       "numpy.ndarray"
      ]
     },
     "metadata": {},
     "output_type": "display_data"
    }
   ],
   "source": [
    "type(g7_pop.values)"
   ]
  },
  {
   "cell_type": "code",
   "execution_count": null,
   "metadata": {
    "execution": {
     "iopub.execute_input": "2023-02-02T06:07:35.051721Z",
     "iopub.status.busy": "2023-02-02T06:07:35.051060Z",
     "iopub.status.idle": "2023-02-02T06:07:35.058813Z",
     "shell.execute_reply": "2023-02-02T06:07:35.057761Z",
     "shell.execute_reply.started": "2023-02-02T06:07:35.051672Z"
    },
    "trusted": true
   },
   "outputs": [
    {
     "data": {
      "text/plain": [
       "63.951"
      ]
     },
     "metadata": {},
     "output_type": "display_data"
    }
   ],
   "source": [
    "g7_pop[1]"
   ]
  },
  {
   "cell_type": "code",
   "execution_count": null,
   "metadata": {
    "execution": {
     "iopub.execute_input": "2023-02-02T06:07:39.986305Z",
     "iopub.status.busy": "2023-02-02T06:07:39.985859Z",
     "iopub.status.idle": "2023-02-02T06:07:39.993203Z",
     "shell.execute_reply": "2023-02-02T06:07:39.992302Z",
     "shell.execute_reply.started": "2023-02-02T06:07:39.986271Z"
    },
    "trusted": true
   },
   "outputs": [
    {
     "data": {
      "text/plain": [
       "RangeIndex(start=0, stop=7, step=1)"
      ]
     },
     "metadata": {},
     "output_type": "display_data"
    }
   ],
   "source": [
    "g7_pop.index"
   ]
  },
  {
   "cell_type": "code",
   "execution_count": null,
   "metadata": {
    "execution": {
     "iopub.execute_input": "2023-02-02T06:07:41.308220Z",
     "iopub.status.busy": "2023-02-02T06:07:41.307535Z",
     "iopub.status.idle": "2023-02-02T06:07:41.313078Z",
     "shell.execute_reply": "2023-02-02T06:07:41.312047Z",
     "shell.execute_reply.started": "2023-02-02T06:07:41.308180Z"
    },
    "trusted": true
   },
   "outputs": [],
   "source": [
    "#In contrast to lists, we can explicitly define the index\n",
    "g7_pop.index = [\n",
    "    'Canada',\n",
    "    'France',\n",
    "    'Germany',\n",
    "    'Italy',\n",
    "    'Japan',\n",
    "    'United Kingdom',\n",
    "    'United States',\n",
    "]"
   ]
  },
  {
   "cell_type": "code",
   "execution_count": null,
   "metadata": {
    "execution": {
     "iopub.execute_input": "2023-02-02T06:07:50.476401Z",
     "iopub.status.busy": "2023-02-02T06:07:50.475990Z",
     "iopub.status.idle": "2023-02-02T06:07:50.483829Z",
     "shell.execute_reply": "2023-02-02T06:07:50.482833Z",
     "shell.execute_reply.started": "2023-02-02T06:07:50.476370Z"
    },
    "trusted": true
   },
   "outputs": [
    {
     "data": {
      "text/plain": [
       "63.951"
      ]
     },
     "metadata": {},
     "output_type": "display_data"
    }
   ],
   "source": [
    "g7_pop[\"France\"]"
   ]
  },
  {
   "cell_type": "code",
   "execution_count": null,
   "metadata": {
    "execution": {
     "iopub.execute_input": "2023-02-02T06:07:51.852132Z",
     "iopub.status.busy": "2023-02-02T06:07:51.851307Z",
     "iopub.status.idle": "2023-02-02T06:07:51.859095Z",
     "shell.execute_reply": "2023-02-02T06:07:51.858308Z",
     "shell.execute_reply.started": "2023-02-02T06:07:51.852089Z"
    },
    "trusted": true
   },
   "outputs": [
    {
     "data": {
      "text/plain": [
       "Canada             35.467\n",
       "France             63.951\n",
       "Germany            80.940\n",
       "Italy              60.665\n",
       "Japan             127.061\n",
       "United Kingdom     64.511\n",
       "United States     318.523\n",
       "Name: Population of G7 Nations, dtype: float64"
      ]
     },
     "metadata": {},
     "output_type": "display_data"
    }
   ],
   "source": [
    "g7_pop\n",
    "#A numpy series is always ordered as seen"
   ]
  },
  {
   "cell_type": "code",
   "execution_count": null,
   "metadata": {
    "execution": {
     "iopub.execute_input": "2023-02-02T06:07:52.961011Z",
     "iopub.status.busy": "2023-02-02T06:07:52.960547Z",
     "iopub.status.idle": "2023-02-02T06:07:52.971925Z",
     "shell.execute_reply": "2023-02-02T06:07:52.970782Z",
     "shell.execute_reply.started": "2023-02-02T06:07:52.960950Z"
    },
    "trusted": true
   },
   "outputs": [
    {
     "data": {
      "text/plain": [
       "Canada             35.467\n",
       "France             63.951\n",
       "Germany            80.940\n",
       "Italy              60.665\n",
       "Japan             127.061\n",
       "United Kingdom     64.511\n",
       "United States     318.523\n",
       "Name: G7 Population in millions, dtype: float64"
      ]
     },
     "metadata": {},
     "output_type": "display_data"
    }
   ],
   "source": [
    "#We can say that Series look like \"ordered dictionaries\". We can actually create Series out of dictionaries:\n",
    "\n",
    "pd.Series({\n",
    "    'Canada': 35.467,\n",
    "    'France': 63.951,\n",
    "    'Germany': 80.94,\n",
    "    'Italy': 60.665,\n",
    "    'Japan': 127.061,\n",
    "    'United Kingdom': 64.511,\n",
    "    'United States': 318.523\n",
    "}, name='G7 Population in millions')"
   ]
  },
  {
   "cell_type": "code",
   "execution_count": null,
   "metadata": {
    "execution": {
     "iopub.execute_input": "2023-02-02T06:07:55.766406Z",
     "iopub.status.busy": "2023-02-02T06:07:55.765938Z",
     "iopub.status.idle": "2023-02-02T06:07:55.775262Z",
     "shell.execute_reply": "2023-02-02T06:07:55.774439Z",
     "shell.execute_reply.started": "2023-02-02T06:07:55.766369Z"
    },
    "trusted": true
   },
   "outputs": [
    {
     "data": {
      "text/plain": [
       "Canada             35.467\n",
       "France             63.951\n",
       "Germany            80.940\n",
       "Italy              60.665\n",
       "Japan             127.061\n",
       "United Kingdom     64.511\n",
       "United States     318.523\n",
       "Name: G7 Population in millions, dtype: float64"
      ]
     },
     "metadata": {},
     "output_type": "display_data"
    }
   ],
   "source": [
    "#Series can also be created in following way\n",
    "pd.Series(\n",
    "    [35.467, 63.951, 80.94, 60.665, 127.061, 64.511, 318.523],\n",
    "    index=['Canada', 'France', 'Germany', 'Italy', 'Japan', 'United Kingdom',\n",
    "       'United States'],\n",
    "    name='G7 Population in millions')"
   ]
  },
  {
   "cell_type": "code",
   "execution_count": null,
   "metadata": {
    "execution": {
     "iopub.execute_input": "2023-02-02T06:08:00.721366Z",
     "iopub.status.busy": "2023-02-02T06:08:00.720959Z",
     "iopub.status.idle": "2023-02-02T06:08:00.730850Z",
     "shell.execute_reply": "2023-02-02T06:08:00.729770Z",
     "shell.execute_reply.started": "2023-02-02T06:08:00.721334Z"
    },
    "trusted": true
   },
   "outputs": [
    {
     "data": {
      "text/plain": [
       "France     63.951\n",
       "Germany    80.940\n",
       "Italy      60.665\n",
       "Spain         NaN\n",
       "Name: Population of G7 Nations, dtype: float64"
      ]
     },
     "metadata": {},
     "output_type": "display_data"
    }
   ],
   "source": [
    "pd.Series(g7_pop, index=['France', 'Germany', 'Italy', 'Spain'])"
   ]
  },
  {
   "cell_type": "code",
   "execution_count": null,
   "metadata": {
    "execution": {
     "iopub.execute_input": "2023-02-02T06:08:02.956818Z",
     "iopub.status.busy": "2023-02-02T06:08:02.956130Z",
     "iopub.status.idle": "2023-02-02T06:08:02.963291Z",
     "shell.execute_reply": "2023-02-02T06:08:02.962069Z",
     "shell.execute_reply.started": "2023-02-02T06:08:02.956774Z"
    },
    "trusted": true
   },
   "outputs": [
    {
     "data": {
      "text/plain": [
       "318.523"
      ]
     },
     "metadata": {},
     "output_type": "display_data"
    }
   ],
   "source": [
    "#Indexing using location (just like indexing in lists)\n",
    "g7_pop.iloc[-1]"
   ]
  },
  {
   "cell_type": "code",
   "execution_count": null,
   "metadata": {
    "execution": {
     "iopub.execute_input": "2023-02-02T06:08:04.291409Z",
     "iopub.status.busy": "2023-02-02T06:08:04.290994Z",
     "iopub.status.idle": "2023-02-02T06:08:04.299493Z",
     "shell.execute_reply": "2023-02-02T06:08:04.298444Z",
     "shell.execute_reply.started": "2023-02-02T06:08:04.291377Z"
    },
    "trusted": true
   },
   "outputs": [
    {
     "data": {
      "text/plain": [
       "France    63.951\n",
       "Italy     60.665\n",
       "Name: Population of G7 Nations, dtype: float64"
      ]
     },
     "metadata": {},
     "output_type": "display_data"
    }
   ],
   "source": [
    "#Multiple Indexing\n",
    "g7_pop[[\"France\", \"Italy\"]]"
   ]
  },
  {
   "cell_type": "code",
   "execution_count": null,
   "metadata": {
    "execution": {
     "iopub.execute_input": "2023-02-02T06:08:05.806396Z",
     "iopub.status.busy": "2023-02-02T06:08:05.805930Z",
     "iopub.status.idle": "2023-02-02T06:08:05.816756Z",
     "shell.execute_reply": "2023-02-02T06:08:05.815538Z",
     "shell.execute_reply.started": "2023-02-02T06:08:05.806363Z"
    },
    "trusted": true
   },
   "outputs": [
    {
     "data": {
      "text/plain": [
       "Canada    35.467\n",
       "France    63.951\n",
       "Name: Population of G7 Nations, dtype: float64"
      ]
     },
     "metadata": {},
     "output_type": "display_data"
    }
   ],
   "source": [
    "g7_pop.iloc[[0,1]]"
   ]
  },
  {
   "cell_type": "code",
   "execution_count": null,
   "metadata": {
    "execution": {
     "iopub.execute_input": "2023-02-02T06:08:35.277059Z",
     "iopub.status.busy": "2023-02-02T06:08:35.276525Z",
     "iopub.status.idle": "2023-02-02T06:08:35.285747Z",
     "shell.execute_reply": "2023-02-02T06:08:35.284447Z",
     "shell.execute_reply.started": "2023-02-02T06:08:35.277018Z"
    },
    "trusted": true
   },
   "outputs": [
    {
     "data": {
      "text/plain": [
       "Canada            False\n",
       "France            False\n",
       "Germany            True\n",
       "Italy             False\n",
       "Japan              True\n",
       "United Kingdom    False\n",
       "United States      True\n",
       "Name: Population of G7 Nations, dtype: bool"
      ]
     },
     "metadata": {},
     "output_type": "display_data"
    }
   ],
   "source": [
    "#population > 70 mil\n",
    "g7_pop>70"
   ]
  },
  {
   "cell_type": "code",
   "execution_count": null,
   "metadata": {
    "execution": {
     "iopub.execute_input": "2023-02-02T06:08:36.456795Z",
     "iopub.status.busy": "2023-02-02T06:08:36.455765Z",
     "iopub.status.idle": "2023-02-02T06:08:36.465620Z",
     "shell.execute_reply": "2023-02-02T06:08:36.464599Z",
     "shell.execute_reply.started": "2023-02-02T06:08:36.456746Z"
    },
    "trusted": true
   },
   "outputs": [
    {
     "data": {
      "text/plain": [
       "Germany           80.940\n",
       "Japan            127.061\n",
       "United States    318.523\n",
       "Name: Population of G7 Nations, dtype: float64"
      ]
     },
     "metadata": {},
     "output_type": "display_data"
    }
   ],
   "source": [
    "g7_pop[g7_pop>70]"
   ]
  },
  {
   "cell_type": "code",
   "execution_count": null,
   "metadata": {
    "execution": {
     "iopub.execute_input": "2023-02-02T06:08:41.816379Z",
     "iopub.status.busy": "2023-02-02T06:08:41.815893Z",
     "iopub.status.idle": "2023-02-02T06:08:41.822865Z",
     "shell.execute_reply": "2023-02-02T06:08:41.822096Z",
     "shell.execute_reply.started": "2023-02-02T06:08:41.816342Z"
    },
    "trusted": true
   },
   "outputs": [
    {
     "data": {
      "text/plain": [
       "107.30257142857144"
      ]
     },
     "metadata": {},
     "output_type": "display_data"
    }
   ],
   "source": [
    "g7_pop.mean()"
   ]
  },
  {
   "cell_type": "code",
   "execution_count": null,
   "metadata": {
    "execution": {
     "iopub.execute_input": "2023-02-02T06:08:43.866753Z",
     "iopub.status.busy": "2023-02-02T06:08:43.866026Z",
     "iopub.status.idle": "2023-02-02T06:08:43.874955Z",
     "shell.execute_reply": "2023-02-02T06:08:43.873892Z",
     "shell.execute_reply.started": "2023-02-02T06:08:43.866713Z"
    },
    "trusted": true
   },
   "outputs": [
    {
     "data": {
      "text/plain": [
       "Japan            127.061\n",
       "United States    318.523\n",
       "Name: Population of G7 Nations, dtype: float64"
      ]
     },
     "metadata": {},
     "output_type": "display_data"
    }
   ],
   "source": [
    "g7_pop[g7_pop>g7_pop.mean()]"
   ]
  },
  {
   "cell_type": "code",
   "execution_count": null,
   "metadata": {
    "execution": {
     "iopub.execute_input": "2023-02-02T06:08:53.547108Z",
     "iopub.status.busy": "2023-02-02T06:08:53.546615Z",
     "iopub.status.idle": "2023-02-02T06:08:53.557001Z",
     "shell.execute_reply": "2023-02-02T06:08:53.556098Z",
     "shell.execute_reply.started": "2023-02-02T06:08:53.547069Z"
    },
    "trusted": true
   },
   "outputs": [
    {
     "data": {
      "text/plain": [
       "68.51866666666666"
      ]
     },
     "metadata": {},
     "output_type": "display_data"
    }
   ],
   "source": [
    "#IMP - slicing in pandas includes last index element as well,\n",
    "#eg. here it will include Italy as well, while python wouldn't have\n",
    "g7_pop[\"France\":\"Italy\"].mean()"
   ]
  },
  {
   "cell_type": "code",
   "execution_count": null,
   "metadata": {
    "execution": {
     "iopub.execute_input": "2023-02-02T06:09:08.852588Z",
     "iopub.status.busy": "2023-02-02T06:09:08.852132Z",
     "iopub.status.idle": "2023-02-02T06:09:08.864728Z",
     "shell.execute_reply": "2023-02-02T06:09:08.863723Z",
     "shell.execute_reply.started": "2023-02-02T06:09:08.852555Z"
    },
    "trusted": true
   },
   "outputs": [
    {
     "data": {
      "text/plain": [
       "France             63.951\n",
       "Germany            80.940\n",
       "Italy              60.665\n",
       "Japan             127.061\n",
       "United Kingdom     64.511\n",
       "United States     318.523\n",
       "Name: Population of G7 Nations, dtype: float64"
      ]
     },
     "metadata": {},
     "output_type": "display_data"
    }
   ],
   "source": [
    "g7_pop[(g7_pop > g7_pop.mean() - g7_pop.std() / 2) | (g7_pop > g7_pop.mean() + g7_pop.std() / 2)]\n"
   ]
  },
  {
   "cell_type": "code",
   "execution_count": null,
   "metadata": {
    "execution": {
     "iopub.execute_input": "2023-02-02T06:09:11.166647Z",
     "iopub.status.busy": "2023-02-02T06:09:11.166073Z",
     "iopub.status.idle": "2023-02-02T06:09:11.174250Z",
     "shell.execute_reply": "2023-02-02T06:09:11.172983Z",
     "shell.execute_reply.started": "2023-02-02T06:09:11.166611Z"
    },
    "trusted": true
   },
   "outputs": [
    {
     "data": {
      "text/plain": [
       "Canada             35467000.0\n",
       "France             63951000.0\n",
       "Germany            80940000.0\n",
       "Italy              60665000.0\n",
       "Japan             127061000.0\n",
       "United Kingdom     64511000.0\n",
       "United States     318523000.0\n",
       "Name: Population of G7 Nations, dtype: float64"
      ]
     },
     "metadata": {},
     "output_type": "display_data"
    }
   ],
   "source": [
    "g7_pop * 1000000\n",
    "g7_pop * 1_000_000"
   ]
  },
  {
   "cell_type": "code",
   "execution_count": null,
   "metadata": {
    "execution": {
     "iopub.execute_input": "2023-02-02T06:09:12.361207Z",
     "iopub.status.busy": "2023-02-02T06:09:12.360790Z",
     "iopub.status.idle": "2023-02-02T06:09:12.369261Z",
     "shell.execute_reply": "2023-02-02T06:09:12.368269Z",
     "shell.execute_reply.started": "2023-02-02T06:09:12.361172Z"
    },
    "trusted": true
   },
   "outputs": [
    {
     "data": {
      "text/plain": [
       "Canada            3.568603\n",
       "France            4.158117\n",
       "Germany           4.393708\n",
       "Italy             4.105367\n",
       "Japan             4.844667\n",
       "United Kingdom    4.166836\n",
       "United States     5.763695\n",
       "Name: Population of G7 Nations, dtype: float64"
      ]
     },
     "metadata": {},
     "output_type": "display_data"
    }
   ],
   "source": [
    "np.log(g7_pop)"
   ]
  },
  {
   "cell_type": "code",
   "execution_count": null,
   "metadata": {
    "execution": {
     "iopub.execute_input": "2023-02-02T06:09:13.276681Z",
     "iopub.status.busy": "2023-02-02T06:09:13.275732Z",
     "iopub.status.idle": "2023-02-02T06:09:13.286826Z",
     "shell.execute_reply": "2023-02-02T06:09:13.285838Z",
     "shell.execute_reply.started": "2023-02-02T06:09:13.276630Z"
    },
    "trusted": true
   },
   "outputs": [
    {
     "data": {
      "text/plain": [
       "Canada             99.990\n",
       "France             99.990\n",
       "Germany            80.940\n",
       "Italy              99.990\n",
       "Japan             127.061\n",
       "United Kingdom     99.990\n",
       "United States     318.523\n",
       "Name: Population of G7 Nations, dtype: float64"
      ]
     },
     "metadata": {},
     "output_type": "display_data"
    }
   ],
   "source": [
    "g7_pop[g7_pop < 70] = 99.99\n",
    "g7_pop"
   ]
  },
  {
   "cell_type": "code",
   "execution_count": null,
   "metadata": {
    "execution": {
     "iopub.execute_input": "2023-02-02T06:09:14.321447Z",
     "iopub.status.busy": "2023-02-02T06:09:14.321007Z",
     "iopub.status.idle": "2023-02-02T06:09:14.332241Z",
     "shell.execute_reply": "2023-02-02T06:09:14.330752Z",
     "shell.execute_reply.started": "2023-02-02T06:09:14.321415Z"
    },
    "trusted": true
   },
   "outputs": [],
   "source": [
    "#Pandas Dataframes begins\n",
    "df = pd.DataFrame({\n",
    "    'Population': [35.467, 63.951, 80.94 , 60.665, 127.061, 64.511, 318.523],\n",
    "    'GDP': [\n",
    "        1785387,\n",
    "        2833687,\n",
    "        3874437,\n",
    "        2167744,\n",
    "        4602367,\n",
    "        2950039,\n",
    "        17348075\n",
    "    ],\n",
    "    'Surface Area': [\n",
    "        9984670,\n",
    "        640679,\n",
    "        357114,\n",
    "        301336,\n",
    "        377930,\n",
    "        242495,\n",
    "        9525067\n",
    "    ],\n",
    "    'HDI': [\n",
    "        0.913,\n",
    "        0.888,\n",
    "        0.916,\n",
    "        0.873,\n",
    "        0.891,\n",
    "        0.907,\n",
    "        0.915\n",
    "    ],\n",
    "    'Continent': [\n",
    "        'America',\n",
    "        'Europe',\n",
    "        'Europe',\n",
    "        'Europe',\n",
    "        'Asia',\n",
    "        'Europe',\n",
    "        'America'\n",
    "    ]\n",
    "}, columns=['Population', 'GDP', 'Surface Area', 'HDI', 'Continent'])\n"
   ]
  },
  {
   "cell_type": "code",
   "execution_count": null,
   "metadata": {
    "execution": {
     "iopub.execute_input": "2023-02-02T06:09:15.816383Z",
     "iopub.status.busy": "2023-02-02T06:09:15.815828Z",
     "iopub.status.idle": "2023-02-02T06:09:15.829412Z",
     "shell.execute_reply": "2023-02-02T06:09:15.828358Z",
     "shell.execute_reply.started": "2023-02-02T06:09:15.816348Z"
    },
    "trusted": true
   },
   "outputs": [
    {
     "data": {
      "text/html": [
       "<div>\n",
       "<style scoped>\n",
       "    .dataframe tbody tr th:only-of-type {\n",
       "        vertical-align: middle;\n",
       "    }\n",
       "\n",
       "    .dataframe tbody tr th {\n",
       "        vertical-align: top;\n",
       "    }\n",
       "\n",
       "    .dataframe thead th {\n",
       "        text-align: right;\n",
       "    }\n",
       "</style>\n",
       "<table border=\"1\" class=\"dataframe\">\n",
       "  <thead>\n",
       "    <tr style=\"text-align: right;\">\n",
       "      <th></th>\n",
       "      <th>Population</th>\n",
       "      <th>GDP</th>\n",
       "      <th>Surface Area</th>\n",
       "      <th>HDI</th>\n",
       "      <th>Continent</th>\n",
       "    </tr>\n",
       "  </thead>\n",
       "  <tbody>\n",
       "    <tr>\n",
       "      <th>0</th>\n",
       "      <td>35.467</td>\n",
       "      <td>1785387</td>\n",
       "      <td>9984670</td>\n",
       "      <td>0.913</td>\n",
       "      <td>America</td>\n",
       "    </tr>\n",
       "    <tr>\n",
       "      <th>1</th>\n",
       "      <td>63.951</td>\n",
       "      <td>2833687</td>\n",
       "      <td>640679</td>\n",
       "      <td>0.888</td>\n",
       "      <td>Europe</td>\n",
       "    </tr>\n",
       "    <tr>\n",
       "      <th>2</th>\n",
       "      <td>80.940</td>\n",
       "      <td>3874437</td>\n",
       "      <td>357114</td>\n",
       "      <td>0.916</td>\n",
       "      <td>Europe</td>\n",
       "    </tr>\n",
       "    <tr>\n",
       "      <th>3</th>\n",
       "      <td>60.665</td>\n",
       "      <td>2167744</td>\n",
       "      <td>301336</td>\n",
       "      <td>0.873</td>\n",
       "      <td>Europe</td>\n",
       "    </tr>\n",
       "    <tr>\n",
       "      <th>4</th>\n",
       "      <td>127.061</td>\n",
       "      <td>4602367</td>\n",
       "      <td>377930</td>\n",
       "      <td>0.891</td>\n",
       "      <td>Asia</td>\n",
       "    </tr>\n",
       "    <tr>\n",
       "      <th>5</th>\n",
       "      <td>64.511</td>\n",
       "      <td>2950039</td>\n",
       "      <td>242495</td>\n",
       "      <td>0.907</td>\n",
       "      <td>Europe</td>\n",
       "    </tr>\n",
       "    <tr>\n",
       "      <th>6</th>\n",
       "      <td>318.523</td>\n",
       "      <td>17348075</td>\n",
       "      <td>9525067</td>\n",
       "      <td>0.915</td>\n",
       "      <td>America</td>\n",
       "    </tr>\n",
       "  </tbody>\n",
       "</table>\n",
       "</div>"
      ],
      "text/plain": [
       "   Population       GDP  Surface Area    HDI Continent\n",
       "0      35.467   1785387       9984670  0.913   America\n",
       "1      63.951   2833687        640679  0.888    Europe\n",
       "2      80.940   3874437        357114  0.916    Europe\n",
       "3      60.665   2167744        301336  0.873    Europe\n",
       "4     127.061   4602367        377930  0.891      Asia\n",
       "5      64.511   2950039        242495  0.907    Europe\n",
       "6     318.523  17348075       9525067  0.915   America"
      ]
     },
     "metadata": {},
     "output_type": "display_data"
    }
   ],
   "source": [
    "df"
   ]
  },
  {
   "cell_type": "code",
   "execution_count": null,
   "metadata": {
    "execution": {
     "iopub.execute_input": "2023-02-02T06:09:18.716359Z",
     "iopub.status.busy": "2023-02-02T06:09:18.715935Z",
     "iopub.status.idle": "2023-02-02T06:09:18.721524Z",
     "shell.execute_reply": "2023-02-02T06:09:18.720317Z",
     "shell.execute_reply.started": "2023-02-02T06:09:18.716326Z"
    },
    "trusted": true
   },
   "outputs": [],
   "source": [
    "df.index = [\n",
    "    'Canada',\n",
    "    'France',\n",
    "    'Germany',\n",
    "    'Italy',\n",
    "    'Japan',\n",
    "    'United Kingdom',\n",
    "    'United States',\n",
    "]"
   ]
  },
  {
   "cell_type": "code",
   "execution_count": null,
   "metadata": {
    "execution": {
     "iopub.execute_input": "2023-02-02T06:09:19.756238Z",
     "iopub.status.busy": "2023-02-02T06:09:19.755806Z",
     "iopub.status.idle": "2023-02-02T06:09:19.770038Z",
     "shell.execute_reply": "2023-02-02T06:09:19.769086Z",
     "shell.execute_reply.started": "2023-02-02T06:09:19.756199Z"
    },
    "trusted": true
   },
   "outputs": [
    {
     "data": {
      "text/html": [
       "<div>\n",
       "<style scoped>\n",
       "    .dataframe tbody tr th:only-of-type {\n",
       "        vertical-align: middle;\n",
       "    }\n",
       "\n",
       "    .dataframe tbody tr th {\n",
       "        vertical-align: top;\n",
       "    }\n",
       "\n",
       "    .dataframe thead th {\n",
       "        text-align: right;\n",
       "    }\n",
       "</style>\n",
       "<table border=\"1\" class=\"dataframe\">\n",
       "  <thead>\n",
       "    <tr style=\"text-align: right;\">\n",
       "      <th></th>\n",
       "      <th>Population</th>\n",
       "      <th>GDP</th>\n",
       "      <th>Surface Area</th>\n",
       "      <th>HDI</th>\n",
       "      <th>Continent</th>\n",
       "    </tr>\n",
       "  </thead>\n",
       "  <tbody>\n",
       "    <tr>\n",
       "      <th>Canada</th>\n",
       "      <td>35.467</td>\n",
       "      <td>1785387</td>\n",
       "      <td>9984670</td>\n",
       "      <td>0.913</td>\n",
       "      <td>America</td>\n",
       "    </tr>\n",
       "    <tr>\n",
       "      <th>France</th>\n",
       "      <td>63.951</td>\n",
       "      <td>2833687</td>\n",
       "      <td>640679</td>\n",
       "      <td>0.888</td>\n",
       "      <td>Europe</td>\n",
       "    </tr>\n",
       "    <tr>\n",
       "      <th>Germany</th>\n",
       "      <td>80.940</td>\n",
       "      <td>3874437</td>\n",
       "      <td>357114</td>\n",
       "      <td>0.916</td>\n",
       "      <td>Europe</td>\n",
       "    </tr>\n",
       "    <tr>\n",
       "      <th>Italy</th>\n",
       "      <td>60.665</td>\n",
       "      <td>2167744</td>\n",
       "      <td>301336</td>\n",
       "      <td>0.873</td>\n",
       "      <td>Europe</td>\n",
       "    </tr>\n",
       "    <tr>\n",
       "      <th>Japan</th>\n",
       "      <td>127.061</td>\n",
       "      <td>4602367</td>\n",
       "      <td>377930</td>\n",
       "      <td>0.891</td>\n",
       "      <td>Asia</td>\n",
       "    </tr>\n",
       "    <tr>\n",
       "      <th>United Kingdom</th>\n",
       "      <td>64.511</td>\n",
       "      <td>2950039</td>\n",
       "      <td>242495</td>\n",
       "      <td>0.907</td>\n",
       "      <td>Europe</td>\n",
       "    </tr>\n",
       "    <tr>\n",
       "      <th>United States</th>\n",
       "      <td>318.523</td>\n",
       "      <td>17348075</td>\n",
       "      <td>9525067</td>\n",
       "      <td>0.915</td>\n",
       "      <td>America</td>\n",
       "    </tr>\n",
       "  </tbody>\n",
       "</table>\n",
       "</div>"
      ],
      "text/plain": [
       "                Population       GDP  Surface Area    HDI Continent\n",
       "Canada              35.467   1785387       9984670  0.913   America\n",
       "France              63.951   2833687        640679  0.888    Europe\n",
       "Germany             80.940   3874437        357114  0.916    Europe\n",
       "Italy               60.665   2167744        301336  0.873    Europe\n",
       "Japan              127.061   4602367        377930  0.891      Asia\n",
       "United Kingdom      64.511   2950039        242495  0.907    Europe\n",
       "United States      318.523  17348075       9525067  0.915   America"
      ]
     },
     "metadata": {},
     "output_type": "display_data"
    }
   ],
   "source": [
    "df"
   ]
  },
  {
   "cell_type": "code",
   "execution_count": null,
   "metadata": {
    "execution": {
     "iopub.execute_input": "2023-02-02T06:09:21.221310Z",
     "iopub.status.busy": "2023-02-02T06:09:21.220846Z",
     "iopub.status.idle": "2023-02-02T06:09:21.229051Z",
     "shell.execute_reply": "2023-02-02T06:09:21.228031Z",
     "shell.execute_reply.started": "2023-02-02T06:09:21.221277Z"
    },
    "trusted": true
   },
   "outputs": [
    {
     "data": {
      "text/plain": [
       "Index(['Population', 'GDP', 'Surface Area', 'HDI', 'Continent'], dtype='object')"
      ]
     },
     "metadata": {},
     "output_type": "display_data"
    }
   ],
   "source": [
    "df.columns"
   ]
  },
  {
   "cell_type": "code",
   "execution_count": null,
   "metadata": {
    "execution": {
     "iopub.execute_input": "2023-02-02T06:09:22.526393Z",
     "iopub.status.busy": "2023-02-02T06:09:22.525867Z",
     "iopub.status.idle": "2023-02-02T06:09:22.540651Z",
     "shell.execute_reply": "2023-02-02T06:09:22.539458Z",
     "shell.execute_reply.started": "2023-02-02T06:09:22.526356Z"
    },
    "trusted": true
   },
   "outputs": [
    {
     "name": "stdout",
     "output_type": "stream",
     "text": [
      "<class 'pandas.core.frame.DataFrame'>\n",
      "Index: 7 entries, Canada to United States\n",
      "Data columns (total 5 columns):\n",
      " #   Column        Non-Null Count  Dtype  \n",
      "---  ------        --------------  -----  \n",
      " 0   Population    7 non-null      float64\n",
      " 1   GDP           7 non-null      int64  \n",
      " 2   Surface Area  7 non-null      int64  \n",
      " 3   HDI           7 non-null      float64\n",
      " 4   Continent     7 non-null      object \n",
      "dtypes: float64(2), int64(2), object(1)\n",
      "memory usage: 336.0+ bytes\n"
     ]
    }
   ],
   "source": [
    "df.info()"
   ]
  },
  {
   "cell_type": "code",
   "execution_count": null,
   "metadata": {
    "execution": {
     "iopub.execute_input": "2023-02-02T06:09:23.491434Z",
     "iopub.status.busy": "2023-02-02T06:09:23.491039Z",
     "iopub.status.idle": "2023-02-02T06:09:23.497364Z",
     "shell.execute_reply": "2023-02-02T06:09:23.496559Z",
     "shell.execute_reply.started": "2023-02-02T06:09:23.491403Z"
    },
    "trusted": true
   },
   "outputs": [
    {
     "data": {
      "text/plain": [
       "35"
      ]
     },
     "metadata": {},
     "output_type": "display_data"
    }
   ],
   "source": [
    "df.size"
   ]
  },
  {
   "cell_type": "code",
   "execution_count": null,
   "metadata": {
    "execution": {
     "iopub.execute_input": "2023-02-02T06:09:24.586602Z",
     "iopub.status.busy": "2023-02-02T06:09:24.585884Z",
     "iopub.status.idle": "2023-02-02T06:09:24.594658Z",
     "shell.execute_reply": "2023-02-02T06:09:24.593352Z",
     "shell.execute_reply.started": "2023-02-02T06:09:24.586546Z"
    },
    "trusted": true
   },
   "outputs": [
    {
     "data": {
      "text/plain": [
       "(7, 5)"
      ]
     },
     "metadata": {},
     "output_type": "display_data"
    }
   ],
   "source": [
    "df.shape"
   ]
  },
  {
   "cell_type": "code",
   "execution_count": null,
   "metadata": {
    "execution": {
     "iopub.execute_input": "2023-02-02T06:09:25.496434Z",
     "iopub.status.busy": "2023-02-02T06:09:25.496011Z",
     "iopub.status.idle": "2023-02-02T06:09:25.524233Z",
     "shell.execute_reply": "2023-02-02T06:09:25.523194Z",
     "shell.execute_reply.started": "2023-02-02T06:09:25.496401Z"
    },
    "trusted": true
   },
   "outputs": [
    {
     "data": {
      "text/html": [
       "<div>\n",
       "<style scoped>\n",
       "    .dataframe tbody tr th:only-of-type {\n",
       "        vertical-align: middle;\n",
       "    }\n",
       "\n",
       "    .dataframe tbody tr th {\n",
       "        vertical-align: top;\n",
       "    }\n",
       "\n",
       "    .dataframe thead th {\n",
       "        text-align: right;\n",
       "    }\n",
       "</style>\n",
       "<table border=\"1\" class=\"dataframe\">\n",
       "  <thead>\n",
       "    <tr style=\"text-align: right;\">\n",
       "      <th></th>\n",
       "      <th>Population</th>\n",
       "      <th>GDP</th>\n",
       "      <th>Surface Area</th>\n",
       "      <th>HDI</th>\n",
       "    </tr>\n",
       "  </thead>\n",
       "  <tbody>\n",
       "    <tr>\n",
       "      <th>count</th>\n",
       "      <td>7.000000</td>\n",
       "      <td>7.000000e+00</td>\n",
       "      <td>7.000000e+00</td>\n",
       "      <td>7.000000</td>\n",
       "    </tr>\n",
       "    <tr>\n",
       "      <th>mean</th>\n",
       "      <td>107.302571</td>\n",
       "      <td>5.080248e+06</td>\n",
       "      <td>3.061327e+06</td>\n",
       "      <td>0.900429</td>\n",
       "    </tr>\n",
       "    <tr>\n",
       "      <th>std</th>\n",
       "      <td>97.249970</td>\n",
       "      <td>5.494020e+06</td>\n",
       "      <td>4.576187e+06</td>\n",
       "      <td>0.016592</td>\n",
       "    </tr>\n",
       "    <tr>\n",
       "      <th>min</th>\n",
       "      <td>35.467000</td>\n",
       "      <td>1.785387e+06</td>\n",
       "      <td>2.424950e+05</td>\n",
       "      <td>0.873000</td>\n",
       "    </tr>\n",
       "    <tr>\n",
       "      <th>25%</th>\n",
       "      <td>62.308000</td>\n",
       "      <td>2.500716e+06</td>\n",
       "      <td>3.292250e+05</td>\n",
       "      <td>0.889500</td>\n",
       "    </tr>\n",
       "    <tr>\n",
       "      <th>50%</th>\n",
       "      <td>64.511000</td>\n",
       "      <td>2.950039e+06</td>\n",
       "      <td>3.779300e+05</td>\n",
       "      <td>0.907000</td>\n",
       "    </tr>\n",
       "    <tr>\n",
       "      <th>75%</th>\n",
       "      <td>104.000500</td>\n",
       "      <td>4.238402e+06</td>\n",
       "      <td>5.082873e+06</td>\n",
       "      <td>0.914000</td>\n",
       "    </tr>\n",
       "    <tr>\n",
       "      <th>max</th>\n",
       "      <td>318.523000</td>\n",
       "      <td>1.734808e+07</td>\n",
       "      <td>9.984670e+06</td>\n",
       "      <td>0.916000</td>\n",
       "    </tr>\n",
       "  </tbody>\n",
       "</table>\n",
       "</div>"
      ],
      "text/plain": [
       "       Population           GDP  Surface Area       HDI\n",
       "count    7.000000  7.000000e+00  7.000000e+00  7.000000\n",
       "mean   107.302571  5.080248e+06  3.061327e+06  0.900429\n",
       "std     97.249970  5.494020e+06  4.576187e+06  0.016592\n",
       "min     35.467000  1.785387e+06  2.424950e+05  0.873000\n",
       "25%     62.308000  2.500716e+06  3.292250e+05  0.889500\n",
       "50%     64.511000  2.950039e+06  3.779300e+05  0.907000\n",
       "75%    104.000500  4.238402e+06  5.082873e+06  0.914000\n",
       "max    318.523000  1.734808e+07  9.984670e+06  0.916000"
      ]
     },
     "metadata": {},
     "output_type": "display_data"
    }
   ],
   "source": [
    "df.describe()"
   ]
  },
  {
   "cell_type": "code",
   "execution_count": null,
   "metadata": {
    "execution": {
     "iopub.execute_input": "2023-02-02T06:09:26.456343Z",
     "iopub.status.busy": "2023-02-02T06:09:26.455757Z",
     "iopub.status.idle": "2023-02-02T06:09:26.464333Z",
     "shell.execute_reply": "2023-02-02T06:09:26.463471Z",
     "shell.execute_reply.started": "2023-02-02T06:09:26.456303Z"
    },
    "trusted": true
   },
   "outputs": [
    {
     "data": {
      "text/plain": [
       "float64    2\n",
       "int64      2\n",
       "object     1\n",
       "dtype: int64"
      ]
     },
     "metadata": {},
     "output_type": "display_data"
    }
   ],
   "source": [
    "df.dtypes.value_counts()"
   ]
  },
  {
   "cell_type": "code",
   "execution_count": null,
   "metadata": {
    "execution": {
     "iopub.execute_input": "2023-02-02T06:09:27.876512Z",
     "iopub.status.busy": "2023-02-02T06:09:27.875635Z",
     "iopub.status.idle": "2023-02-02T06:09:27.883543Z",
     "shell.execute_reply": "2023-02-02T06:09:27.882857Z",
     "shell.execute_reply.started": "2023-02-02T06:09:27.876469Z"
    },
    "trusted": true
   },
   "outputs": [
    {
     "data": {
      "text/plain": [
       "Population       35.467\n",
       "GDP             1785387\n",
       "Surface Area    9984670\n",
       "HDI               0.913\n",
       "Continent       America\n",
       "Name: Canada, dtype: object"
      ]
     },
     "metadata": {},
     "output_type": "display_data"
    }
   ],
   "source": [
    "#To select using Index(set by us)\n",
    "df.loc[\"Canada\"]"
   ]
  },
  {
   "cell_type": "code",
   "execution_count": null,
   "metadata": {
    "execution": {
     "iopub.execute_input": "2023-02-02T06:09:28.826255Z",
     "iopub.status.busy": "2023-02-02T06:09:28.825824Z",
     "iopub.status.idle": "2023-02-02T06:09:28.834183Z",
     "shell.execute_reply": "2023-02-02T06:09:28.833215Z",
     "shell.execute_reply.started": "2023-02-02T06:09:28.826219Z"
    },
    "trusted": true
   },
   "outputs": [
    {
     "data": {
      "text/plain": [
       "Population       63.951\n",
       "GDP             2833687\n",
       "Surface Area     640679\n",
       "HDI               0.888\n",
       "Continent        Europe\n",
       "Name: France, dtype: object"
      ]
     },
     "metadata": {},
     "output_type": "display_data"
    }
   ],
   "source": [
    "#To select by index like in python\n",
    "df.iloc[1]"
   ]
  },
  {
   "cell_type": "code",
   "execution_count": null,
   "metadata": {
    "execution": {
     "iopub.execute_input": "2023-02-02T06:09:35.836541Z",
     "iopub.status.busy": "2023-02-02T06:09:35.835944Z",
     "iopub.status.idle": "2023-02-02T06:09:35.846430Z",
     "shell.execute_reply": "2023-02-02T06:09:35.845391Z",
     "shell.execute_reply.started": "2023-02-02T06:09:35.836498Z"
    },
    "trusted": true
   },
   "outputs": [
    {
     "name": "stdout",
     "output_type": "stream",
     "text": [
      "Canada             35.467\n",
      "France             63.951\n",
      "Germany            80.940\n",
      "Italy              60.665\n",
      "Japan             127.061\n",
      "United Kingdom     64.511\n",
      "United States     318.523\n",
      "Name: Population, dtype: float64\n"
     ]
    },
    {
     "data": {
      "text/plain": [
       "35.467"
      ]
     },
     "metadata": {},
     "output_type": "display_data"
    }
   ],
   "source": [
    "#Just like 2D Matrix\n",
    "print(df[\"Population\"])\n",
    "df[\"Population\"][\"Canada\"]"
   ]
  },
  {
   "cell_type": "code",
   "execution_count": null,
   "metadata": {
    "execution": {
     "iopub.execute_input": "2023-02-02T06:09:36.701601Z",
     "iopub.status.busy": "2023-02-02T06:09:36.701186Z",
     "iopub.status.idle": "2023-02-02T06:09:36.709351Z",
     "shell.execute_reply": "2023-02-02T06:09:36.708456Z",
     "shell.execute_reply.started": "2023-02-02T06:09:36.701564Z"
    },
    "trusted": true
   },
   "outputs": [
    {
     "data": {
      "text/plain": [
       "France     63.951\n",
       "Germany    80.940\n",
       "Italy      60.665\n",
       "Name: Population, dtype: float64"
      ]
     },
     "metadata": {},
     "output_type": "display_data"
    }
   ],
   "source": [
    "df.loc[\"France\":\"Italy\", \"Population\"]"
   ]
  },
  {
   "cell_type": "code",
   "execution_count": null,
   "metadata": {
    "execution": {
     "iopub.execute_input": "2023-02-02T06:09:37.541466Z",
     "iopub.status.busy": "2023-02-02T06:09:37.541026Z",
     "iopub.status.idle": "2023-02-02T06:09:37.554721Z",
     "shell.execute_reply": "2023-02-02T06:09:37.553494Z",
     "shell.execute_reply.started": "2023-02-02T06:09:37.541430Z"
    },
    "trusted": true
   },
   "outputs": [
    {
     "data": {
      "text/html": [
       "<div>\n",
       "<style scoped>\n",
       "    .dataframe tbody tr th:only-of-type {\n",
       "        vertical-align: middle;\n",
       "    }\n",
       "\n",
       "    .dataframe tbody tr th {\n",
       "        vertical-align: top;\n",
       "    }\n",
       "\n",
       "    .dataframe thead th {\n",
       "        text-align: right;\n",
       "    }\n",
       "</style>\n",
       "<table border=\"1\" class=\"dataframe\">\n",
       "  <thead>\n",
       "    <tr style=\"text-align: right;\">\n",
       "      <th></th>\n",
       "      <th>Population</th>\n",
       "      <th>GDP</th>\n",
       "      <th>Surface Area</th>\n",
       "      <th>HDI</th>\n",
       "      <th>Continent</th>\n",
       "    </tr>\n",
       "  </thead>\n",
       "  <tbody>\n",
       "    <tr>\n",
       "      <th>Canada</th>\n",
       "      <td>35.467</td>\n",
       "      <td>1785387</td>\n",
       "      <td>9984670</td>\n",
       "      <td>0.913</td>\n",
       "      <td>America</td>\n",
       "    </tr>\n",
       "    <tr>\n",
       "      <th>France</th>\n",
       "      <td>63.951</td>\n",
       "      <td>2833687</td>\n",
       "      <td>640679</td>\n",
       "      <td>0.888</td>\n",
       "      <td>Europe</td>\n",
       "    </tr>\n",
       "    <tr>\n",
       "      <th>United States</th>\n",
       "      <td>318.523</td>\n",
       "      <td>17348075</td>\n",
       "      <td>9525067</td>\n",
       "      <td>0.915</td>\n",
       "      <td>America</td>\n",
       "    </tr>\n",
       "  </tbody>\n",
       "</table>\n",
       "</div>"
      ],
      "text/plain": [
       "               Population       GDP  Surface Area    HDI Continent\n",
       "Canada             35.467   1785387       9984670  0.913   America\n",
       "France             63.951   2833687        640679  0.888    Europe\n",
       "United States     318.523  17348075       9525067  0.915   America"
      ]
     },
     "metadata": {},
     "output_type": "display_data"
    }
   ],
   "source": [
    "#Multi Indexing\n",
    "df.iloc[[0,1,-1]]"
   ]
  },
  {
   "cell_type": "code",
   "execution_count": null,
   "metadata": {
    "execution": {
     "iopub.execute_input": "2023-02-02T06:09:38.316743Z",
     "iopub.status.busy": "2023-02-02T06:09:38.315860Z",
     "iopub.status.idle": "2023-02-02T06:09:38.324284Z",
     "shell.execute_reply": "2023-02-02T06:09:38.323404Z",
     "shell.execute_reply.started": "2023-02-02T06:09:38.316697Z"
    },
    "trusted": true
   },
   "outputs": [
    {
     "data": {
      "text/plain": [
       "France     0.888\n",
       "Germany    0.916\n",
       "Name: HDI, dtype: float64"
      ]
     },
     "metadata": {},
     "output_type": "display_data"
    }
   ],
   "source": [
    "df.iloc[1:3,3]"
   ]
  },
  {
   "cell_type": "code",
   "execution_count": null,
   "metadata": {
    "execution": {
     "iopub.execute_input": "2023-02-02T06:09:39.286809Z",
     "iopub.status.busy": "2023-02-02T06:09:39.286209Z",
     "iopub.status.idle": "2023-02-02T06:09:39.301338Z",
     "shell.execute_reply": "2023-02-02T06:09:39.300273Z",
     "shell.execute_reply.started": "2023-02-02T06:09:39.286762Z"
    },
    "trusted": true
   },
   "outputs": [
    {
     "data": {
      "text/html": [
       "<div>\n",
       "<style scoped>\n",
       "    .dataframe tbody tr th:only-of-type {\n",
       "        vertical-align: middle;\n",
       "    }\n",
       "\n",
       "    .dataframe tbody tr th {\n",
       "        vertical-align: top;\n",
       "    }\n",
       "\n",
       "    .dataframe thead th {\n",
       "        text-align: right;\n",
       "    }\n",
       "</style>\n",
       "<table border=\"1\" class=\"dataframe\">\n",
       "  <thead>\n",
       "    <tr style=\"text-align: right;\">\n",
       "      <th></th>\n",
       "      <th>Population</th>\n",
       "      <th>GDP</th>\n",
       "      <th>Surface Area</th>\n",
       "      <th>HDI</th>\n",
       "      <th>Continent</th>\n",
       "    </tr>\n",
       "  </thead>\n",
       "  <tbody>\n",
       "    <tr>\n",
       "      <th>Germany</th>\n",
       "      <td>80.940</td>\n",
       "      <td>3874437</td>\n",
       "      <td>357114</td>\n",
       "      <td>0.916</td>\n",
       "      <td>Europe</td>\n",
       "    </tr>\n",
       "    <tr>\n",
       "      <th>Japan</th>\n",
       "      <td>127.061</td>\n",
       "      <td>4602367</td>\n",
       "      <td>377930</td>\n",
       "      <td>0.891</td>\n",
       "      <td>Asia</td>\n",
       "    </tr>\n",
       "    <tr>\n",
       "      <th>United States</th>\n",
       "      <td>318.523</td>\n",
       "      <td>17348075</td>\n",
       "      <td>9525067</td>\n",
       "      <td>0.915</td>\n",
       "      <td>America</td>\n",
       "    </tr>\n",
       "  </tbody>\n",
       "</table>\n",
       "</div>"
      ],
      "text/plain": [
       "               Population       GDP  Surface Area    HDI Continent\n",
       "Germany            80.940   3874437        357114  0.916    Europe\n",
       "Japan             127.061   4602367        377930  0.891      Asia\n",
       "United States     318.523  17348075       9525067  0.915   America"
      ]
     },
     "metadata": {},
     "output_type": "display_data"
    }
   ],
   "source": [
    "df.loc[df[\"Population\"]>70]"
   ]
  },
  {
   "cell_type": "code",
   "execution_count": null,
   "metadata": {
    "execution": {
     "iopub.execute_input": "2023-02-02T06:09:43.056698Z",
     "iopub.status.busy": "2023-02-02T06:09:43.056044Z",
     "iopub.status.idle": "2023-02-02T06:09:43.064837Z",
     "shell.execute_reply": "2023-02-02T06:09:43.064055Z",
     "shell.execute_reply.started": "2023-02-02T06:09:43.056660Z"
    },
    "trusted": true
   },
   "outputs": [
    {
     "data": {
      "text/plain": [
       "Germany           3874437\n",
       "Japan             4602367\n",
       "United States    17348075\n",
       "Name: GDP, dtype: int64"
      ]
     },
     "metadata": {},
     "output_type": "display_data"
    }
   ],
   "source": [
    "df.loc[df[\"Population\"]>70, \"GDP\"]"
   ]
  },
  {
   "cell_type": "code",
   "execution_count": null,
   "metadata": {
    "execution": {
     "iopub.execute_input": "2023-02-02T06:09:43.696177Z",
     "iopub.status.busy": "2023-02-02T06:09:43.695684Z",
     "iopub.status.idle": "2023-02-02T06:09:43.711897Z",
     "shell.execute_reply": "2023-02-02T06:09:43.710529Z",
     "shell.execute_reply.started": "2023-02-02T06:09:43.696140Z"
    },
    "trusted": true
   },
   "outputs": [
    {
     "data": {
      "text/html": [
       "<div>\n",
       "<style scoped>\n",
       "    .dataframe tbody tr th:only-of-type {\n",
       "        vertical-align: middle;\n",
       "    }\n",
       "\n",
       "    .dataframe tbody tr th {\n",
       "        vertical-align: top;\n",
       "    }\n",
       "\n",
       "    .dataframe thead th {\n",
       "        text-align: right;\n",
       "    }\n",
       "</style>\n",
       "<table border=\"1\" class=\"dataframe\">\n",
       "  <thead>\n",
       "    <tr style=\"text-align: right;\">\n",
       "      <th></th>\n",
       "      <th>Population</th>\n",
       "      <th>GDP</th>\n",
       "      <th>Surface Area</th>\n",
       "      <th>HDI</th>\n",
       "      <th>Continent</th>\n",
       "    </tr>\n",
       "  </thead>\n",
       "  <tbody>\n",
       "    <tr>\n",
       "      <th>France</th>\n",
       "      <td>63.951</td>\n",
       "      <td>2833687</td>\n",
       "      <td>640679</td>\n",
       "      <td>0.888</td>\n",
       "      <td>Europe</td>\n",
       "    </tr>\n",
       "    <tr>\n",
       "      <th>Germany</th>\n",
       "      <td>80.940</td>\n",
       "      <td>3874437</td>\n",
       "      <td>357114</td>\n",
       "      <td>0.916</td>\n",
       "      <td>Europe</td>\n",
       "    </tr>\n",
       "    <tr>\n",
       "      <th>Italy</th>\n",
       "      <td>60.665</td>\n",
       "      <td>2167744</td>\n",
       "      <td>301336</td>\n",
       "      <td>0.873</td>\n",
       "      <td>Europe</td>\n",
       "    </tr>\n",
       "    <tr>\n",
       "      <th>Japan</th>\n",
       "      <td>127.061</td>\n",
       "      <td>4602367</td>\n",
       "      <td>377930</td>\n",
       "      <td>0.891</td>\n",
       "      <td>Asia</td>\n",
       "    </tr>\n",
       "    <tr>\n",
       "      <th>United Kingdom</th>\n",
       "      <td>64.511</td>\n",
       "      <td>2950039</td>\n",
       "      <td>242495</td>\n",
       "      <td>0.907</td>\n",
       "      <td>Europe</td>\n",
       "    </tr>\n",
       "    <tr>\n",
       "      <th>United States</th>\n",
       "      <td>318.523</td>\n",
       "      <td>17348075</td>\n",
       "      <td>9525067</td>\n",
       "      <td>0.915</td>\n",
       "      <td>America</td>\n",
       "    </tr>\n",
       "  </tbody>\n",
       "</table>\n",
       "</div>"
      ],
      "text/plain": [
       "                Population       GDP  Surface Area    HDI Continent\n",
       "France              63.951   2833687        640679  0.888    Europe\n",
       "Germany             80.940   3874437        357114  0.916    Europe\n",
       "Italy               60.665   2167744        301336  0.873    Europe\n",
       "Japan              127.061   4602367        377930  0.891      Asia\n",
       "United Kingdom      64.511   2950039        242495  0.907    Europe\n",
       "United States      318.523  17348075       9525067  0.915   America"
      ]
     },
     "metadata": {},
     "output_type": "display_data"
    }
   ],
   "source": [
    "df.drop([\"Canada\"])"
   ]
  },
  {
   "cell_type": "code",
   "execution_count": null,
   "metadata": {
    "execution": {
     "iopub.execute_input": "2023-02-02T06:09:44.416955Z",
     "iopub.status.busy": "2023-02-02T06:09:44.415896Z",
     "iopub.status.idle": "2023-02-02T06:09:44.429920Z",
     "shell.execute_reply": "2023-02-02T06:09:44.428709Z",
     "shell.execute_reply.started": "2023-02-02T06:09:44.416906Z"
    },
    "trusted": true
   },
   "outputs": [
    {
     "data": {
      "text/html": [
       "<div>\n",
       "<style scoped>\n",
       "    .dataframe tbody tr th:only-of-type {\n",
       "        vertical-align: middle;\n",
       "    }\n",
       "\n",
       "    .dataframe tbody tr th {\n",
       "        vertical-align: top;\n",
       "    }\n",
       "\n",
       "    .dataframe thead th {\n",
       "        text-align: right;\n",
       "    }\n",
       "</style>\n",
       "<table border=\"1\" class=\"dataframe\">\n",
       "  <thead>\n",
       "    <tr style=\"text-align: right;\">\n",
       "      <th></th>\n",
       "      <th>GDP</th>\n",
       "      <th>Surface Area</th>\n",
       "      <th>Continent</th>\n",
       "    </tr>\n",
       "  </thead>\n",
       "  <tbody>\n",
       "    <tr>\n",
       "      <th>Canada</th>\n",
       "      <td>1785387</td>\n",
       "      <td>9984670</td>\n",
       "      <td>America</td>\n",
       "    </tr>\n",
       "    <tr>\n",
       "      <th>France</th>\n",
       "      <td>2833687</td>\n",
       "      <td>640679</td>\n",
       "      <td>Europe</td>\n",
       "    </tr>\n",
       "    <tr>\n",
       "      <th>Germany</th>\n",
       "      <td>3874437</td>\n",
       "      <td>357114</td>\n",
       "      <td>Europe</td>\n",
       "    </tr>\n",
       "    <tr>\n",
       "      <th>Italy</th>\n",
       "      <td>2167744</td>\n",
       "      <td>301336</td>\n",
       "      <td>Europe</td>\n",
       "    </tr>\n",
       "    <tr>\n",
       "      <th>Japan</th>\n",
       "      <td>4602367</td>\n",
       "      <td>377930</td>\n",
       "      <td>Asia</td>\n",
       "    </tr>\n",
       "    <tr>\n",
       "      <th>United Kingdom</th>\n",
       "      <td>2950039</td>\n",
       "      <td>242495</td>\n",
       "      <td>Europe</td>\n",
       "    </tr>\n",
       "    <tr>\n",
       "      <th>United States</th>\n",
       "      <td>17348075</td>\n",
       "      <td>9525067</td>\n",
       "      <td>America</td>\n",
       "    </tr>\n",
       "  </tbody>\n",
       "</table>\n",
       "</div>"
      ],
      "text/plain": [
       "                     GDP  Surface Area Continent\n",
       "Canada           1785387       9984670   America\n",
       "France           2833687        640679    Europe\n",
       "Germany          3874437        357114    Europe\n",
       "Italy            2167744        301336    Europe\n",
       "Japan            4602367        377930      Asia\n",
       "United Kingdom   2950039        242495    Europe\n",
       "United States   17348075       9525067   America"
      ]
     },
     "metadata": {},
     "output_type": "display_data"
    }
   ],
   "source": [
    "df.drop(columns=[\"Population\", \"HDI\"])"
   ]
  },
  {
   "cell_type": "code",
   "execution_count": null,
   "metadata": {
    "execution": {
     "iopub.execute_input": "2023-02-02T06:09:45.116319Z",
     "iopub.status.busy": "2023-02-02T06:09:45.115868Z",
     "iopub.status.idle": "2023-02-02T06:09:45.130728Z",
     "shell.execute_reply": "2023-02-02T06:09:45.129628Z",
     "shell.execute_reply.started": "2023-02-02T06:09:45.116285Z"
    },
    "trusted": true
   },
   "outputs": [
    {
     "data": {
      "text/html": [
       "<div>\n",
       "<style scoped>\n",
       "    .dataframe tbody tr th:only-of-type {\n",
       "        vertical-align: middle;\n",
       "    }\n",
       "\n",
       "    .dataframe tbody tr th {\n",
       "        vertical-align: top;\n",
       "    }\n",
       "\n",
       "    .dataframe thead th {\n",
       "        text-align: right;\n",
       "    }\n",
       "</style>\n",
       "<table border=\"1\" class=\"dataframe\">\n",
       "  <thead>\n",
       "    <tr style=\"text-align: right;\">\n",
       "      <th></th>\n",
       "      <th>Population</th>\n",
       "      <th>GDP</th>\n",
       "      <th>Surface Area</th>\n",
       "      <th>HDI</th>\n",
       "      <th>Continent</th>\n",
       "    </tr>\n",
       "  </thead>\n",
       "  <tbody>\n",
       "    <tr>\n",
       "      <th>France</th>\n",
       "      <td>63.951</td>\n",
       "      <td>2833687</td>\n",
       "      <td>640679</td>\n",
       "      <td>0.888</td>\n",
       "      <td>Europe</td>\n",
       "    </tr>\n",
       "    <tr>\n",
       "      <th>Germany</th>\n",
       "      <td>80.940</td>\n",
       "      <td>3874437</td>\n",
       "      <td>357114</td>\n",
       "      <td>0.916</td>\n",
       "      <td>Europe</td>\n",
       "    </tr>\n",
       "    <tr>\n",
       "      <th>Italy</th>\n",
       "      <td>60.665</td>\n",
       "      <td>2167744</td>\n",
       "      <td>301336</td>\n",
       "      <td>0.873</td>\n",
       "      <td>Europe</td>\n",
       "    </tr>\n",
       "    <tr>\n",
       "      <th>Japan</th>\n",
       "      <td>127.061</td>\n",
       "      <td>4602367</td>\n",
       "      <td>377930</td>\n",
       "      <td>0.891</td>\n",
       "      <td>Asia</td>\n",
       "    </tr>\n",
       "    <tr>\n",
       "      <th>United Kingdom</th>\n",
       "      <td>64.511</td>\n",
       "      <td>2950039</td>\n",
       "      <td>242495</td>\n",
       "      <td>0.907</td>\n",
       "      <td>Europe</td>\n",
       "    </tr>\n",
       "    <tr>\n",
       "      <th>United States</th>\n",
       "      <td>318.523</td>\n",
       "      <td>17348075</td>\n",
       "      <td>9525067</td>\n",
       "      <td>0.915</td>\n",
       "      <td>America</td>\n",
       "    </tr>\n",
       "  </tbody>\n",
       "</table>\n",
       "</div>"
      ],
      "text/plain": [
       "                Population       GDP  Surface Area    HDI Continent\n",
       "France              63.951   2833687        640679  0.888    Europe\n",
       "Germany             80.940   3874437        357114  0.916    Europe\n",
       "Italy               60.665   2167744        301336  0.873    Europe\n",
       "Japan              127.061   4602367        377930  0.891      Asia\n",
       "United Kingdom      64.511   2950039        242495  0.907    Europe\n",
       "United States      318.523  17348075       9525067  0.915   America"
      ]
     },
     "metadata": {},
     "output_type": "display_data"
    }
   ],
   "source": [
    "df.drop([\"Canada\"], axis=\"rows\")"
   ]
  },
  {
   "cell_type": "code",
   "execution_count": null,
   "metadata": {
    "execution": {
     "iopub.execute_input": "2023-02-02T06:09:45.881510Z",
     "iopub.status.busy": "2023-02-02T06:09:45.880772Z",
     "iopub.status.idle": "2023-02-02T06:09:45.895410Z",
     "shell.execute_reply": "2023-02-02T06:09:45.894369Z",
     "shell.execute_reply.started": "2023-02-02T06:09:45.881461Z"
    },
    "trusted": true
   },
   "outputs": [
    {
     "data": {
      "text/html": [
       "<div>\n",
       "<style scoped>\n",
       "    .dataframe tbody tr th:only-of-type {\n",
       "        vertical-align: middle;\n",
       "    }\n",
       "\n",
       "    .dataframe tbody tr th {\n",
       "        vertical-align: top;\n",
       "    }\n",
       "\n",
       "    .dataframe thead th {\n",
       "        text-align: right;\n",
       "    }\n",
       "</style>\n",
       "<table border=\"1\" class=\"dataframe\">\n",
       "  <thead>\n",
       "    <tr style=\"text-align: right;\">\n",
       "      <th></th>\n",
       "      <th>Population</th>\n",
       "      <th>GDP</th>\n",
       "      <th>Surface Area</th>\n",
       "      <th>HDI</th>\n",
       "      <th>Continent</th>\n",
       "    </tr>\n",
       "  </thead>\n",
       "  <tbody>\n",
       "    <tr>\n",
       "      <th>France</th>\n",
       "      <td>63.951</td>\n",
       "      <td>2833687</td>\n",
       "      <td>640679</td>\n",
       "      <td>0.888</td>\n",
       "      <td>Europe</td>\n",
       "    </tr>\n",
       "    <tr>\n",
       "      <th>Germany</th>\n",
       "      <td>80.940</td>\n",
       "      <td>3874437</td>\n",
       "      <td>357114</td>\n",
       "      <td>0.916</td>\n",
       "      <td>Europe</td>\n",
       "    </tr>\n",
       "    <tr>\n",
       "      <th>Italy</th>\n",
       "      <td>60.665</td>\n",
       "      <td>2167744</td>\n",
       "      <td>301336</td>\n",
       "      <td>0.873</td>\n",
       "      <td>Europe</td>\n",
       "    </tr>\n",
       "    <tr>\n",
       "      <th>Japan</th>\n",
       "      <td>127.061</td>\n",
       "      <td>4602367</td>\n",
       "      <td>377930</td>\n",
       "      <td>0.891</td>\n",
       "      <td>Asia</td>\n",
       "    </tr>\n",
       "    <tr>\n",
       "      <th>United Kingdom</th>\n",
       "      <td>64.511</td>\n",
       "      <td>2950039</td>\n",
       "      <td>242495</td>\n",
       "      <td>0.907</td>\n",
       "      <td>Europe</td>\n",
       "    </tr>\n",
       "    <tr>\n",
       "      <th>United States</th>\n",
       "      <td>318.523</td>\n",
       "      <td>17348075</td>\n",
       "      <td>9525067</td>\n",
       "      <td>0.915</td>\n",
       "      <td>America</td>\n",
       "    </tr>\n",
       "  </tbody>\n",
       "</table>\n",
       "</div>"
      ],
      "text/plain": [
       "                Population       GDP  Surface Area    HDI Continent\n",
       "France              63.951   2833687        640679  0.888    Europe\n",
       "Germany             80.940   3874437        357114  0.916    Europe\n",
       "Italy               60.665   2167744        301336  0.873    Europe\n",
       "Japan              127.061   4602367        377930  0.891      Asia\n",
       "United Kingdom      64.511   2950039        242495  0.907    Europe\n",
       "United States      318.523  17348075       9525067  0.915   America"
      ]
     },
     "metadata": {},
     "output_type": "display_data"
    }
   ],
   "source": [
    "df.drop([\"Canada\"], axis=0)"
   ]
  },
  {
   "cell_type": "code",
   "execution_count": null,
   "metadata": {
    "execution": {
     "iopub.execute_input": "2023-02-02T06:09:46.602219Z",
     "iopub.status.busy": "2023-02-02T06:09:46.601173Z",
     "iopub.status.idle": "2023-02-02T06:09:46.615499Z",
     "shell.execute_reply": "2023-02-02T06:09:46.614471Z",
     "shell.execute_reply.started": "2023-02-02T06:09:46.602161Z"
    },
    "trusted": true
   },
   "outputs": [
    {
     "data": {
      "text/html": [
       "<div>\n",
       "<style scoped>\n",
       "    .dataframe tbody tr th:only-of-type {\n",
       "        vertical-align: middle;\n",
       "    }\n",
       "\n",
       "    .dataframe tbody tr th {\n",
       "        vertical-align: top;\n",
       "    }\n",
       "\n",
       "    .dataframe thead th {\n",
       "        text-align: right;\n",
       "    }\n",
       "</style>\n",
       "<table border=\"1\" class=\"dataframe\">\n",
       "  <thead>\n",
       "    <tr style=\"text-align: right;\">\n",
       "      <th></th>\n",
       "      <th>Population</th>\n",
       "      <th>GDP</th>\n",
       "    </tr>\n",
       "  </thead>\n",
       "  <tbody>\n",
       "    <tr>\n",
       "      <th>Canada</th>\n",
       "      <td>0.35467</td>\n",
       "      <td>17853.87</td>\n",
       "    </tr>\n",
       "    <tr>\n",
       "      <th>France</th>\n",
       "      <td>0.63951</td>\n",
       "      <td>28336.87</td>\n",
       "    </tr>\n",
       "    <tr>\n",
       "      <th>Germany</th>\n",
       "      <td>0.80940</td>\n",
       "      <td>38744.37</td>\n",
       "    </tr>\n",
       "    <tr>\n",
       "      <th>Italy</th>\n",
       "      <td>0.60665</td>\n",
       "      <td>21677.44</td>\n",
       "    </tr>\n",
       "    <tr>\n",
       "      <th>Japan</th>\n",
       "      <td>1.27061</td>\n",
       "      <td>46023.67</td>\n",
       "    </tr>\n",
       "    <tr>\n",
       "      <th>United Kingdom</th>\n",
       "      <td>0.64511</td>\n",
       "      <td>29500.39</td>\n",
       "    </tr>\n",
       "    <tr>\n",
       "      <th>United States</th>\n",
       "      <td>3.18523</td>\n",
       "      <td>173480.75</td>\n",
       "    </tr>\n",
       "  </tbody>\n",
       "</table>\n",
       "</div>"
      ],
      "text/plain": [
       "                Population        GDP\n",
       "Canada             0.35467   17853.87\n",
       "France             0.63951   28336.87\n",
       "Germany            0.80940   38744.37\n",
       "Italy              0.60665   21677.44\n",
       "Japan              1.27061   46023.67\n",
       "United Kingdom     0.64511   29500.39\n",
       "United States      3.18523  173480.75"
      ]
     },
     "metadata": {},
     "output_type": "display_data"
    }
   ],
   "source": [
    "df[['Population', 'GDP']] / 100"
   ]
  },
  {
   "cell_type": "code",
   "execution_count": null,
   "metadata": {
    "execution": {
     "iopub.execute_input": "2023-02-02T06:09:47.481608Z",
     "iopub.status.busy": "2023-02-02T06:09:47.480760Z",
     "iopub.status.idle": "2023-02-02T06:09:47.489894Z",
     "shell.execute_reply": "2023-02-02T06:09:47.488955Z",
     "shell.execute_reply.started": "2023-02-02T06:09:47.481566Z"
    },
    "trusted": true
   },
   "outputs": [
    {
     "data": {
      "text/plain": [
       "GDP   -1000000.0\n",
       "HDI         -0.3\n",
       "dtype: float64"
      ]
     },
     "metadata": {},
     "output_type": "display_data"
    }
   ],
   "source": [
    "crisis = pd.Series([-1_000_000, -0.3], index=['GDP', 'HDI'])\n",
    "crisis"
   ]
  },
  {
   "cell_type": "code",
   "execution_count": null,
   "metadata": {
    "execution": {
     "iopub.execute_input": "2023-02-02T06:09:48.281357Z",
     "iopub.status.busy": "2023-02-02T06:09:48.280926Z",
     "iopub.status.idle": "2023-02-02T06:09:48.293123Z",
     "shell.execute_reply": "2023-02-02T06:09:48.292054Z",
     "shell.execute_reply.started": "2023-02-02T06:09:48.281325Z"
    },
    "trusted": true
   },
   "outputs": [
    {
     "data": {
      "text/html": [
       "<div>\n",
       "<style scoped>\n",
       "    .dataframe tbody tr th:only-of-type {\n",
       "        vertical-align: middle;\n",
       "    }\n",
       "\n",
       "    .dataframe tbody tr th {\n",
       "        vertical-align: top;\n",
       "    }\n",
       "\n",
       "    .dataframe thead th {\n",
       "        text-align: right;\n",
       "    }\n",
       "</style>\n",
       "<table border=\"1\" class=\"dataframe\">\n",
       "  <thead>\n",
       "    <tr style=\"text-align: right;\">\n",
       "      <th></th>\n",
       "      <th>GDP</th>\n",
       "      <th>HDI</th>\n",
       "    </tr>\n",
       "  </thead>\n",
       "  <tbody>\n",
       "    <tr>\n",
       "      <th>Canada</th>\n",
       "      <td>1785387</td>\n",
       "      <td>0.913</td>\n",
       "    </tr>\n",
       "    <tr>\n",
       "      <th>France</th>\n",
       "      <td>2833687</td>\n",
       "      <td>0.888</td>\n",
       "    </tr>\n",
       "    <tr>\n",
       "      <th>Germany</th>\n",
       "      <td>3874437</td>\n",
       "      <td>0.916</td>\n",
       "    </tr>\n",
       "    <tr>\n",
       "      <th>Italy</th>\n",
       "      <td>2167744</td>\n",
       "      <td>0.873</td>\n",
       "    </tr>\n",
       "    <tr>\n",
       "      <th>Japan</th>\n",
       "      <td>4602367</td>\n",
       "      <td>0.891</td>\n",
       "    </tr>\n",
       "    <tr>\n",
       "      <th>United Kingdom</th>\n",
       "      <td>2950039</td>\n",
       "      <td>0.907</td>\n",
       "    </tr>\n",
       "    <tr>\n",
       "      <th>United States</th>\n",
       "      <td>17348075</td>\n",
       "      <td>0.915</td>\n",
       "    </tr>\n",
       "  </tbody>\n",
       "</table>\n",
       "</div>"
      ],
      "text/plain": [
       "                     GDP    HDI\n",
       "Canada           1785387  0.913\n",
       "France           2833687  0.888\n",
       "Germany          3874437  0.916\n",
       "Italy            2167744  0.873\n",
       "Japan            4602367  0.891\n",
       "United Kingdom   2950039  0.907\n",
       "United States   17348075  0.915"
      ]
     },
     "metadata": {},
     "output_type": "display_data"
    }
   ],
   "source": [
    "df[['GDP', 'HDI']]"
   ]
  },
  {
   "cell_type": "code",
   "execution_count": null,
   "metadata": {
    "execution": {
     "iopub.execute_input": "2023-02-02T06:09:49.606347Z",
     "iopub.status.busy": "2023-02-02T06:09:49.605929Z",
     "iopub.status.idle": "2023-02-02T06:09:49.619382Z",
     "shell.execute_reply": "2023-02-02T06:09:49.618462Z",
     "shell.execute_reply.started": "2023-02-02T06:09:49.606313Z"
    },
    "trusted": true
   },
   "outputs": [
    {
     "data": {
      "text/html": [
       "<div>\n",
       "<style scoped>\n",
       "    .dataframe tbody tr th:only-of-type {\n",
       "        vertical-align: middle;\n",
       "    }\n",
       "\n",
       "    .dataframe tbody tr th {\n",
       "        vertical-align: top;\n",
       "    }\n",
       "\n",
       "    .dataframe thead th {\n",
       "        text-align: right;\n",
       "    }\n",
       "</style>\n",
       "<table border=\"1\" class=\"dataframe\">\n",
       "  <thead>\n",
       "    <tr style=\"text-align: right;\">\n",
       "      <th></th>\n",
       "      <th>GDP</th>\n",
       "      <th>HDI</th>\n",
       "    </tr>\n",
       "  </thead>\n",
       "  <tbody>\n",
       "    <tr>\n",
       "      <th>Canada</th>\n",
       "      <td>785387.0</td>\n",
       "      <td>0.613</td>\n",
       "    </tr>\n",
       "    <tr>\n",
       "      <th>France</th>\n",
       "      <td>1833687.0</td>\n",
       "      <td>0.588</td>\n",
       "    </tr>\n",
       "    <tr>\n",
       "      <th>Germany</th>\n",
       "      <td>2874437.0</td>\n",
       "      <td>0.616</td>\n",
       "    </tr>\n",
       "    <tr>\n",
       "      <th>Italy</th>\n",
       "      <td>1167744.0</td>\n",
       "      <td>0.573</td>\n",
       "    </tr>\n",
       "    <tr>\n",
       "      <th>Japan</th>\n",
       "      <td>3602367.0</td>\n",
       "      <td>0.591</td>\n",
       "    </tr>\n",
       "    <tr>\n",
       "      <th>United Kingdom</th>\n",
       "      <td>1950039.0</td>\n",
       "      <td>0.607</td>\n",
       "    </tr>\n",
       "    <tr>\n",
       "      <th>United States</th>\n",
       "      <td>16348075.0</td>\n",
       "      <td>0.615</td>\n",
       "    </tr>\n",
       "  </tbody>\n",
       "</table>\n",
       "</div>"
      ],
      "text/plain": [
       "                       GDP    HDI\n",
       "Canada            785387.0  0.613\n",
       "France           1833687.0  0.588\n",
       "Germany          2874437.0  0.616\n",
       "Italy            1167744.0  0.573\n",
       "Japan            3602367.0  0.591\n",
       "United Kingdom   1950039.0  0.607\n",
       "United States   16348075.0  0.615"
      ]
     },
     "metadata": {},
     "output_type": "display_data"
    }
   ],
   "source": [
    "df[['GDP', 'HDI']] + crisis"
   ]
  },
  {
   "cell_type": "code",
   "execution_count": null,
   "metadata": {
    "execution": {
     "iopub.execute_input": "2022-06-29T00:49:59.105035Z",
     "iopub.status.busy": "2022-06-29T00:49:59.104305Z",
     "iopub.status.idle": "2022-06-29T00:49:59.110758Z",
     "shell.execute_reply": "2022-06-29T00:49:59.109877Z",
     "shell.execute_reply.started": "2022-06-29T00:49:59.104989Z"
    },
    "trusted": true
   },
   "outputs": [],
   "source": [
    "lang = pd.Series([\"Frech\", \"German\", \"Italian\"],\n",
    "                index=[\"France\",\"Germany\",\"Italy\"],\n",
    "                name = \"L\")"
   ]
  },
  {
   "cell_type": "code",
   "execution_count": null,
   "metadata": {
    "execution": {
     "iopub.execute_input": "2022-06-29T00:49:59.112886Z",
     "iopub.status.busy": "2022-06-29T00:49:59.112261Z",
     "iopub.status.idle": "2022-06-29T00:49:59.126728Z",
     "shell.execute_reply": "2022-06-29T00:49:59.125787Z",
     "shell.execute_reply.started": "2022-06-29T00:49:59.112819Z"
    },
    "trusted": true
   },
   "outputs": [],
   "source": [
    "lang"
   ]
  },
  {
   "cell_type": "code",
   "execution_count": null,
   "metadata": {
    "execution": {
     "iopub.execute_input": "2022-06-29T00:49:59.128474Z",
     "iopub.status.busy": "2022-06-29T00:49:59.128166Z",
     "iopub.status.idle": "2022-06-29T00:49:59.136307Z",
     "shell.execute_reply": "2022-06-29T00:49:59.135658Z",
     "shell.execute_reply.started": "2022-06-29T00:49:59.128447Z"
    },
    "trusted": true
   },
   "outputs": [],
   "source": [
    "df[\"Languages\"] = lang"
   ]
  },
  {
   "cell_type": "code",
   "execution_count": null,
   "metadata": {
    "execution": {
     "iopub.execute_input": "2022-06-29T00:49:59.137782Z",
     "iopub.status.busy": "2022-06-29T00:49:59.137177Z",
     "iopub.status.idle": "2022-06-29T00:49:59.156434Z",
     "shell.execute_reply": "2022-06-29T00:49:59.155383Z",
     "shell.execute_reply.started": "2022-06-29T00:49:59.137749Z"
    },
    "trusted": true
   },
   "outputs": [],
   "source": [
    "df"
   ]
  },
  {
   "cell_type": "code",
   "execution_count": null,
   "metadata": {
    "execution": {
     "iopub.execute_input": "2022-06-29T00:49:59.158218Z",
     "iopub.status.busy": "2022-06-29T00:49:59.157387Z",
     "iopub.status.idle": "2022-06-29T00:49:59.177957Z",
     "shell.execute_reply": "2022-06-29T00:49:59.177196Z",
     "shell.execute_reply.started": "2022-06-29T00:49:59.158183Z"
    },
    "trusted": true
   },
   "outputs": [],
   "source": [
    "df.rename(\n",
    "    columns={\n",
    "        'HDI': 'Human Development Index',\n",
    "        'Anual Popcorn Consumption': 'APC'\n",
    "    }, index={\n",
    "        'United States': 'USA',\n",
    "        'United Kingdom': 'UK',\n",
    "        'Argentina': 'AR'\n",
    "    })\n",
    "#Here Argentina is not in df, still it won't give an error. Will just change all the names who matches to df"
   ]
  },
  {
   "cell_type": "code",
   "execution_count": null,
   "metadata": {
    "execution": {
     "iopub.execute_input": "2022-06-29T00:49:59.179602Z",
     "iopub.status.busy": "2022-06-29T00:49:59.178966Z",
     "iopub.status.idle": "2022-06-29T00:49:59.205521Z",
     "shell.execute_reply": "2022-06-29T00:49:59.204609Z",
     "shell.execute_reply.started": "2022-06-29T00:49:59.179565Z"
    },
    "trusted": true
   },
   "outputs": [],
   "source": [
    "df.rename(index=str.upper)"
   ]
  },
  {
   "cell_type": "code",
   "execution_count": null,
   "metadata": {
    "execution": {
     "iopub.execute_input": "2022-06-29T00:49:59.206934Z",
     "iopub.status.busy": "2022-06-29T00:49:59.206598Z",
     "iopub.status.idle": "2022-06-29T00:49:59.221726Z",
     "shell.execute_reply": "2022-06-29T00:49:59.220749Z",
     "shell.execute_reply.started": "2022-06-29T00:49:59.206900Z"
    },
    "trusted": true
   },
   "outputs": [],
   "source": [
    "df.rename(index=lambda x: x.lower())"
   ]
  },
  {
   "cell_type": "code",
   "execution_count": null,
   "metadata": {
    "execution": {
     "iopub.execute_input": "2022-06-29T00:49:59.223427Z",
     "iopub.status.busy": "2022-06-29T00:49:59.223124Z",
     "iopub.status.idle": "2022-06-29T00:49:59.228722Z",
     "shell.execute_reply": "2022-06-29T00:49:59.227734Z",
     "shell.execute_reply.started": "2022-06-29T00:49:59.223399Z"
    },
    "trusted": true
   },
   "outputs": [],
   "source": [
    "df.drop(columns='Languages', inplace=True)\n"
   ]
  },
  {
   "cell_type": "code",
   "execution_count": null,
   "metadata": {
    "execution": {
     "iopub.execute_input": "2022-06-29T00:49:59.230213Z",
     "iopub.status.busy": "2022-06-29T00:49:59.229899Z",
     "iopub.status.idle": "2022-06-29T00:49:59.254216Z",
     "shell.execute_reply": "2022-06-29T00:49:59.253511Z",
     "shell.execute_reply.started": "2022-06-29T00:49:59.230182Z"
    },
    "trusted": true
   },
   "outputs": [],
   "source": [
    "df.append(pd.Series({\n",
    "    'Population': 3,\n",
    "    'GDP': 5\n",
    "}, name='China'))"
   ]
  },
  {
   "cell_type": "code",
   "execution_count": null,
   "metadata": {
    "execution": {
     "iopub.execute_input": "2022-06-29T00:49:59.255678Z",
     "iopub.status.busy": "2022-06-29T00:49:59.255079Z",
     "iopub.status.idle": "2022-06-29T00:49:59.274246Z",
     "shell.execute_reply": "2022-06-29T00:49:59.273108Z",
     "shell.execute_reply.started": "2022-06-29T00:49:59.255648Z"
    },
    "trusted": true
   },
   "outputs": [],
   "source": [
    "df"
   ]
  },
  {
   "cell_type": "code",
   "execution_count": null,
   "metadata": {
    "execution": {
     "iopub.execute_input": "2022-06-29T00:49:59.276026Z",
     "iopub.status.busy": "2022-06-29T00:49:59.275230Z",
     "iopub.status.idle": "2022-06-29T00:49:59.284800Z",
     "shell.execute_reply": "2022-06-29T00:49:59.283836Z",
     "shell.execute_reply.started": "2022-06-29T00:49:59.275992Z"
    },
    "trusted": true
   },
   "outputs": [],
   "source": [
    "df.loc['China'] = pd.Series({'Population': 1_400_000_000, 'Continent': 'Asia'})"
   ]
  },
  {
   "cell_type": "code",
   "execution_count": null,
   "metadata": {
    "execution": {
     "iopub.execute_input": "2022-06-29T00:49:59.286513Z",
     "iopub.status.busy": "2022-06-29T00:49:59.285825Z",
     "iopub.status.idle": "2022-06-29T00:49:59.304319Z",
     "shell.execute_reply": "2022-06-29T00:49:59.303664Z",
     "shell.execute_reply.started": "2022-06-29T00:49:59.286483Z"
    },
    "trusted": true
   },
   "outputs": [],
   "source": [
    "df"
   ]
  },
  {
   "cell_type": "code",
   "execution_count": null,
   "metadata": {
    "execution": {
     "iopub.execute_input": "2022-06-29T00:49:59.305778Z",
     "iopub.status.busy": "2022-06-29T00:49:59.305361Z",
     "iopub.status.idle": "2022-06-29T00:49:59.310518Z",
     "shell.execute_reply": "2022-06-29T00:49:59.309637Z",
     "shell.execute_reply.started": "2022-06-29T00:49:59.305749Z"
    },
    "trusted": true
   },
   "outputs": [],
   "source": [
    "df.drop('China', inplace=True)"
   ]
  },
  {
   "cell_type": "code",
   "execution_count": null,
   "metadata": {
    "execution": {
     "iopub.execute_input": "2022-06-29T00:49:59.312902Z",
     "iopub.status.busy": "2022-06-29T00:49:59.312105Z",
     "iopub.status.idle": "2022-06-29T00:49:59.334152Z",
     "shell.execute_reply": "2022-06-29T00:49:59.333339Z",
     "shell.execute_reply.started": "2022-06-29T00:49:59.312841Z"
    },
    "trusted": true
   },
   "outputs": [],
   "source": [
    "df.reset_index()\n"
   ]
  },
  {
   "cell_type": "code",
   "execution_count": null,
   "metadata": {
    "execution": {
     "iopub.execute_input": "2022-06-29T00:49:59.335955Z",
     "iopub.status.busy": "2022-06-29T00:49:59.335181Z",
     "iopub.status.idle": "2022-06-29T00:49:59.356476Z",
     "shell.execute_reply": "2022-06-29T00:49:59.355411Z",
     "shell.execute_reply.started": "2022-06-29T00:49:59.335920Z"
    },
    "trusted": true
   },
   "outputs": [],
   "source": [
    "df.set_index('Population')"
   ]
  },
  {
   "cell_type": "code",
   "execution_count": null,
   "metadata": {
    "execution": {
     "iopub.execute_input": "2022-06-29T00:49:59.359351Z",
     "iopub.status.busy": "2022-06-29T00:49:59.358887Z",
     "iopub.status.idle": "2022-06-29T00:49:59.380451Z",
     "shell.execute_reply": "2022-06-29T00:49:59.379446Z",
     "shell.execute_reply.started": "2022-06-29T00:49:59.359318Z"
    },
    "trusted": true
   },
   "outputs": [],
   "source": [
    "df['GDP Per Capita'] = df['GDP'] / df['Population']\n",
    "df"
   ]
  },
  {
   "cell_type": "code",
   "execution_count": null,
   "metadata": {
    "execution": {
     "iopub.execute_input": "2022-06-29T00:49:59.387379Z",
     "iopub.status.busy": "2022-06-29T00:49:59.386630Z",
     "iopub.status.idle": "2022-06-29T00:49:59.393151Z",
     "shell.execute_reply": "2022-06-29T00:49:59.392329Z",
     "shell.execute_reply.started": "2022-06-29T00:49:59.387343Z"
    },
    "trusted": true
   },
   "outputs": [],
   "source": [
    "population = df[\"Population\"]\n",
    "population.min(), population.max()"
   ]
  },
  {
   "cell_type": "code",
   "execution_count": null,
   "metadata": {
    "execution": {
     "iopub.execute_input": "2022-06-29T00:49:59.395175Z",
     "iopub.status.busy": "2022-06-29T00:49:59.394361Z",
     "iopub.status.idle": "2022-06-29T00:49:59.407256Z",
     "shell.execute_reply": "2022-06-29T00:49:59.406385Z",
     "shell.execute_reply.started": "2022-06-29T00:49:59.395139Z"
    },
    "trusted": true
   },
   "outputs": [],
   "source": [
    "population.sum()"
   ]
  },
  {
   "cell_type": "code",
   "execution_count": null,
   "metadata": {
    "execution": {
     "iopub.execute_input": "2022-06-29T00:49:59.409110Z",
     "iopub.status.busy": "2022-06-29T00:49:59.408281Z",
     "iopub.status.idle": "2022-06-29T00:49:59.419592Z",
     "shell.execute_reply": "2022-06-29T00:49:59.418843Z",
     "shell.execute_reply.started": "2022-06-29T00:49:59.409077Z"
    },
    "trusted": true
   },
   "outputs": [],
   "source": [
    "population.sum() / len(population)"
   ]
  },
  {
   "cell_type": "code",
   "execution_count": null,
   "metadata": {
    "execution": {
     "iopub.execute_input": "2022-06-29T00:49:59.421497Z",
     "iopub.status.busy": "2022-06-29T00:49:59.420633Z",
     "iopub.status.idle": "2022-06-29T00:49:59.432739Z",
     "shell.execute_reply": "2022-06-29T00:49:59.431923Z",
     "shell.execute_reply.started": "2022-06-29T00:49:59.421464Z"
    },
    "trusted": true
   },
   "outputs": [],
   "source": [
    "population.mean()"
   ]
  },
  {
   "cell_type": "code",
   "execution_count": null,
   "metadata": {
    "execution": {
     "iopub.execute_input": "2022-06-29T00:49:59.434761Z",
     "iopub.status.busy": "2022-06-29T00:49:59.433905Z",
     "iopub.status.idle": "2022-06-29T00:49:59.449731Z",
     "shell.execute_reply": "2022-06-29T00:49:59.449014Z",
     "shell.execute_reply.started": "2022-06-29T00:49:59.434725Z"
    },
    "trusted": true
   },
   "outputs": [],
   "source": [
    "population.std()\n",
    "population.median()\n",
    "population.describe()"
   ]
  },
  {
   "cell_type": "code",
   "execution_count": null,
   "metadata": {
    "execution": {
     "iopub.execute_input": "2022-06-29T00:49:59.451397Z",
     "iopub.status.busy": "2022-06-29T00:49:59.450730Z",
     "iopub.status.idle": "2022-06-29T00:49:59.464597Z",
     "shell.execute_reply": "2022-06-29T00:49:59.463805Z",
     "shell.execute_reply.started": "2022-06-29T00:49:59.451360Z"
    },
    "trusted": true
   },
   "outputs": [],
   "source": [
    "population.quantile(.25)"
   ]
  },
  {
   "cell_type": "code",
   "execution_count": null,
   "metadata": {
    "execution": {
     "iopub.execute_input": "2022-06-29T00:49:59.466479Z",
     "iopub.status.busy": "2022-06-29T00:49:59.465923Z",
     "iopub.status.idle": "2022-06-29T00:49:59.481962Z",
     "shell.execute_reply": "2022-06-29T00:49:59.480619Z",
     "shell.execute_reply.started": "2022-06-29T00:49:59.466430Z"
    },
    "trusted": true
   },
   "outputs": [],
   "source": [
    "population.quantile([.2, .4, .6, .8, 1])"
   ]
  },
  {
   "cell_type": "code",
   "execution_count": null,
   "metadata": {
    "execution": {
     "iopub.execute_input": "2022-06-29T00:49:59.484109Z",
     "iopub.status.busy": "2022-06-29T00:49:59.483536Z",
     "iopub.status.idle": "2022-06-29T00:49:59.492753Z",
     "shell.execute_reply": "2022-06-29T00:49:59.491838Z",
     "shell.execute_reply.started": "2022-06-29T00:49:59.484063Z"
    },
    "trusted": true
   },
   "outputs": [],
   "source": [
    "#Now we will see how to use readymade datasets and matplotlib\n",
    "import matplotlib.pyplot as plt"
   ]
  },
  {
   "cell_type": "code",
   "execution_count": null,
   "metadata": {
    "execution": {
     "iopub.execute_input": "2022-06-29T00:49:59.494310Z",
     "iopub.status.busy": "2022-06-29T00:49:59.494010Z",
     "iopub.status.idle": "2022-06-29T00:49:59.521381Z",
     "shell.execute_reply": "2022-06-29T00:49:59.520368Z",
     "shell.execute_reply.started": "2022-06-29T00:49:59.494282Z"
    },
    "trusted": true
   },
   "outputs": [],
   "source": [
    "df = pd.read_csv(\"../input/btc-10-years-price-data-20122021/BTC 2012-2021.csv\")\n",
    "#Header= can be used to assign header if not exist by default"
   ]
  },
  {
   "cell_type": "code",
   "execution_count": null,
   "metadata": {
    "execution": {
     "iopub.execute_input": "2022-06-29T00:49:59.522922Z",
     "iopub.status.busy": "2022-06-29T00:49:59.522547Z",
     "iopub.status.idle": "2022-06-29T00:49:59.538045Z",
     "shell.execute_reply": "2022-06-29T00:49:59.537083Z",
     "shell.execute_reply.started": "2022-06-29T00:49:59.522888Z"
    },
    "trusted": true
   },
   "outputs": [],
   "source": [
    "df.head()"
   ]
  },
  {
   "cell_type": "code",
   "execution_count": null,
   "metadata": {
    "execution": {
     "iopub.execute_input": "2022-06-29T00:49:59.539761Z",
     "iopub.status.busy": "2022-06-29T00:49:59.539121Z",
     "iopub.status.idle": "2022-06-29T00:49:59.550697Z",
     "shell.execute_reply": "2022-06-29T00:49:59.549976Z",
     "shell.execute_reply.started": "2022-06-29T00:49:59.539726Z"
    },
    "trusted": true
   },
   "outputs": [],
   "source": [
    "df.shape"
   ]
  },
  {
   "cell_type": "code",
   "execution_count": null,
   "metadata": {
    "execution": {
     "iopub.execute_input": "2022-06-29T00:49:59.552708Z",
     "iopub.status.busy": "2022-06-29T00:49:59.551757Z",
     "iopub.status.idle": "2022-06-29T00:49:59.577640Z",
     "shell.execute_reply": "2022-06-29T00:49:59.576686Z",
     "shell.execute_reply.started": "2022-06-29T00:49:59.552672Z"
    },
    "trusted": true
   },
   "outputs": [],
   "source": [
    "df.tail()"
   ]
  },
  {
   "cell_type": "code",
   "execution_count": null,
   "metadata": {
    "execution": {
     "iopub.execute_input": "2022-06-29T00:49:59.579382Z",
     "iopub.status.busy": "2022-06-29T00:49:59.578930Z",
     "iopub.status.idle": "2022-06-29T00:49:59.587162Z",
     "shell.execute_reply": "2022-06-29T00:49:59.586136Z",
     "shell.execute_reply.started": "2022-06-29T00:49:59.579346Z"
    },
    "trusted": true
   },
   "outputs": [],
   "source": [
    "df.dtypes"
   ]
  },
  {
   "cell_type": "code",
   "execution_count": null,
   "metadata": {
    "execution": {
     "iopub.execute_input": "2022-06-29T00:49:59.588806Z",
     "iopub.status.busy": "2022-06-29T00:49:59.588489Z",
     "iopub.status.idle": "2022-06-29T00:49:59.616440Z",
     "shell.execute_reply": "2022-06-29T00:49:59.615768Z",
     "shell.execute_reply.started": "2022-06-29T00:49:59.588779Z"
    },
    "trusted": true
   },
   "outputs": [],
   "source": [
    "df.rename(columns = {\"Date\":\"Timestamp\"}, inplace=True)\n",
    "df"
   ]
  },
  {
   "cell_type": "code",
   "execution_count": null,
   "metadata": {
    "execution": {
     "iopub.execute_input": "2022-06-29T00:49:59.617824Z",
     "iopub.status.busy": "2022-06-29T00:49:59.617360Z",
     "iopub.status.idle": "2022-06-29T00:49:59.632813Z",
     "shell.execute_reply": "2022-06-29T00:49:59.631932Z",
     "shell.execute_reply.started": "2022-06-29T00:49:59.617789Z"
    },
    "trusted": true
   },
   "outputs": [],
   "source": [
    "df['Timestamp'] = pd.to_datetime(df['Timestamp'])"
   ]
  },
  {
   "cell_type": "code",
   "execution_count": null,
   "metadata": {
    "execution": {
     "iopub.execute_input": "2022-06-29T00:49:59.634747Z",
     "iopub.status.busy": "2022-06-29T00:49:59.634027Z",
     "iopub.status.idle": "2022-06-29T00:49:59.663509Z",
     "shell.execute_reply": "2022-06-29T00:49:59.662744Z",
     "shell.execute_reply.started": "2022-06-29T00:49:59.634698Z"
    },
    "trusted": true
   },
   "outputs": [],
   "source": [
    "df"
   ]
  },
  {
   "cell_type": "code",
   "execution_count": null,
   "metadata": {
    "execution": {
     "iopub.execute_input": "2022-06-29T00:49:59.665324Z",
     "iopub.status.busy": "2022-06-29T00:49:59.664453Z",
     "iopub.status.idle": "2022-06-29T00:49:59.669251Z",
     "shell.execute_reply": "2022-06-29T00:49:59.668401Z",
     "shell.execute_reply.started": "2022-06-29T00:49:59.665283Z"
    },
    "trusted": true
   },
   "outputs": [],
   "source": [
    "#IMP - read_csv function can take multiple commands and with 5-6 lines of code in one cell;\n",
    "#all the process above done can be done\n",
    "\n",
    "#isna,notna, fillna, replace, duplicated, drop_na, drop_duplicated, contains, \n",
    "#split etc.. are very useful functions in data cleaning"
   ]
  }
 ],
 "metadata": {
  "kernelspec": {
   "display_name": "Python 3 (ipykernel)",
   "language": "python",
   "name": "python3"
  },
  "language_info": {
   "codemirror_mode": {
    "name": "ipython",
    "version": 3
   },
   "file_extension": ".py",
   "mimetype": "text/x-python",
   "name": "python",
   "nbconvert_exporter": "python",
   "pygments_lexer": "ipython3",
   "version": "3.10.8"
  },
  "orig_nbformat": 4,
  "vscode": {
   "interpreter": {
    "hash": "767d51c1340bd893661ea55ea3124f6de3c7a262a8b4abca0554b478b1e2ff90"
   }
  }
 },
 "nbformat": 4,
 "nbformat_minor": 2
}
