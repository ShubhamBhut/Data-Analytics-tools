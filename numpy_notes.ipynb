{
 "cells": [
  {
   "cell_type": "code",
   "execution_count": null,
   "metadata": {},
   "outputs": [
    {
     "name": "stdout",
     "output_type": "stream",
     "text": [
      "Defaulting to user installation because normal site-packages is not writeable\n",
      "Requirement already satisfied: pandas in /home/kailorston/.local/lib/python3.10/site-packages (1.5.0)\n",
      "Requirement already satisfied: numpy>=1.21.0 in /home/kailorston/.local/lib/python3.10/site-packages (from pandas) (1.23.3)\n",
      "Requirement already satisfied: python-dateutil>=2.8.1 in /home/kailorston/.local/lib/python3.10/site-packages (from pandas) (2.8.2)\n",
      "Requirement already satisfied: pytz>=2020.1 in /home/kailorston/.local/lib/python3.10/site-packages (from pandas) (2022.4)\n",
      "Requirement already satisfied: six>=1.5 in /usr/lib/python3.10/site-packages (from python-dateutil>=2.8.1->pandas) (1.16.0)\n"
     ]
    }
   ],
   "source": [
    "import numpy as np"
   ]
  },
  {
   "cell_type": "code",
   "execution_count": null,
   "metadata": {
    "execution": {
     "iopub.execute_input": "2023-02-02T06:00:38.516581Z",
     "iopub.status.busy": "2023-02-02T06:00:38.516127Z",
     "iopub.status.idle": "2023-02-02T06:00:38.522555Z",
     "shell.execute_reply": "2023-02-02T06:00:38.521231Z",
     "shell.execute_reply.started": "2023-02-02T06:00:38.516545Z"
    },
    "trusted": true
   },
   "outputs": [],
   "source": [
    "#Numpy begins\n",
    "a = np.array([1,2,3,4])\n",
    "b = np.array([5,6,7,8])"
   ]
  },
  {
   "cell_type": "code",
   "execution_count": null,
   "metadata": {
    "execution": {
     "iopub.execute_input": "2023-02-02T06:00:41.116240Z",
     "iopub.status.busy": "2023-02-02T06:00:41.115815Z",
     "iopub.status.idle": "2023-02-02T06:00:41.125385Z",
     "shell.execute_reply": "2023-02-02T06:00:41.124400Z",
     "shell.execute_reply.started": "2023-02-02T06:00:41.116207Z"
    },
    "trusted": true
   },
   "outputs": [
    {
     "data": {
      "text/plain": [
       "array([2, 3])"
      ]
     },
     "metadata": {},
     "output_type": "display_data"
    }
   ],
   "source": [
    "#slicing works just like in python\n",
    "a[1:3]"
   ]
  },
  {
   "cell_type": "code",
   "execution_count": null,
   "metadata": {
    "execution": {
     "iopub.execute_input": "2023-02-02T06:00:42.316532Z",
     "iopub.status.busy": "2023-02-02T06:00:42.316120Z",
     "iopub.status.idle": "2023-02-02T06:00:42.323355Z",
     "shell.execute_reply": "2023-02-02T06:00:42.322335Z",
     "shell.execute_reply.started": "2023-02-02T06:00:42.316499Z"
    },
    "trusted": true
   },
   "outputs": [
    {
     "data": {
      "text/plain": [
       "array([5, 7, 6])"
      ]
     },
     "metadata": {},
     "output_type": "display_data"
    }
   ],
   "source": [
    "# Multiple indexing\n",
    "b[[0,2,1]]"
   ]
  },
  {
   "cell_type": "code",
   "execution_count": null,
   "metadata": {
    "execution": {
     "iopub.execute_input": "2023-02-02T06:00:43.568398Z",
     "iopub.status.busy": "2023-02-02T06:00:43.565959Z",
     "iopub.status.idle": "2023-02-02T06:00:43.575180Z",
     "shell.execute_reply": "2023-02-02T06:00:43.574064Z",
     "shell.execute_reply.started": "2023-02-02T06:00:43.568351Z"
    },
    "trusted": true
   },
   "outputs": [
    {
     "name": "stdout",
     "output_type": "stream",
     "text": [
      "int64\n",
      "int8\n"
     ]
    }
   ],
   "source": [
    "print(a.dtype)\n",
    "a = np.array([1,2,3,4],dtype=np.int8)\n",
    "print(a.dtype)"
   ]
  },
  {
   "cell_type": "code",
   "execution_count": null,
   "metadata": {
    "execution": {
     "iopub.execute_input": "2023-02-02T06:01:08.802259Z",
     "iopub.status.busy": "2023-02-02T06:01:08.801847Z",
     "iopub.status.idle": "2023-02-02T06:01:08.807360Z",
     "shell.execute_reply": "2023-02-02T06:01:08.806334Z",
     "shell.execute_reply.started": "2023-02-02T06:01:08.802224Z"
    },
    "trusted": true
   },
   "outputs": [],
   "source": [
    "c = np.array([[1,2,3],\n",
    "          [4,5,6]\n",
    "         ])"
   ]
  },
  {
   "cell_type": "code",
   "execution_count": null,
   "metadata": {
    "execution": {
     "iopub.execute_input": "2023-02-02T06:01:11.516270Z",
     "iopub.status.busy": "2023-02-02T06:01:11.515823Z",
     "iopub.status.idle": "2023-02-02T06:01:11.523214Z",
     "shell.execute_reply": "2023-02-02T06:01:11.522064Z",
     "shell.execute_reply.started": "2023-02-02T06:01:11.516232Z"
    },
    "trusted": true
   },
   "outputs": [
    {
     "data": {
      "text/plain": [
       "(2, 3)"
      ]
     },
     "metadata": {},
     "output_type": "display_data"
    }
   ],
   "source": [
    "c.shape"
   ]
  },
  {
   "cell_type": "code",
   "execution_count": null,
   "metadata": {
    "execution": {
     "iopub.execute_input": "2023-02-02T06:01:17.583428Z",
     "iopub.status.busy": "2023-02-02T06:01:17.582912Z",
     "iopub.status.idle": "2023-02-02T06:01:17.589383Z",
     "shell.execute_reply": "2023-02-02T06:01:17.588181Z",
     "shell.execute_reply.started": "2023-02-02T06:01:17.583387Z"
    },
    "trusted": true
   },
   "outputs": [
    {
     "name": "stdout",
     "output_type": "stream",
     "text": [
      "2\n",
      "6\n"
     ]
    }
   ],
   "source": [
    "#dimensions\n",
    "print(c.ndim)\n",
    "#size\n",
    "print(c.size)"
   ]
  },
  {
   "cell_type": "code",
   "execution_count": null,
   "metadata": {
    "execution": {
     "iopub.execute_input": "2023-02-02T06:01:21.966834Z",
     "iopub.status.busy": "2023-02-02T06:01:21.966372Z",
     "iopub.status.idle": "2023-02-02T06:01:21.972240Z",
     "shell.execute_reply": "2023-02-02T06:01:21.971197Z",
     "shell.execute_reply.started": "2023-02-02T06:01:21.966775Z"
    },
    "trusted": true
   },
   "outputs": [],
   "source": [
    "d = np.array([[1,2,3],\n",
    "             [4,5,6],\n",
    "             [7,8,9]])"
   ]
  },
  {
   "cell_type": "code",
   "execution_count": null,
   "metadata": {
    "execution": {
     "iopub.execute_input": "2023-02-02T06:01:28.578186Z",
     "iopub.status.busy": "2023-02-02T06:01:28.577025Z",
     "iopub.status.idle": "2023-02-02T06:01:28.584177Z",
     "shell.execute_reply": "2023-02-02T06:01:28.583214Z",
     "shell.execute_reply.started": "2023-02-02T06:01:28.578141Z"
    },
    "trusted": true
   },
   "outputs": [
    {
     "data": {
      "text/plain": [
       "array([4, 5, 6])"
      ]
     },
     "metadata": {},
     "output_type": "display_data"
    }
   ],
   "source": [
    "d[1]"
   ]
  },
  {
   "cell_type": "code",
   "execution_count": null,
   "metadata": {
    "execution": {
     "iopub.execute_input": "2023-02-02T06:01:29.156025Z",
     "iopub.status.busy": "2023-02-02T06:01:29.155601Z",
     "iopub.status.idle": "2023-02-02T06:01:29.162822Z",
     "shell.execute_reply": "2023-02-02T06:01:29.161881Z",
     "shell.execute_reply.started": "2023-02-02T06:01:29.155991Z"
    },
    "trusted": true
   },
   "outputs": [
    {
     "data": {
      "text/plain": [
       "4"
      ]
     },
     "metadata": {},
     "output_type": "display_data"
    }
   ],
   "source": [
    "d[1,0]"
   ]
  },
  {
   "cell_type": "code",
   "execution_count": null,
   "metadata": {
    "execution": {
     "iopub.execute_input": "2023-02-02T06:01:30.016361Z",
     "iopub.status.busy": "2023-02-02T06:01:30.015904Z",
     "iopub.status.idle": "2023-02-02T06:01:30.022892Z",
     "shell.execute_reply": "2023-02-02T06:01:30.021931Z",
     "shell.execute_reply.started": "2023-02-02T06:01:30.016327Z"
    },
    "trusted": true
   },
   "outputs": [
    {
     "data": {
      "text/plain": [
       "4"
      ]
     },
     "metadata": {},
     "output_type": "display_data"
    }
   ],
   "source": [
    "d[1][0]"
   ]
  },
  {
   "cell_type": "code",
   "execution_count": null,
   "metadata": {
    "execution": {
     "iopub.execute_input": "2023-02-02T06:01:32.296480Z",
     "iopub.status.busy": "2023-02-02T06:01:32.296043Z",
     "iopub.status.idle": "2023-02-02T06:01:32.303345Z",
     "shell.execute_reply": "2023-02-02T06:01:32.302342Z",
     "shell.execute_reply.started": "2023-02-02T06:01:32.296443Z"
    },
    "trusted": true
   },
   "outputs": [
    {
     "data": {
      "text/plain": [
       "array([[1, 2, 3],\n",
       "       [4, 5, 6],\n",
       "       [7, 8, 9]])"
      ]
     },
     "metadata": {},
     "output_type": "display_data"
    }
   ],
   "source": [
    "d"
   ]
  },
  {
   "cell_type": "code",
   "execution_count": null,
   "metadata": {
    "execution": {
     "iopub.execute_input": "2023-02-02T06:01:33.280835Z",
     "iopub.status.busy": "2023-02-02T06:01:33.280419Z",
     "iopub.status.idle": "2023-02-02T06:01:33.287353Z",
     "shell.execute_reply": "2023-02-02T06:01:33.286407Z",
     "shell.execute_reply.started": "2023-02-02T06:01:33.280803Z"
    },
    "trusted": true
   },
   "outputs": [
    {
     "data": {
      "text/plain": [
       "45"
      ]
     },
     "metadata": {},
     "output_type": "display_data"
    }
   ],
   "source": [
    "d.sum()"
   ]
  },
  {
   "cell_type": "code",
   "execution_count": null,
   "metadata": {
    "execution": {
     "iopub.execute_input": "2023-02-02T06:01:34.116394Z",
     "iopub.status.busy": "2023-02-02T06:01:34.115948Z",
     "iopub.status.idle": "2023-02-02T06:01:34.124246Z",
     "shell.execute_reply": "2023-02-02T06:01:34.123066Z",
     "shell.execute_reply.started": "2023-02-02T06:01:34.116359Z"
    },
    "trusted": true
   },
   "outputs": [
    {
     "data": {
      "text/plain": [
       "5.0"
      ]
     },
     "metadata": {},
     "output_type": "display_data"
    }
   ],
   "source": [
    "d.mean()"
   ]
  },
  {
   "cell_type": "code",
   "execution_count": null,
   "metadata": {
    "execution": {
     "iopub.execute_input": "2023-02-02T06:01:37.786728Z",
     "iopub.status.busy": "2023-02-02T06:01:37.785708Z",
     "iopub.status.idle": "2023-02-02T06:01:37.794009Z",
     "shell.execute_reply": "2023-02-02T06:01:37.793062Z",
     "shell.execute_reply.started": "2023-02-02T06:01:37.786674Z"
    },
    "trusted": true
   },
   "outputs": [
    {
     "data": {
      "text/plain": [
       "array([12, 15, 18])"
      ]
     },
     "metadata": {},
     "output_type": "display_data"
    }
   ],
   "source": [
    "#Verticle\n",
    "d.sum(axis=0)"
   ]
  },
  {
   "cell_type": "code",
   "execution_count": null,
   "metadata": {
    "execution": {
     "iopub.execute_input": "2023-02-02T06:01:40.501900Z",
     "iopub.status.busy": "2023-02-02T06:01:40.501116Z",
     "iopub.status.idle": "2023-02-02T06:01:40.509255Z",
     "shell.execute_reply": "2023-02-02T06:01:40.508091Z",
     "shell.execute_reply.started": "2023-02-02T06:01:40.501852Z"
    },
    "trusted": true
   },
   "outputs": [
    {
     "data": {
      "text/plain": [
       "2.581988897471611"
      ]
     },
     "metadata": {},
     "output_type": "display_data"
    }
   ],
   "source": [
    "#standard deviation, can be taken by axies too\n",
    "d.std()"
   ]
  },
  {
   "cell_type": "code",
   "execution_count": null,
   "metadata": {
    "execution": {
     "iopub.execute_input": "2023-02-02T06:01:49.177385Z",
     "iopub.status.busy": "2023-02-02T06:01:49.176958Z",
     "iopub.status.idle": "2023-02-02T06:01:49.183650Z",
     "shell.execute_reply": "2023-02-02T06:01:49.182852Z",
     "shell.execute_reply.started": "2023-02-02T06:01:49.177351Z"
    },
    "trusted": true
   },
   "outputs": [
    {
     "data": {
      "text/plain": [
       "array([0, 1, 2, 3])"
      ]
     },
     "metadata": {},
     "output_type": "display_data"
    }
   ],
   "source": [
    "#vectorization and Broadcasting\n",
    "a = np.arange(4)\n",
    "a"
   ]
  },
  {
   "cell_type": "code",
   "execution_count": null,
   "metadata": {
    "execution": {
     "iopub.execute_input": "2023-02-02T06:01:52.006422Z",
     "iopub.status.busy": "2023-02-02T06:01:52.005942Z",
     "iopub.status.idle": "2023-02-02T06:01:52.013280Z",
     "shell.execute_reply": "2023-02-02T06:01:52.012064Z",
     "shell.execute_reply.started": "2023-02-02T06:01:52.006386Z"
    },
    "trusted": true
   },
   "outputs": [
    {
     "data": {
      "text/plain": [
       "array([5, 6, 7, 8])"
      ]
     },
     "metadata": {},
     "output_type": "display_data"
    }
   ],
   "source": [
    "a+5"
   ]
  },
  {
   "cell_type": "code",
   "execution_count": null,
   "metadata": {
    "execution": {
     "iopub.execute_input": "2023-02-02T06:01:59.281881Z",
     "iopub.status.busy": "2023-02-02T06:01:59.281452Z",
     "iopub.status.idle": "2023-02-02T06:01:59.287903Z",
     "shell.execute_reply": "2023-02-02T06:01:59.286961Z",
     "shell.execute_reply.started": "2023-02-02T06:01:59.281848Z"
    },
    "trusted": true
   },
   "outputs": [
    {
     "data": {
      "text/plain": [
       "array([0, 1, 2, 3])"
      ]
     },
     "metadata": {},
     "output_type": "display_data"
    }
   ],
   "source": [
    "a\n",
    "# note that this didn't affect original array, it created a new array of a+5, to pass it by reference, do a+=5"
   ]
  },
  {
   "cell_type": "code",
   "execution_count": null,
   "metadata": {
    "execution": {
     "iopub.execute_input": "2023-02-02T06:02:10.607248Z",
     "iopub.status.busy": "2023-02-02T06:02:10.606769Z",
     "iopub.status.idle": "2023-02-02T06:02:10.614180Z",
     "shell.execute_reply": "2023-02-02T06:02:10.613185Z",
     "shell.execute_reply.started": "2023-02-02T06:02:10.607210Z"
    },
    "trusted": true
   },
   "outputs": [
    {
     "data": {
      "text/plain": [
       "array([10, 11, 12, 13])"
      ]
     },
     "metadata": {},
     "output_type": "display_data"
    }
   ],
   "source": [
    "b = np.array([10,10,10,10])\n",
    "a+b"
   ]
  },
  {
   "cell_type": "code",
   "execution_count": null,
   "metadata": {
    "execution": {
     "iopub.execute_input": "2023-02-02T06:02:12.056600Z",
     "iopub.status.busy": "2023-02-02T06:02:12.056141Z",
     "iopub.status.idle": "2023-02-02T06:02:12.063112Z",
     "shell.execute_reply": "2023-02-02T06:02:12.062043Z",
     "shell.execute_reply.started": "2023-02-02T06:02:12.056556Z"
    },
    "trusted": true
   },
   "outputs": [
    {
     "data": {
      "text/plain": [
       "array([[1, 2, 3],\n",
       "       [4, 5, 6],\n",
       "       [7, 8, 9]])"
      ]
     },
     "metadata": {},
     "output_type": "display_data"
    }
   ],
   "source": [
    "d"
   ]
  },
  {
   "cell_type": "code",
   "execution_count": null,
   "metadata": {
    "execution": {
     "iopub.execute_input": "2023-02-02T06:02:21.222048Z",
     "iopub.status.busy": "2023-02-02T06:02:21.221632Z",
     "iopub.status.idle": "2023-02-02T06:02:21.227941Z",
     "shell.execute_reply": "2023-02-02T06:02:21.226717Z",
     "shell.execute_reply.started": "2023-02-02T06:02:21.222016Z"
    },
    "trusted": true
   },
   "outputs": [],
   "source": [
    "e = np.array([[6,5],\n",
    "                [4,3],\n",
    "                [2,1]])"
   ]
  },
  {
   "cell_type": "code",
   "execution_count": null,
   "metadata": {
    "execution": {
     "iopub.execute_input": "2023-02-02T06:02:21.636077Z",
     "iopub.status.busy": "2023-02-02T06:02:21.635646Z",
     "iopub.status.idle": "2023-02-02T06:02:21.642213Z",
     "shell.execute_reply": "2023-02-02T06:02:21.641162Z",
     "shell.execute_reply.started": "2023-02-02T06:02:21.636041Z"
    },
    "trusted": true
   },
   "outputs": [
    {
     "data": {
      "text/plain": [
       "array([[20, 14],\n",
       "       [56, 41],\n",
       "       [92, 68]])"
      ]
     },
     "metadata": {},
     "output_type": "display_data"
    }
   ],
   "source": [
    "np.dot(d,e)"
   ]
  },
  {
   "cell_type": "code",
   "execution_count": null,
   "metadata": {
    "execution": {
     "iopub.execute_input": "2023-02-02T06:02:22.606220Z",
     "iopub.status.busy": "2023-02-02T06:02:22.605796Z",
     "iopub.status.idle": "2023-02-02T06:02:22.613039Z",
     "shell.execute_reply": "2023-02-02T06:02:22.611994Z",
     "shell.execute_reply.started": "2023-02-02T06:02:22.606188Z"
    },
    "trusted": true
   },
   "outputs": [
    {
     "data": {
      "text/plain": [
       "array([[20, 14],\n",
       "       [56, 41],\n",
       "       [92, 68]])"
      ]
     },
     "metadata": {},
     "output_type": "display_data"
    }
   ],
   "source": [
    "d.dot(e)"
   ]
  },
  {
   "cell_type": "code",
   "execution_count": null,
   "metadata": {
    "execution": {
     "iopub.execute_input": "2023-02-02T06:02:26.921245Z",
     "iopub.status.busy": "2023-02-02T06:02:26.920692Z",
     "iopub.status.idle": "2023-02-02T06:02:26.927868Z",
     "shell.execute_reply": "2023-02-02T06:02:26.926898Z",
     "shell.execute_reply.started": "2023-02-02T06:02:26.921203Z"
    },
    "trusted": true
   },
   "outputs": [
    {
     "data": {
      "text/plain": [
       "array([[20, 14],\n",
       "       [56, 41],\n",
       "       [92, 68]])"
      ]
     },
     "metadata": {},
     "output_type": "display_data"
    }
   ],
   "source": [
    "d @ e"
   ]
  },
  {
   "cell_type": "code",
   "execution_count": null,
   "metadata": {
    "execution": {
     "iopub.execute_input": "2023-02-02T06:02:28.126408Z",
     "iopub.status.busy": "2023-02-02T06:02:28.126010Z",
     "iopub.status.idle": "2023-02-02T06:02:28.132880Z",
     "shell.execute_reply": "2023-02-02T06:02:28.132014Z",
     "shell.execute_reply.started": "2023-02-02T06:02:28.126375Z"
    },
    "trusted": true
   },
   "outputs": [
    {
     "data": {
      "text/plain": [
       "array([[-15,  18,  -7],\n",
       "       [-18,  24,  -8],\n",
       "       [ -9,  18,  -9]])"
      ]
     },
     "metadata": {},
     "output_type": "display_data"
    }
   ],
   "source": [
    "np.cross(d,e)"
   ]
  },
  {
   "cell_type": "code",
   "execution_count": null,
   "metadata": {
    "execution": {
     "iopub.execute_input": "2023-02-02T06:02:37.388057Z",
     "iopub.status.busy": "2023-02-02T06:02:37.387614Z",
     "iopub.status.idle": "2023-02-02T06:02:37.394652Z",
     "shell.execute_reply": "2023-02-02T06:02:37.393949Z",
     "shell.execute_reply.started": "2023-02-02T06:02:37.388017Z"
    },
    "trusted": true
   },
   "outputs": [
    {
     "data": {
      "text/plain": [
       "array([[1, 4, 7],\n",
       "       [2, 5, 8],\n",
       "       [3, 6, 9]])"
      ]
     },
     "metadata": {},
     "output_type": "display_data"
    }
   ],
   "source": [
    "#Transpose\n",
    "d.T"
   ]
  },
  {
   "cell_type": "code",
   "execution_count": null,
   "metadata": {
    "execution": {
     "iopub.execute_input": "2023-02-02T06:02:40.196004Z",
     "iopub.status.busy": "2023-02-02T06:02:40.195564Z",
     "iopub.status.idle": "2023-02-02T06:02:40.200335Z",
     "shell.execute_reply": "2023-02-02T06:02:40.199426Z",
     "shell.execute_reply.started": "2023-02-02T06:02:40.195955Z"
    },
    "trusted": true
   },
   "outputs": [],
   "source": [
    "#Reshape and linspace are also important concepts"
   ]
  },
  {
   "cell_type": "code",
   "execution_count": null,
   "metadata": {},
   "outputs": [],
   "source": []
  },
  {
   "cell_type": "code",
   "execution_count": null,
   "metadata": {},
   "outputs": [],
   "source": []
  }
 ],
 "metadata": {
  "kernelspec": {
   "display_name": "Python 3",
   "language": "python",
   "name": "python3"
  },
  "language_info": {
   "name": "python",
   "version": "3.11.0 (main, Oct 24 2022, 00:00:00) [GCC 12.2.1 20220819 (Red Hat 12.2.1-2)]"
  },
  "orig_nbformat": 4,
  "vscode": {
   "interpreter": {
    "hash": "ead1b95f633dc9c51826328e1846203f51a198c6fb5f2884a80417ba131d4e82"
   }
  }
 },
 "nbformat": 4,
 "nbformat_minor": 2
}
